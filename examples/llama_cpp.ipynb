{
 "cells": [
  {
   "cell_type": "code",
   "execution_count": 1,
   "id": "initial_id",
   "metadata": {
    "ExecuteTime": {
     "end_time": "2024-05-06T16:44:26.224361Z",
     "start_time": "2024-05-06T16:44:26.119966Z"
    }
   },
   "outputs": [],
   "source": [
    "from llama_cpp import Llama\n",
    "from rich import print\n",
    "from langchain_core.utils.function_calling import convert_to_openai_function\n",
    "from llama_cpp.llama_tokenizer import LlamaHFTokenizer"
   ]
  },
  {
   "cell_type": "code",
   "execution_count": 2,
   "id": "e44c801f84cca0e6",
   "metadata": {
    "ExecuteTime": {
     "end_time": "2024-05-06T16:44:43.489131Z",
     "start_time": "2024-05-06T16:44:42.966522Z"
    }
   },
   "outputs": [
    {
     "name": "stderr",
     "output_type": "stream",
     "text": [
      "Special tokens have been added in the vocabulary, make sure the associated word embeddings are fine-tuned or trained.\n"
     ]
    }
   ],
   "source": [
    "llm = Llama.from_pretrained(\n",
    "    repo_id=\"meetkai/functionary-small-v2.2-GGUF\",\n",
    "    filename=\"functionary-small-v2.2.q4_0.gguf\",\n",
    "    chat_format=\"functionary-v2\",\n",
    "    tokenizer=LlamaHFTokenizer.from_pretrained(\"meetkai/functionary-small-v2.2-GGUF\"),\n",
    "    n_gpu_layers=-1,\n",
    "    verbose=False,\n",
    ")"
   ]
  },
  {
   "cell_type": "code",
   "execution_count": 4,
   "id": "778c882e",
   "metadata": {},
   "outputs": [
    {
     "data": {
      "text/html": [
       "<pre style=\"white-space:pre;overflow-x:auto;line-height:normal;font-family:Menlo,'DejaVu Sans Mono',consolas,'Courier New',monospace\"><span style=\"font-weight: bold\">{</span>\n",
       "    <span style=\"color: #008000; text-decoration-color: #008000\">'name'</span>: <span style=\"color: #008000; text-decoration-color: #008000\">'get_current_weather'</span>,\n",
       "    <span style=\"color: #008000; text-decoration-color: #008000\">'description'</span>: <span style=\"color: #008000; text-decoration-color: #008000\">'get_current_weather(city: str) -&gt; str - Get the current weather for a given city.\\n\\n    </span>\n",
       "<span style=\"color: #008000; text-decoration-color: #008000\">Args:\\n      city (str): The city to fetch weather for.\\n\\n    Returns:\\n      str: current weather condition, or </span>\n",
       "<span style=\"color: #008000; text-decoration-color: #008000\">None if an error occurs.'</span>,\n",
       "    <span style=\"color: #008000; text-decoration-color: #008000\">'parameters'</span>: <span style=\"font-weight: bold\">{</span><span style=\"color: #008000; text-decoration-color: #008000\">'type'</span>: <span style=\"color: #008000; text-decoration-color: #008000\">'object'</span>, <span style=\"color: #008000; text-decoration-color: #008000\">'properties'</span>: <span style=\"font-weight: bold\">{</span><span style=\"color: #008000; text-decoration-color: #008000\">'city'</span>: <span style=\"font-weight: bold\">{</span><span style=\"color: #008000; text-decoration-color: #008000\">'type'</span>: <span style=\"color: #008000; text-decoration-color: #008000\">'string'</span><span style=\"font-weight: bold\">}}</span>, <span style=\"color: #008000; text-decoration-color: #008000\">'required'</span>: <span style=\"font-weight: bold\">[</span><span style=\"color: #008000; text-decoration-color: #008000\">'city'</span><span style=\"font-weight: bold\">]}</span>\n",
       "<span style=\"font-weight: bold\">}</span>\n",
       "</pre>\n"
      ],
      "text/plain": [
       "\u001b[1m{\u001b[0m\n",
       "    \u001b[32m'name'\u001b[0m: \u001b[32m'get_current_weather'\u001b[0m,\n",
       "    \u001b[32m'description'\u001b[0m: \u001b[32m'get_current_weather\u001b[0m\u001b[32m(\u001b[0m\u001b[32mcity: str\u001b[0m\u001b[32m)\u001b[0m\u001b[32m -> str - Get the current weather for a given city.\\n\\n    \u001b[0m\n",
       "\u001b[32mArgs:\\n      city \u001b[0m\u001b[32m(\u001b[0m\u001b[32mstr\u001b[0m\u001b[32m)\u001b[0m\u001b[32m: The city to fetch weather for.\\n\\n    Returns:\\n      str: current weather condition, or \u001b[0m\n",
       "\u001b[32mNone if an error occurs.'\u001b[0m,\n",
       "    \u001b[32m'parameters'\u001b[0m: \u001b[1m{\u001b[0m\u001b[32m'type'\u001b[0m: \u001b[32m'object'\u001b[0m, \u001b[32m'properties'\u001b[0m: \u001b[1m{\u001b[0m\u001b[32m'city'\u001b[0m: \u001b[1m{\u001b[0m\u001b[32m'type'\u001b[0m: \u001b[32m'string'\u001b[0m\u001b[1m}\u001b[0m\u001b[1m}\u001b[0m, \u001b[32m'required'\u001b[0m: \u001b[1m[\u001b[0m\u001b[32m'city'\u001b[0m\u001b[1m]\u001b[0m\u001b[1m}\u001b[0m\n",
       "\u001b[1m}\u001b[0m\n"
      ]
     },
     "metadata": {},
     "output_type": "display_data"
    }
   ],
   "source": [
    "from agents.tools import get_current_weather\n",
    "\n",
    "oai_tool = convert_to_openai_function(get_current_weather)\n",
    "print(oai_tool)"
   ]
  },
  {
   "cell_type": "code",
   "execution_count": 6,
   "id": "177bd2eb663c7f09",
   "metadata": {},
   "outputs": [
    {
     "data": {
      "text/html": [
       "<pre style=\"white-space:pre;overflow-x:auto;line-height:normal;font-family:Menlo,'DejaVu Sans Mono',consolas,'Courier New',monospace\"><span style=\"font-weight: bold\">{</span>\n",
       "    <span style=\"color: #008000; text-decoration-color: #008000\">'id'</span>: <span style=\"color: #008000; text-decoration-color: #008000\">'chatcmpl-339bfd4b-f22c-45a2-9265-40906eadafa9'</span>,\n",
       "    <span style=\"color: #008000; text-decoration-color: #008000\">'object'</span>: <span style=\"color: #008000; text-decoration-color: #008000\">'chat.completion'</span>,\n",
       "    <span style=\"color: #008000; text-decoration-color: #008000\">'created'</span>: <span style=\"color: #008080; text-decoration-color: #008080; font-weight: bold\">1715032029</span>,\n",
       "    <span style=\"color: #008000; text-decoration-color: #008000\">'model'</span>: \n",
       "<span style=\"color: #008000; text-decoration-color: #008000\">'/Users/aniket/.cache/huggingface/hub/models--meetkai--functionary-small-v2.2-GGUF/snapshots/9971ff5d1eacbfac81fe69</span>\n",
       "<span style=\"color: #008000; text-decoration-color: #008000\">39bccd59cf7d668078/./functionary-small-v2.2.q4_0.gguf'</span>,\n",
       "    <span style=\"color: #008000; text-decoration-color: #008000\">'choices'</span>: <span style=\"font-weight: bold\">[</span>\n",
       "        <span style=\"font-weight: bold\">{</span>\n",
       "            <span style=\"color: #008000; text-decoration-color: #008000\">'index'</span>: <span style=\"color: #008080; text-decoration-color: #008080; font-weight: bold\">0</span>,\n",
       "            <span style=\"color: #008000; text-decoration-color: #008000\">'logprobs'</span>: <span style=\"color: #800080; text-decoration-color: #800080; font-style: italic\">None</span>,\n",
       "            <span style=\"color: #008000; text-decoration-color: #008000\">'message'</span>: <span style=\"font-weight: bold\">{</span>\n",
       "                <span style=\"color: #008000; text-decoration-color: #008000\">'role'</span>: <span style=\"color: #008000; text-decoration-color: #008000\">'assistant'</span>,\n",
       "                <span style=\"color: #008000; text-decoration-color: #008000\">'content'</span>: <span style=\"color: #800080; text-decoration-color: #800080; font-style: italic\">None</span>,\n",
       "                <span style=\"color: #008000; text-decoration-color: #008000\">'tool_calls'</span>: <span style=\"font-weight: bold\">[</span>\n",
       "                    <span style=\"font-weight: bold\">{</span>\n",
       "                        <span style=\"color: #008000; text-decoration-color: #008000\">'id'</span>: <span style=\"color: #008000; text-decoration-color: #008000\">'call_YKQmVTO2Alwas834Yzf1UpJp'</span>,\n",
       "                        <span style=\"color: #008000; text-decoration-color: #008000\">'type'</span>: <span style=\"color: #008000; text-decoration-color: #008000\">'function'</span>,\n",
       "                        <span style=\"color: #008000; text-decoration-color: #008000\">'function'</span>: <span style=\"font-weight: bold\">{</span><span style=\"color: #008000; text-decoration-color: #008000\">'name'</span>: <span style=\"color: #008000; text-decoration-color: #008000\">'get_current_weather'</span>, <span style=\"color: #008000; text-decoration-color: #008000\">'arguments'</span>: <span style=\"color: #008000; text-decoration-color: #008000\">'{\"city\": \"London\"}'</span><span style=\"font-weight: bold\">}</span>\n",
       "                    <span style=\"font-weight: bold\">}</span>\n",
       "                <span style=\"font-weight: bold\">]</span>\n",
       "            <span style=\"font-weight: bold\">}</span>,\n",
       "            <span style=\"color: #008000; text-decoration-color: #008000\">'finish_reason'</span>: <span style=\"color: #008000; text-decoration-color: #008000\">'tool_calls'</span>\n",
       "        <span style=\"font-weight: bold\">}</span>\n",
       "    <span style=\"font-weight: bold\">]</span>,\n",
       "    <span style=\"color: #008000; text-decoration-color: #008000\">'usage'</span>: <span style=\"font-weight: bold\">{</span><span style=\"color: #008000; text-decoration-color: #008000\">'prompt_tokens'</span>: <span style=\"color: #008080; text-decoration-color: #008080; font-weight: bold\">200</span>, <span style=\"color: #008000; text-decoration-color: #008000\">'completion_tokens'</span>: <span style=\"color: #008080; text-decoration-color: #008080; font-weight: bold\">16</span>, <span style=\"color: #008000; text-decoration-color: #008000\">'total_tokens'</span>: <span style=\"color: #008080; text-decoration-color: #008080; font-weight: bold\">201</span><span style=\"font-weight: bold\">}</span>\n",
       "<span style=\"font-weight: bold\">}</span>\n",
       "</pre>\n"
      ],
      "text/plain": [
       "\u001b[1m{\u001b[0m\n",
       "    \u001b[32m'id'\u001b[0m: \u001b[32m'chatcmpl-339bfd4b-f22c-45a2-9265-40906eadafa9'\u001b[0m,\n",
       "    \u001b[32m'object'\u001b[0m: \u001b[32m'chat.completion'\u001b[0m,\n",
       "    \u001b[32m'created'\u001b[0m: \u001b[1;36m1715032029\u001b[0m,\n",
       "    \u001b[32m'model'\u001b[0m: \n",
       "\u001b[32m'/Users/aniket/.cache/huggingface/hub/models--meetkai--functionary-small-v2.2-GGUF/snapshots/9971ff5d1eacbfac81fe69\u001b[0m\n",
       "\u001b[32m39bccd59cf7d668078/./functionary-small-v2.2.q4_0.gguf'\u001b[0m,\n",
       "    \u001b[32m'choices'\u001b[0m: \u001b[1m[\u001b[0m\n",
       "        \u001b[1m{\u001b[0m\n",
       "            \u001b[32m'index'\u001b[0m: \u001b[1;36m0\u001b[0m,\n",
       "            \u001b[32m'logprobs'\u001b[0m: \u001b[3;35mNone\u001b[0m,\n",
       "            \u001b[32m'message'\u001b[0m: \u001b[1m{\u001b[0m\n",
       "                \u001b[32m'role'\u001b[0m: \u001b[32m'assistant'\u001b[0m,\n",
       "                \u001b[32m'content'\u001b[0m: \u001b[3;35mNone\u001b[0m,\n",
       "                \u001b[32m'tool_calls'\u001b[0m: \u001b[1m[\u001b[0m\n",
       "                    \u001b[1m{\u001b[0m\n",
       "                        \u001b[32m'id'\u001b[0m: \u001b[32m'call_YKQmVTO2Alwas834Yzf1UpJp'\u001b[0m,\n",
       "                        \u001b[32m'type'\u001b[0m: \u001b[32m'function'\u001b[0m,\n",
       "                        \u001b[32m'function'\u001b[0m: \u001b[1m{\u001b[0m\u001b[32m'name'\u001b[0m: \u001b[32m'get_current_weather'\u001b[0m, \u001b[32m'arguments'\u001b[0m: \u001b[32m'\u001b[0m\u001b[32m{\u001b[0m\u001b[32m\"city\": \"London\"\u001b[0m\u001b[32m}\u001b[0m\u001b[32m'\u001b[0m\u001b[1m}\u001b[0m\n",
       "                    \u001b[1m}\u001b[0m\n",
       "                \u001b[1m]\u001b[0m\n",
       "            \u001b[1m}\u001b[0m,\n",
       "            \u001b[32m'finish_reason'\u001b[0m: \u001b[32m'tool_calls'\u001b[0m\n",
       "        \u001b[1m}\u001b[0m\n",
       "    \u001b[1m]\u001b[0m,\n",
       "    \u001b[32m'usage'\u001b[0m: \u001b[1m{\u001b[0m\u001b[32m'prompt_tokens'\u001b[0m: \u001b[1;36m200\u001b[0m, \u001b[32m'completion_tokens'\u001b[0m: \u001b[1;36m16\u001b[0m, \u001b[32m'total_tokens'\u001b[0m: \u001b[1;36m201\u001b[0m\u001b[1m}\u001b[0m\n",
       "\u001b[1m}\u001b[0m\n"
      ]
     },
     "metadata": {},
     "output_type": "display_data"
    }
   ],
   "source": [
    "output = llm.create_chat_completion(\n",
    "    messages=[{\"role\": \"user\", \"content\": \"How is the weather in London today?\"}],\n",
    "    tools=[{\"type\": \"function\", \"function\": oai_tool}],\n",
    ")\n",
    "\n",
    "print(output)"
   ]
  },
  {
   "cell_type": "code",
   "execution_count": 22,
   "id": "90f2d083",
   "metadata": {},
   "outputs": [
    {
     "data": {
      "text/plain": [
       "{'id': 'chatcmpl-339bfd4b-f22c-45a2-9265-40906eadafa9',\n",
       " 'object': 'chat.completion',\n",
       " 'created': 1715032029,\n",
       " 'model': '/Users/aniket/.cache/huggingface/hub/models--meetkai--functionary-small-v2.2-GGUF/snapshots/9971ff5d1eacbfac81fe6939bccd59cf7d668078/./functionary-small-v2.2.q4_0.gguf',\n",
       " 'choices': [{'index': 0,\n",
       "   'logprobs': None,\n",
       "   'message': {'role': 'assistant',\n",
       "    'content': None,\n",
       "    'tool_calls': [{'id': 'call_YKQmVTO2Alwas834Yzf1UpJp',\n",
       "      'type': 'function',\n",
       "      'function': {'name': 'get_current_weather',\n",
       "       'arguments': '{\"city\": \"London\"}'}}]},\n",
       "   'finish_reason': 'tool_calls'}],\n",
       " 'usage': {'prompt_tokens': 200, 'completion_tokens': 16, 'total_tokens': 201}}"
      ]
     },
     "execution_count": 22,
     "metadata": {},
     "output_type": "execute_result"
    }
   ],
   "source": [
    "output"
   ]
  },
  {
   "cell_type": "code",
   "execution_count": 19,
   "id": "60e4dcc1",
   "metadata": {},
   "outputs": [],
   "source": [
    "c = ChatCompletion(**output)"
   ]
  },
  {
   "cell_type": "code",
   "execution_count": null,
   "id": "d8906424",
   "metadata": {},
   "outputs": [],
   "source": []
  }
 ],
 "metadata": {
  "kernelspec": {
   "display_name": "Python 3 (ipykernel)",
   "language": "python",
   "name": "python3"
  },
  "language_info": {
   "codemirror_mode": {
    "name": "ipython",
    "version": 3
   },
   "file_extension": ".py",
   "mimetype": "text/x-python",
   "name": "python",
   "nbconvert_exporter": "python",
   "pygments_lexer": "ipython3",
   "version": "3.10.13"
  }
 },
 "nbformat": 4,
 "nbformat_minor": 5
}
