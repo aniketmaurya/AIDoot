{
 "cells": [
  {
   "cell_type": "code",
   "execution_count": 1,
   "id": "initial_id",
   "metadata": {
    "ExecuteTime": {
     "end_time": "2024-05-06T16:44:26.224361Z",
     "start_time": "2024-05-06T16:44:26.119966Z"
    }
   },
   "outputs": [],
   "source": [
    "from llama_cpp import Llama\n",
    "from rich import print\n",
    "from langchain_core.utils.function_calling import convert_to_openai_function\n",
    "from llama_cpp.llama_tokenizer import LlamaHFTokenizer\n",
    "\n",
    "from agents.specs import ChatCompletion\n",
    "from agents.tool_executor import ToolRegistry"
   ]
  },
  {
   "cell_type": "code",
   "execution_count": 2,
   "id": "e44c801f84cca0e6",
   "metadata": {
    "ExecuteTime": {
     "end_time": "2024-05-06T16:44:43.489131Z",
     "start_time": "2024-05-06T16:44:42.966522Z"
    }
   },
   "outputs": [
    {
     "name": "stderr",
     "output_type": "stream",
     "text": [
      "Special tokens have been added in the vocabulary, make sure the associated word embeddings are fine-tuned or trained.\n"
     ]
    }
   ],
   "source": [
    "llm = Llama.from_pretrained(\n",
    "    repo_id=\"meetkai/functionary-small-v2.2-GGUF\",\n",
    "    filename=\"functionary-small-v2.2.q4_0.gguf\",\n",
    "    chat_format=\"functionary-v2\",\n",
    "    tokenizer=LlamaHFTokenizer.from_pretrained(\"meetkai/functionary-small-v2.2-GGUF\"),\n",
    "    n_gpu_layers=-1,\n",
    "    verbose=False,\n",
    ")"
   ]
  },
  {
   "cell_type": "code",
   "execution_count": 12,
   "id": "778c882e",
   "metadata": {},
   "outputs": [
    {
     "data": {
      "text/html": [
       "<pre style=\"white-space:pre;overflow-x:auto;line-height:normal;font-family:Menlo,'DejaVu Sans Mono',consolas,'Courier New',monospace\"><span style=\"font-weight: bold\">{</span>\n",
       "    <span style=\"color: #008000; text-decoration-color: #008000\">'name'</span>: <span style=\"color: #008000; text-decoration-color: #008000\">'get_current_weather'</span>,\n",
       "    <span style=\"color: #008000; text-decoration-color: #008000\">'description'</span>: <span style=\"color: #008000; text-decoration-color: #008000\">'get_current_weather(city: str) -&gt; dict - Get the current weather for a given city.\\n\\n    </span>\n",
       "<span style=\"color: #008000; text-decoration-color: #008000\">Args:\\n      city (str): The city to fetch weather for.\\n\\n    Returns:\\n      str: current weather condition, or </span>\n",
       "<span style=\"color: #008000; text-decoration-color: #008000\">None if an error occurs.'</span>,\n",
       "    <span style=\"color: #008000; text-decoration-color: #008000\">'parameters'</span>: <span style=\"font-weight: bold\">{</span><span style=\"color: #008000; text-decoration-color: #008000\">'type'</span>: <span style=\"color: #008000; text-decoration-color: #008000\">'object'</span>, <span style=\"color: #008000; text-decoration-color: #008000\">'properties'</span>: <span style=\"font-weight: bold\">{</span><span style=\"color: #008000; text-decoration-color: #008000\">'city'</span>: <span style=\"font-weight: bold\">{</span><span style=\"color: #008000; text-decoration-color: #008000\">'type'</span>: <span style=\"color: #008000; text-decoration-color: #008000\">'string'</span><span style=\"font-weight: bold\">}}</span>, <span style=\"color: #008000; text-decoration-color: #008000\">'required'</span>: <span style=\"font-weight: bold\">[</span><span style=\"color: #008000; text-decoration-color: #008000\">'city'</span><span style=\"font-weight: bold\">]}</span>\n",
       "<span style=\"font-weight: bold\">}</span>\n",
       "</pre>\n"
      ],
      "text/plain": [
       "\u001b[1m{\u001b[0m\n",
       "    \u001b[32m'name'\u001b[0m: \u001b[32m'get_current_weather'\u001b[0m,\n",
       "    \u001b[32m'description'\u001b[0m: \u001b[32m'get_current_weather\u001b[0m\u001b[32m(\u001b[0m\u001b[32mcity: str\u001b[0m\u001b[32m)\u001b[0m\u001b[32m -> dict - Get the current weather for a given city.\\n\\n    \u001b[0m\n",
       "\u001b[32mArgs:\\n      city \u001b[0m\u001b[32m(\u001b[0m\u001b[32mstr\u001b[0m\u001b[32m)\u001b[0m\u001b[32m: The city to fetch weather for.\\n\\n    Returns:\\n      str: current weather condition, or \u001b[0m\n",
       "\u001b[32mNone if an error occurs.'\u001b[0m,\n",
       "    \u001b[32m'parameters'\u001b[0m: \u001b[1m{\u001b[0m\u001b[32m'type'\u001b[0m: \u001b[32m'object'\u001b[0m, \u001b[32m'properties'\u001b[0m: \u001b[1m{\u001b[0m\u001b[32m'city'\u001b[0m: \u001b[1m{\u001b[0m\u001b[32m'type'\u001b[0m: \u001b[32m'string'\u001b[0m\u001b[1m}\u001b[0m\u001b[1m}\u001b[0m, \u001b[32m'required'\u001b[0m: \u001b[1m[\u001b[0m\u001b[32m'city'\u001b[0m\u001b[1m]\u001b[0m\u001b[1m}\u001b[0m\n",
       "\u001b[1m}\u001b[0m\n"
      ]
     },
     "metadata": {},
     "output_type": "display_data"
    }
   ],
   "source": [
    "from agents.tools import get_current_weather\n",
    "\n",
    "oai_tool = convert_to_openai_function(get_current_weather)\n",
    "print(oai_tool)\n",
    "\n",
    "registry = ToolRegistry()\n",
    "registry.register_tool(get_current_weather)"
   ]
  },
  {
   "cell_type": "code",
   "execution_count": 15,
   "id": "177bd2eb663c7f09",
   "metadata": {},
   "outputs": [],
   "source": [
    "output = llm.create_chat_completion(\n",
    "    messages=[{\"role\": \"user\", \"content\": \"How is the weather in SF today?\"}],\n",
    "    tools=[{\"type\": \"function\", \"function\": oai_tool}],\n",
    ")\n",
    "\n",
    "output = ChatCompletion(**output)"
   ]
  },
  {
   "cell_type": "code",
   "execution_count": 16,
   "id": "defca8b4",
   "metadata": {},
   "outputs": [
    {
     "data": {
      "text/html": [
       "<pre style=\"white-space:pre;overflow-x:auto;line-height:normal;font-family:Menlo,'DejaVu Sans Mono',consolas,'Courier New',monospace\"><span style=\"font-weight: bold\">[</span>\n",
       "    <span style=\"font-weight: bold\">{</span>\n",
       "        <span style=\"color: #008000; text-decoration-color: #008000\">'tool_call_id'</span>: <span style=\"color: #008000; text-decoration-color: #008000\">'call_rHAK9zzYnIYYoU0zS2McvPeE'</span>,\n",
       "        <span style=\"color: #008000; text-decoration-color: #008000\">'role'</span>: <span style=\"color: #008000; text-decoration-color: #008000\">'tool'</span>,\n",
       "        <span style=\"color: #008000; text-decoration-color: #008000\">'name'</span>: <span style=\"color: #008000; text-decoration-color: #008000\">'get_current_weather'</span>,\n",
       "        <span style=\"color: #008000; text-decoration-color: #008000\">'content'</span>: <span style=\"font-weight: bold\">[</span>\n",
       "            <span style=\"font-weight: bold\">{</span>\n",
       "                <span style=\"color: #008000; text-decoration-color: #008000\">'FeelsLikeC'</span>: <span style=\"color: #008000; text-decoration-color: #008000\">'13'</span>,\n",
       "                <span style=\"color: #008000; text-decoration-color: #008000\">'FeelsLikeF'</span>: <span style=\"color: #008000; text-decoration-color: #008000\">'56'</span>,\n",
       "                <span style=\"color: #008000; text-decoration-color: #008000\">'cloudcover'</span>: <span style=\"color: #008000; text-decoration-color: #008000\">'75'</span>,\n",
       "                <span style=\"color: #008000; text-decoration-color: #008000\">'humidity'</span>: <span style=\"color: #008000; text-decoration-color: #008000\">'94'</span>,\n",
       "                <span style=\"color: #008000; text-decoration-color: #008000\">'localObsDateTime'</span>: <span style=\"color: #008000; text-decoration-color: #008000\">'2024-05-06 08:35 PM'</span>,\n",
       "                <span style=\"color: #008000; text-decoration-color: #008000\">'observation_time'</span>: <span style=\"color: #008000; text-decoration-color: #008000\">'07:35 PM'</span>,\n",
       "                <span style=\"color: #008000; text-decoration-color: #008000\">'precipInches'</span>: <span style=\"color: #008000; text-decoration-color: #008000\">'0.0'</span>,\n",
       "                <span style=\"color: #008000; text-decoration-color: #008000\">'precipMM'</span>: <span style=\"color: #008000; text-decoration-color: #008000\">'0.3'</span>,\n",
       "                <span style=\"color: #008000; text-decoration-color: #008000\">'pressure'</span>: <span style=\"color: #008000; text-decoration-color: #008000\">'1011'</span>,\n",
       "                <span style=\"color: #008000; text-decoration-color: #008000\">'pressureInches'</span>: <span style=\"color: #008000; text-decoration-color: #008000\">'30'</span>,\n",
       "                <span style=\"color: #008000; text-decoration-color: #008000\">'temp_C'</span>: <span style=\"color: #008000; text-decoration-color: #008000\">'14'</span>,\n",
       "                <span style=\"color: #008000; text-decoration-color: #008000\">'temp_F'</span>: <span style=\"color: #008000; text-decoration-color: #008000\">'57'</span>,\n",
       "                <span style=\"color: #008000; text-decoration-color: #008000\">'uvIndex'</span>: <span style=\"color: #008000; text-decoration-color: #008000\">'3'</span>,\n",
       "                <span style=\"color: #008000; text-decoration-color: #008000\">'visibility'</span>: <span style=\"color: #008000; text-decoration-color: #008000\">'7'</span>,\n",
       "                <span style=\"color: #008000; text-decoration-color: #008000\">'visibilityMiles'</span>: <span style=\"color: #008000; text-decoration-color: #008000\">'4'</span>,\n",
       "                <span style=\"color: #008000; text-decoration-color: #008000\">'weatherCode'</span>: <span style=\"color: #008000; text-decoration-color: #008000\">'299'</span>,\n",
       "                <span style=\"color: #008000; text-decoration-color: #008000\">'weatherDesc'</span>: <span style=\"font-weight: bold\">[{</span><span style=\"color: #008000; text-decoration-color: #008000\">'value'</span>: <span style=\"color: #008000; text-decoration-color: #008000\">'Mist, rain'</span><span style=\"font-weight: bold\">}]</span>,\n",
       "                <span style=\"color: #008000; text-decoration-color: #008000\">'weatherIconUrl'</span>: <span style=\"font-weight: bold\">[{</span><span style=\"color: #008000; text-decoration-color: #008000\">'value'</span>: <span style=\"color: #008000; text-decoration-color: #008000\">''</span><span style=\"font-weight: bold\">}]</span>,\n",
       "                <span style=\"color: #008000; text-decoration-color: #008000\">'winddir16Point'</span>: <span style=\"color: #008000; text-decoration-color: #008000\">'NE'</span>,\n",
       "                <span style=\"color: #008000; text-decoration-color: #008000\">'winddirDegree'</span>: <span style=\"color: #008000; text-decoration-color: #008000\">'40'</span>,\n",
       "                <span style=\"color: #008000; text-decoration-color: #008000\">'windspeedKmph'</span>: <span style=\"color: #008000; text-decoration-color: #008000\">'9'</span>,\n",
       "                <span style=\"color: #008000; text-decoration-color: #008000\">'windspeedMiles'</span>: <span style=\"color: #008000; text-decoration-color: #008000\">'6'</span>\n",
       "            <span style=\"font-weight: bold\">}</span>\n",
       "        <span style=\"font-weight: bold\">]</span>\n",
       "    <span style=\"font-weight: bold\">}</span>\n",
       "<span style=\"font-weight: bold\">]</span>\n",
       "</pre>\n"
      ],
      "text/plain": [
       "\u001b[1m[\u001b[0m\n",
       "    \u001b[1m{\u001b[0m\n",
       "        \u001b[32m'tool_call_id'\u001b[0m: \u001b[32m'call_rHAK9zzYnIYYoU0zS2McvPeE'\u001b[0m,\n",
       "        \u001b[32m'role'\u001b[0m: \u001b[32m'tool'\u001b[0m,\n",
       "        \u001b[32m'name'\u001b[0m: \u001b[32m'get_current_weather'\u001b[0m,\n",
       "        \u001b[32m'content'\u001b[0m: \u001b[1m[\u001b[0m\n",
       "            \u001b[1m{\u001b[0m\n",
       "                \u001b[32m'FeelsLikeC'\u001b[0m: \u001b[32m'13'\u001b[0m,\n",
       "                \u001b[32m'FeelsLikeF'\u001b[0m: \u001b[32m'56'\u001b[0m,\n",
       "                \u001b[32m'cloudcover'\u001b[0m: \u001b[32m'75'\u001b[0m,\n",
       "                \u001b[32m'humidity'\u001b[0m: \u001b[32m'94'\u001b[0m,\n",
       "                \u001b[32m'localObsDateTime'\u001b[0m: \u001b[32m'2024-05-06 08:35 PM'\u001b[0m,\n",
       "                \u001b[32m'observation_time'\u001b[0m: \u001b[32m'07:35 PM'\u001b[0m,\n",
       "                \u001b[32m'precipInches'\u001b[0m: \u001b[32m'0.0'\u001b[0m,\n",
       "                \u001b[32m'precipMM'\u001b[0m: \u001b[32m'0.3'\u001b[0m,\n",
       "                \u001b[32m'pressure'\u001b[0m: \u001b[32m'1011'\u001b[0m,\n",
       "                \u001b[32m'pressureInches'\u001b[0m: \u001b[32m'30'\u001b[0m,\n",
       "                \u001b[32m'temp_C'\u001b[0m: \u001b[32m'14'\u001b[0m,\n",
       "                \u001b[32m'temp_F'\u001b[0m: \u001b[32m'57'\u001b[0m,\n",
       "                \u001b[32m'uvIndex'\u001b[0m: \u001b[32m'3'\u001b[0m,\n",
       "                \u001b[32m'visibility'\u001b[0m: \u001b[32m'7'\u001b[0m,\n",
       "                \u001b[32m'visibilityMiles'\u001b[0m: \u001b[32m'4'\u001b[0m,\n",
       "                \u001b[32m'weatherCode'\u001b[0m: \u001b[32m'299'\u001b[0m,\n",
       "                \u001b[32m'weatherDesc'\u001b[0m: \u001b[1m[\u001b[0m\u001b[1m{\u001b[0m\u001b[32m'value'\u001b[0m: \u001b[32m'Mist, rain'\u001b[0m\u001b[1m}\u001b[0m\u001b[1m]\u001b[0m,\n",
       "                \u001b[32m'weatherIconUrl'\u001b[0m: \u001b[1m[\u001b[0m\u001b[1m{\u001b[0m\u001b[32m'value'\u001b[0m: \u001b[32m''\u001b[0m\u001b[1m}\u001b[0m\u001b[1m]\u001b[0m,\n",
       "                \u001b[32m'winddir16Point'\u001b[0m: \u001b[32m'NE'\u001b[0m,\n",
       "                \u001b[32m'winddirDegree'\u001b[0m: \u001b[32m'40'\u001b[0m,\n",
       "                \u001b[32m'windspeedKmph'\u001b[0m: \u001b[32m'9'\u001b[0m,\n",
       "                \u001b[32m'windspeedMiles'\u001b[0m: \u001b[32m'6'\u001b[0m\n",
       "            \u001b[1m}\u001b[0m\n",
       "        \u001b[1m]\u001b[0m\n",
       "    \u001b[1m}\u001b[0m\n",
       "\u001b[1m]\u001b[0m\n"
      ]
     },
     "metadata": {},
     "output_type": "display_data"
    }
   ],
   "source": [
    "tool_response = registry.call_tool(c)\n",
    "print(tool_response)"
   ]
  },
  {
   "cell_type": "code",
   "execution_count": null,
   "id": "cac76167",
   "metadata": {},
   "outputs": [],
   "source": []
  },
  {
   "cell_type": "code",
   "execution_count": null,
   "id": "0dcc0222",
   "metadata": {},
   "outputs": [],
   "source": []
  }
 ],
 "metadata": {
  "kernelspec": {
   "display_name": "Python 3 (ipykernel)",
   "language": "python",
   "name": "python3"
  },
  "language_info": {
   "codemirror_mode": {
    "name": "ipython",
    "version": 3
   },
   "file_extension": ".py",
   "mimetype": "text/x-python",
   "name": "python",
   "nbconvert_exporter": "python",
   "pygments_lexer": "ipython3",
   "version": "3.10.13"
  }
 },
 "nbformat": 4,
 "nbformat_minor": 5
}
