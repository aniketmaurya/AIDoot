{
 "cells": [
  {
   "cell_type": "code",
   "execution_count": null,
   "id": "initial_id",
   "metadata": {
    "jupyter": {
     "is_executing": true
    }
   },
   "outputs": [],
   "source": [
    "from rich import print\n",
    "\n",
    "from agents.specs import ChatCompletion\n",
    "from agents.tool_executor import ToolRegistry\n",
    "from agents.llm import create_tool_use_llm\n",
    "from agents.tools import get_current_weather"
   ]
  },
  {
   "cell_type": "code",
   "execution_count": null,
   "id": "e44c801f84cca0e6",
   "metadata": {
    "jupyter": {
     "is_executing": true
    }
   },
   "outputs": [],
   "source": [
    "llm = create_tool_use_llm(verbose=False, n_gpu_layers=-1)"
   ]
  },
  {
   "cell_type": "code",
   "execution_count": null,
   "id": "778c882e",
   "metadata": {
    "jupyter": {
     "is_executing": true
    }
   },
   "outputs": [],
   "source": [
    "registry = ToolRegistry()\n",
    "registry.register_tool(get_current_weather)"
   ]
  },
  {
   "cell_type": "code",
   "execution_count": null,
   "id": "177bd2eb663c7f09",
   "metadata": {},
   "outputs": [],
   "source": [
    "output = llm.create_chat_completion(\n",
    "    messages=[{\"role\": \"user\", \"content\": \"How is the weather in SF today?\"}],\n",
    "    tools=registry.openai_tools,\n",
    ")\n",
    "tool_response = registry.call_tool(output)\n",
    "print(tool_response)"
   ]
  }
 ],
 "metadata": {
  "kernelspec": {
   "display_name": "Python 3 (ipykernel)",
   "language": "python",
   "name": "python3"
  },
  "language_info": {
   "codemirror_mode": {
    "name": "ipython",
    "version": 3
   },
   "file_extension": ".py",
   "mimetype": "text/x-python",
   "name": "python",
   "nbconvert_exporter": "python",
   "pygments_lexer": "ipython3",
   "version": "3.10.13"
  }
 },
 "nbformat": 4,
 "nbformat_minor": 5
}
