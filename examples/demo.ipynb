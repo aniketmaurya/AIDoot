{
 "cells": [
  {
   "cell_type": "code",
   "execution_count": 1,
   "id": "initial_id",
   "metadata": {
    "ExecuteTime": {
     "end_time": "2024-05-07T01:01:14.498241Z",
     "start_time": "2024-05-07T01:01:13.568355Z"
    }
   },
   "outputs": [],
   "source": [
    "from rich import print\n",
    "\n",
    "from agents.llms import create_tool_use_llm\n",
    "from agents.tool_executor import ToolRegistry\n",
    "from agents.tools import get_current_weather"
   ]
  },
  {
   "cell_type": "code",
   "execution_count": 2,
   "id": "e44c801f84cca0e6",
   "metadata": {
    "ExecuteTime": {
     "end_time": "2024-05-07T01:01:15.722941Z",
     "start_time": "2024-05-07T01:01:14.499508Z"
    }
   },
   "outputs": [
    {
     "name": "stderr",
     "output_type": "stream",
     "text": [
      "Special tokens have been added in the vocabulary, make sure the associated word embeddings are fine-tuned or trained.\n"
     ]
    }
   ],
   "source": [
    "llm = create_tool_use_llm(verbose=False, n_gpu_layers=-1)"
   ]
  },
  {
   "cell_type": "code",
   "execution_count": 3,
   "id": "778c882e",
   "metadata": {
    "ExecuteTime": {
     "end_time": "2024-05-07T01:01:17.849861Z",
     "start_time": "2024-05-07T01:01:17.845266Z"
    }
   },
   "outputs": [],
   "source": [
    "registry = ToolRegistry()\n",
    "registry.register_tool(get_current_weather)"
   ]
  },
  {
   "cell_type": "code",
   "execution_count": 4,
   "id": "177bd2eb663c7f09",
   "metadata": {
    "ExecuteTime": {
     "end_time": "2024-05-07T01:01:19.933128Z",
     "start_time": "2024-05-07T01:01:18.014345Z"
    }
   },
   "outputs": [
    {
     "data": {
      "text/html": [
       "<pre style=\"white-space:pre;overflow-x:auto;line-height:normal;font-family:Menlo,'DejaVu Sans Mono',consolas,'Courier New',monospace\"><span style=\"font-weight: bold\">[</span>\n",
       "    <span style=\"font-weight: bold\">{</span>\n",
       "        <span style=\"color: #008000; text-decoration-color: #008000\">'tool_call_id'</span>: <span style=\"color: #008000; text-decoration-color: #008000\">'call_yEnBv4zEdGCCdWtgFflvwDH8'</span>,\n",
       "        <span style=\"color: #008000; text-decoration-color: #008000\">'role'</span>: <span style=\"color: #008000; text-decoration-color: #008000\">'tool'</span>,\n",
       "        <span style=\"color: #008000; text-decoration-color: #008000\">'name'</span>: <span style=\"color: #008000; text-decoration-color: #008000\">'get_current_weather'</span>,\n",
       "        <span style=\"color: #008000; text-decoration-color: #008000\">'content'</span>: <span style=\"font-weight: bold\">{</span>\n",
       "            <span style=\"color: #008000; text-decoration-color: #008000\">'FeelsLikeC'</span>: <span style=\"color: #008000; text-decoration-color: #008000\">'17'</span>,\n",
       "            <span style=\"color: #008000; text-decoration-color: #008000\">'FeelsLikeF'</span>: <span style=\"color: #008000; text-decoration-color: #008000\">'62'</span>,\n",
       "            <span style=\"color: #008000; text-decoration-color: #008000\">'cloudcover'</span>: <span style=\"color: #008000; text-decoration-color: #008000\">'50'</span>,\n",
       "            <span style=\"color: #008000; text-decoration-color: #008000\">'humidity'</span>: <span style=\"color: #008000; text-decoration-color: #008000\">'50'</span>,\n",
       "            <span style=\"color: #008000; text-decoration-color: #008000\">'localObsDateTime'</span>: <span style=\"color: #008000; text-decoration-color: #008000\">'2024-05-06 03:35 PM'</span>,\n",
       "            <span style=\"color: #008000; text-decoration-color: #008000\">'observation_time'</span>: <span style=\"color: #008000; text-decoration-color: #008000\">'10:35 PM'</span>,\n",
       "            <span style=\"color: #008000; text-decoration-color: #008000\">'precipInches'</span>: <span style=\"color: #008000; text-decoration-color: #008000\">'0.0'</span>,\n",
       "            <span style=\"color: #008000; text-decoration-color: #008000\">'precipMM'</span>: <span style=\"color: #008000; text-decoration-color: #008000\">'0.0'</span>,\n",
       "            <span style=\"color: #008000; text-decoration-color: #008000\">'pressure'</span>: <span style=\"color: #008000; text-decoration-color: #008000\">'1021'</span>,\n",
       "            <span style=\"color: #008000; text-decoration-color: #008000\">'pressureInches'</span>: <span style=\"color: #008000; text-decoration-color: #008000\">'30'</span>,\n",
       "            <span style=\"color: #008000; text-decoration-color: #008000\">'temp_C'</span>: <span style=\"color: #008000; text-decoration-color: #008000\">'17'</span>,\n",
       "            <span style=\"color: #008000; text-decoration-color: #008000\">'temp_F'</span>: <span style=\"color: #008000; text-decoration-color: #008000\">'62'</span>,\n",
       "            <span style=\"color: #008000; text-decoration-color: #008000\">'uvIndex'</span>: <span style=\"color: #008000; text-decoration-color: #008000\">'4'</span>,\n",
       "            <span style=\"color: #008000; text-decoration-color: #008000\">'visibility'</span>: <span style=\"color: #008000; text-decoration-color: #008000\">'16'</span>,\n",
       "            <span style=\"color: #008000; text-decoration-color: #008000\">'visibilityMiles'</span>: <span style=\"color: #008000; text-decoration-color: #008000\">'9'</span>,\n",
       "            <span style=\"color: #008000; text-decoration-color: #008000\">'weatherCode'</span>: <span style=\"color: #008000; text-decoration-color: #008000\">'116'</span>,\n",
       "            <span style=\"color: #008000; text-decoration-color: #008000\">'weatherDesc'</span>: <span style=\"font-weight: bold\">[{</span><span style=\"color: #008000; text-decoration-color: #008000\">'value'</span>: <span style=\"color: #008000; text-decoration-color: #008000\">'Partly cloudy'</span><span style=\"font-weight: bold\">}]</span>,\n",
       "            <span style=\"color: #008000; text-decoration-color: #008000\">'weatherIconUrl'</span>: <span style=\"font-weight: bold\">[{</span><span style=\"color: #008000; text-decoration-color: #008000\">'value'</span>: <span style=\"color: #008000; text-decoration-color: #008000\">''</span><span style=\"font-weight: bold\">}]</span>,\n",
       "            <span style=\"color: #008000; text-decoration-color: #008000\">'winddir16Point'</span>: <span style=\"color: #008000; text-decoration-color: #008000\">'W'</span>,\n",
       "            <span style=\"color: #008000; text-decoration-color: #008000\">'winddirDegree'</span>: <span style=\"color: #008000; text-decoration-color: #008000\">'270'</span>,\n",
       "            <span style=\"color: #008000; text-decoration-color: #008000\">'windspeedKmph'</span>: <span style=\"color: #008000; text-decoration-color: #008000\">'28'</span>,\n",
       "            <span style=\"color: #008000; text-decoration-color: #008000\">'windspeedMiles'</span>: <span style=\"color: #008000; text-decoration-color: #008000\">'17'</span>\n",
       "        <span style=\"font-weight: bold\">}</span>\n",
       "    <span style=\"font-weight: bold\">}</span>\n",
       "<span style=\"font-weight: bold\">]</span>\n",
       "</pre>\n"
      ],
      "text/plain": [
       "\u001b[1m[\u001b[0m\n",
       "    \u001b[1m{\u001b[0m\n",
       "        \u001b[32m'tool_call_id'\u001b[0m: \u001b[32m'call_yEnBv4zEdGCCdWtgFflvwDH8'\u001b[0m,\n",
       "        \u001b[32m'role'\u001b[0m: \u001b[32m'tool'\u001b[0m,\n",
       "        \u001b[32m'name'\u001b[0m: \u001b[32m'get_current_weather'\u001b[0m,\n",
       "        \u001b[32m'content'\u001b[0m: \u001b[1m{\u001b[0m\n",
       "            \u001b[32m'FeelsLikeC'\u001b[0m: \u001b[32m'17'\u001b[0m,\n",
       "            \u001b[32m'FeelsLikeF'\u001b[0m: \u001b[32m'62'\u001b[0m,\n",
       "            \u001b[32m'cloudcover'\u001b[0m: \u001b[32m'50'\u001b[0m,\n",
       "            \u001b[32m'humidity'\u001b[0m: \u001b[32m'50'\u001b[0m,\n",
       "            \u001b[32m'localObsDateTime'\u001b[0m: \u001b[32m'2024-05-06 03:35 PM'\u001b[0m,\n",
       "            \u001b[32m'observation_time'\u001b[0m: \u001b[32m'10:35 PM'\u001b[0m,\n",
       "            \u001b[32m'precipInches'\u001b[0m: \u001b[32m'0.0'\u001b[0m,\n",
       "            \u001b[32m'precipMM'\u001b[0m: \u001b[32m'0.0'\u001b[0m,\n",
       "            \u001b[32m'pressure'\u001b[0m: \u001b[32m'1021'\u001b[0m,\n",
       "            \u001b[32m'pressureInches'\u001b[0m: \u001b[32m'30'\u001b[0m,\n",
       "            \u001b[32m'temp_C'\u001b[0m: \u001b[32m'17'\u001b[0m,\n",
       "            \u001b[32m'temp_F'\u001b[0m: \u001b[32m'62'\u001b[0m,\n",
       "            \u001b[32m'uvIndex'\u001b[0m: \u001b[32m'4'\u001b[0m,\n",
       "            \u001b[32m'visibility'\u001b[0m: \u001b[32m'16'\u001b[0m,\n",
       "            \u001b[32m'visibilityMiles'\u001b[0m: \u001b[32m'9'\u001b[0m,\n",
       "            \u001b[32m'weatherCode'\u001b[0m: \u001b[32m'116'\u001b[0m,\n",
       "            \u001b[32m'weatherDesc'\u001b[0m: \u001b[1m[\u001b[0m\u001b[1m{\u001b[0m\u001b[32m'value'\u001b[0m: \u001b[32m'Partly cloudy'\u001b[0m\u001b[1m}\u001b[0m\u001b[1m]\u001b[0m,\n",
       "            \u001b[32m'weatherIconUrl'\u001b[0m: \u001b[1m[\u001b[0m\u001b[1m{\u001b[0m\u001b[32m'value'\u001b[0m: \u001b[32m''\u001b[0m\u001b[1m}\u001b[0m\u001b[1m]\u001b[0m,\n",
       "            \u001b[32m'winddir16Point'\u001b[0m: \u001b[32m'W'\u001b[0m,\n",
       "            \u001b[32m'winddirDegree'\u001b[0m: \u001b[32m'270'\u001b[0m,\n",
       "            \u001b[32m'windspeedKmph'\u001b[0m: \u001b[32m'28'\u001b[0m,\n",
       "            \u001b[32m'windspeedMiles'\u001b[0m: \u001b[32m'17'\u001b[0m\n",
       "        \u001b[1m}\u001b[0m\n",
       "    \u001b[1m}\u001b[0m\n",
       "\u001b[1m]\u001b[0m\n"
      ]
     },
     "metadata": {},
     "output_type": "display_data"
    }
   ],
   "source": [
    "output = llm.create_chat_completion(\n",
    "    messages=[{\"role\": \"user\", \"content\": \"How is the weather in SF today?\"}],\n",
    "    tools=registry.openai_tools,\n",
    ")\n",
    "tool_response = registry.call_tool(output)\n",
    "print(tool_response)"
   ]
  }
 ],
 "metadata": {
  "kernelspec": {
   "display_name": "Python 3 (ipykernel)",
   "language": "python",
   "name": "python3"
  },
  "language_info": {
   "codemirror_mode": {
    "name": "ipython",
    "version": 3
   },
   "file_extension": ".py",
   "mimetype": "text/x-python",
   "name": "python",
   "nbconvert_exporter": "python",
   "pygments_lexer": "ipython3",
   "version": "3.10.13"
  }
 },
 "nbformat": 4,
 "nbformat_minor": 5
}
