{
 "cells": [
  {
   "cell_type": "markdown",
   "id": "2e7b9591d6e2fa95",
   "metadata": {},
   "source": [
    "## Cohere hackathon\n",
    "\n",
    "- Build a multimodal capability abstraction\n",
    "- Build an example based on that"
   ]
  },
  {
   "cell_type": "code",
   "execution_count": 1,
   "id": "344d14176aef3e69",
   "metadata": {
    "ExecuteTime": {
     "end_time": "2024-05-08T13:49:24.379140Z",
     "start_time": "2024-05-08T13:49:24.374901Z"
    }
   },
   "outputs": [],
   "source": [
    "from dotenv import load_dotenv\n",
    "from rich import print\n",
    "\n",
    "load_dotenv(\"../.env\")\n",
    "\n",
    "import os\n",
    "# os.environ[\"LOGURU_LEVEL\"] = \"DEBUG\""
   ]
  },
  {
   "cell_type": "code",
   "execution_count": 2,
   "id": "d787202f",
   "metadata": {},
   "outputs": [],
   "source": [
    "from agents.tools import wikipedia_search, get_current_weather, image_inspector\n",
    "\n",
    "from agents.llms._cohere import CohereChatCompletion\n",
    "from agents.tool_executor import need_tool_use"
   ]
  },
  {
   "cell_type": "code",
   "execution_count": 3,
   "id": "375bb76b",
   "metadata": {},
   "outputs": [],
   "source": [
    "llm = CohereChatCompletion()"
   ]
  },
  {
   "cell_type": "code",
   "execution_count": null,
   "id": "e6dee66a",
   "metadata": {},
   "outputs": [],
   "source": [
    "llm.bind_tools([get_current_weather, wikipedia_search, image_inspector])"
   ]
  },
  {
   "cell_type": "code",
   "execution_count": 5,
   "id": "16eda2e4",
   "metadata": {},
   "outputs": [
    {
     "data": {
      "text/html": [
       "<pre style=\"white-space:pre;overflow-x:auto;line-height:normal;font-family:Menlo,'DejaVu Sans Mono',consolas,'Courier New',monospace\">The weather in London, as of <span style=\"color: #00ff00; text-decoration-color: #00ff00; font-weight: bold\">1:58</span> PM, is partly cloudy with a temperature of <span style=\"color: #008080; text-decoration-color: #008080; font-weight: bold\">20</span> degrees Celsius or <span style=\"color: #008080; text-decoration-color: #008080; font-weight: bold\">68</span> degrees \n",
       "Fahrenheit. The humidity is at <span style=\"color: #008080; text-decoration-color: #008080; font-weight: bold\">49</span>%, and the UV index is <span style=\"color: #008080; text-decoration-color: #008080; font-weight: bold\">5</span>. There is no precipitation, and the wind speed is mild at\n",
       "<span style=\"color: #008080; text-decoration-color: #008080; font-weight: bold\">7</span> km/h or <span style=\"color: #008080; text-decoration-color: #008080; font-weight: bold\">4</span> mph. The pressure is at <span style=\"color: #008080; text-decoration-color: #008080; font-weight: bold\">1029</span> millibars, with a visibility range of <span style=\"color: #008080; text-decoration-color: #008080; font-weight: bold\">10</span> km or <span style=\"color: #008080; text-decoration-color: #008080; font-weight: bold\">6</span> miles. So, overall, it's \n",
       "a pleasant day with mild temperatures and partly cloudy skies.\n",
       "</pre>\n"
      ],
      "text/plain": [
       "The weather in London, as of \u001b[1;92m1:58\u001b[0m PM, is partly cloudy with a temperature of \u001b[1;36m20\u001b[0m degrees Celsius or \u001b[1;36m68\u001b[0m degrees \n",
       "Fahrenheit. The humidity is at \u001b[1;36m49\u001b[0m%, and the UV index is \u001b[1;36m5\u001b[0m. There is no precipitation, and the wind speed is mild at\n",
       "\u001b[1;36m7\u001b[0m km/h or \u001b[1;36m4\u001b[0m mph. The pressure is at \u001b[1;36m1029\u001b[0m millibars, with a visibility range of \u001b[1;36m10\u001b[0m km or \u001b[1;36m6\u001b[0m miles. So, overall, it's \n",
       "a pleasant day with mild temperatures and partly cloudy skies.\n"
      ]
     },
     "metadata": {},
     "output_type": "display_data"
    }
   ],
   "source": [
    "messages = [\n",
    "    {\n",
    "        \"role\": \"system\",\n",
    "        \"content\": \"You are a helpful assistant that has access to tools. Use the tools only if you don't have answers.\"\n",
    "    },\n",
    "    {\"role\":\"user\", \"content\":\"how is the weather in London today?\"}\n",
    "]\n",
    "\n",
    "output = llm.chat_completion(messages)\n",
    "\n",
    "if need_tool_use(output):\n",
    "    tool_results = llm.run_tool(output)\n",
    "    tool_results[0][\"role\"] = \"assistant\"\n",
    "\n",
    "    updated_messages = messages + tool_results\n",
    "    updated_messages = updated_messages + [{\"role\":\"system\", \"content\": \"Do not use any tools now.\"},\n",
    "                                           {\"role\": \"user\", \"content\": \"Think step by step and answer my question based on the above context.\"}\n",
    "                                          ]\n",
    "    output = llm.chat_completion(updated_messages)\n",
    "\n",
    "print(output.choices[0].message.content)"
   ]
  },
  {
   "cell_type": "code",
   "execution_count": 9,
   "id": "b8a8b0da",
   "metadata": {},
   "outputs": [
    {
     "data": {
      "text/html": [
       "<pre style=\"white-space:pre;overflow-x:auto;line-height:normal;font-family:Menlo,'DejaVu Sans Mono',consolas,'Courier New',monospace\"><span style=\"color: #800080; text-decoration-color: #800080; font-weight: bold\">Message</span><span style=\"font-weight: bold\">(</span>\n",
       "    <span style=\"color: #808000; text-decoration-color: #808000\">role</span>=<span style=\"color: #008000; text-decoration-color: #008000\">'assistant'</span>,\n",
       "    <span style=\"color: #808000; text-decoration-color: #808000\">content</span>=<span style=\"color: #008000; text-decoration-color: #008000\">''</span>,\n",
       "    <span style=\"color: #808000; text-decoration-color: #808000\">tool_calls</span>=<span style=\"font-weight: bold\">[</span>\n",
       "        <span style=\"color: #800080; text-decoration-color: #800080; font-weight: bold\">ToolCall</span><span style=\"font-weight: bold\">(</span>\n",
       "            <span style=\"color: #808000; text-decoration-color: #808000\">id</span>=<span style=\"color: #008000; text-decoration-color: #008000\">'7276cb5c4efb4ddab825ec1f54a6611c'</span>,\n",
       "            <span style=\"color: #808000; text-decoration-color: #808000\">type</span>=<span style=\"color: #008000; text-decoration-color: #008000\">'function'</span>,\n",
       "            <span style=\"color: #808000; text-decoration-color: #808000\">function</span>=<span style=\"color: #800080; text-decoration-color: #800080; font-weight: bold\">FunctionInfo</span><span style=\"font-weight: bold\">(</span>\n",
       "                <span style=\"color: #808000; text-decoration-color: #808000\">name</span>=<span style=\"color: #008000; text-decoration-color: #008000\">'image_inspector'</span>,\n",
       "                <span style=\"color: #808000; text-decoration-color: #808000\">arguments</span>=<span style=\"color: #008000; text-decoration-color: #008000\">'{\"image_url_or_path\": </span>\n",
       "<span style=\"color: #008000; text-decoration-color: #008000\">\"https://upload.wikimedia.org/wikipedia/commons/thumb/d/dd/Gfp-wisconsin-madison-the-nature-boardwalk.jpg/2560px-Gf</span>\n",
       "<span style=\"color: #008000; text-decoration-color: #008000\">p-wisconsin-madison-the-nature-boardwalk.jpg\"}'</span>\n",
       "            <span style=\"font-weight: bold\">)</span>\n",
       "        <span style=\"font-weight: bold\">)</span>,\n",
       "        <span style=\"color: #800080; text-decoration-color: #800080; font-weight: bold\">ToolCall</span><span style=\"font-weight: bold\">(</span>\n",
       "            <span style=\"color: #808000; text-decoration-color: #808000\">id</span>=<span style=\"color: #008000; text-decoration-color: #008000\">'477d4a853a7046fbacb566ac5869707f'</span>,\n",
       "            <span style=\"color: #808000; text-decoration-color: #808000\">type</span>=<span style=\"color: #008000; text-decoration-color: #008000\">'function'</span>,\n",
       "            <span style=\"color: #808000; text-decoration-color: #808000\">function</span>=<span style=\"color: #800080; text-decoration-color: #800080; font-weight: bold\">FunctionInfo</span><span style=\"font-weight: bold\">(</span><span style=\"color: #808000; text-decoration-color: #808000\">name</span>=<span style=\"color: #008000; text-decoration-color: #008000\">'wikipedia_search'</span>, <span style=\"color: #808000; text-decoration-color: #808000\">arguments</span>=<span style=\"color: #008000; text-decoration-color: #008000\">'{\"query\": \"London parks with boardwalks\"}'</span><span style=\"font-weight: bold\">)</span>\n",
       "        <span style=\"font-weight: bold\">)</span>\n",
       "    <span style=\"font-weight: bold\">]</span>\n",
       "<span style=\"font-weight: bold\">)</span>\n",
       "</pre>\n"
      ],
      "text/plain": [
       "\u001b[1;35mMessage\u001b[0m\u001b[1m(\u001b[0m\n",
       "    \u001b[33mrole\u001b[0m=\u001b[32m'assistant'\u001b[0m,\n",
       "    \u001b[33mcontent\u001b[0m=\u001b[32m''\u001b[0m,\n",
       "    \u001b[33mtool_calls\u001b[0m=\u001b[1m[\u001b[0m\n",
       "        \u001b[1;35mToolCall\u001b[0m\u001b[1m(\u001b[0m\n",
       "            \u001b[33mid\u001b[0m=\u001b[32m'7276cb5c4efb4ddab825ec1f54a6611c'\u001b[0m,\n",
       "            \u001b[33mtype\u001b[0m=\u001b[32m'function'\u001b[0m,\n",
       "            \u001b[33mfunction\u001b[0m=\u001b[1;35mFunctionInfo\u001b[0m\u001b[1m(\u001b[0m\n",
       "                \u001b[33mname\u001b[0m=\u001b[32m'image_inspector'\u001b[0m,\n",
       "                \u001b[33marguments\u001b[0m=\u001b[32m'\u001b[0m\u001b[32m{\u001b[0m\u001b[32m\"image_url_or_path\": \u001b[0m\n",
       "\u001b[32m\"https://upload.wikimedia.org/wikipedia/commons/thumb/d/dd/Gfp-wisconsin-madison-the-nature-boardwalk.jpg/2560px-Gf\u001b[0m\n",
       "\u001b[32mp-wisconsin-madison-the-nature-boardwalk.jpg\"\u001b[0m\u001b[32m}\u001b[0m\u001b[32m'\u001b[0m\n",
       "            \u001b[1m)\u001b[0m\n",
       "        \u001b[1m)\u001b[0m,\n",
       "        \u001b[1;35mToolCall\u001b[0m\u001b[1m(\u001b[0m\n",
       "            \u001b[33mid\u001b[0m=\u001b[32m'477d4a853a7046fbacb566ac5869707f'\u001b[0m,\n",
       "            \u001b[33mtype\u001b[0m=\u001b[32m'function'\u001b[0m,\n",
       "            \u001b[33mfunction\u001b[0m=\u001b[1;35mFunctionInfo\u001b[0m\u001b[1m(\u001b[0m\u001b[33mname\u001b[0m=\u001b[32m'wikipedia_search'\u001b[0m, \u001b[33marguments\u001b[0m=\u001b[32m'\u001b[0m\u001b[32m{\u001b[0m\u001b[32m\"query\": \"London parks with boardwalks\"\u001b[0m\u001b[32m}\u001b[0m\u001b[32m'\u001b[0m\u001b[1m)\u001b[0m\n",
       "        \u001b[1m)\u001b[0m\n",
       "    \u001b[1m]\u001b[0m\n",
       "\u001b[1m)\u001b[0m\n"
      ]
     },
     "metadata": {},
     "output_type": "display_data"
    }
   ],
   "source": [
    "image_url = \"https://upload.wikimedia.org/wikipedia/commons/thumb/d/dd/Gfp-wisconsin-madison-the-nature-boardwalk.jpg/2560px-Gfp-wisconsin-madison-the-nature-boardwalk.jpg\"\n",
    "\n",
    "messages = [\n",
    "    {\"role\": \"system\", \"content\": \"You are a helpful assistant that has access to tools and use that to help humans.\"},\n",
    "    {\"role\": \"user\", \"content\": f\"Check this image {image_url} and suggest me a location where I can go in London which looks similar\"}\n",
    "]\n",
    "output = llm.chat_completion(messages)\n",
    "\n",
    "if need_tool_use(output):\n",
    "    tool_results = llm.run_tool(output)\n",
    "    tool_results[0][\"role\"] = \"assistant\"\n",
    "\n",
    "    updated_messages = messages + tool_results\n",
    "    updated_messages = updated_messages + [{\"role\":\"system\", \"content\": \"Do not use any tools now.\"},\n",
    "                                           {\"role\": \"user\", \"content\": \"Think step by step and answer my question based on the above context.\"}\n",
    "                                          ]\n",
    "    output = llm.chat_completion(updated_messages)\n",
    "\n",
    "if need_tool_use(output):\n",
    "    tool_results = llm.run_tool(output)\n",
    "    tool_results[0][\"role\"] = \"assistant\"\n",
    "\n",
    "    updated_messages = messages + tool_results\n",
    "    updated_messages = updated_messages + [{\"role\":\"system\", \"content\": \"Do not use any tools now.\"},\n",
    "                                           {\"role\": \"user\", \"content\": \"Think step by step and answer my question based on the above context.\"}\n",
    "                                          ]\n",
    "    output = llm.chat_completion(updated_messages)\n",
    "print(output.choices[0].message)"
   ]
  },
  {
   "cell_type": "code",
   "execution_count": null,
   "id": "321a1b95",
   "metadata": {},
   "outputs": [],
   "source": []
  }
 ],
 "metadata": {
  "kernelspec": {
   "display_name": "Python 3 (ipykernel)",
   "language": "python",
   "name": "python3"
  },
  "language_info": {
   "codemirror_mode": {
    "name": "ipython",
    "version": 3
   },
   "file_extension": ".py",
   "mimetype": "text/x-python",
   "name": "python",
   "nbconvert_exporter": "python",
   "pygments_lexer": "ipython3",
   "version": "3.10.13"
  }
 },
 "nbformat": 4,
 "nbformat_minor": 5
}
