{
 "cells": [
  {
   "cell_type": "markdown",
   "id": "2e7b9591d6e2fa95",
   "metadata": {},
   "source": [
    "## Cohere hackathon\n",
    "\n",
    "- Build a multimodal capability abstraction\n",
    "- Build an example based on that"
   ]
  },
  {
   "cell_type": "code",
   "execution_count": 1,
   "id": "344d14176aef3e69",
   "metadata": {
    "ExecuteTime": {
     "end_time": "2024-05-08T13:49:24.379140Z",
     "start_time": "2024-05-08T13:49:24.374901Z"
    }
   },
   "outputs": [],
   "source": [
    "from dotenv import load_dotenv\n",
    "from rich import print\n",
    "\n",
    "load_dotenv(\"../.env\")\n",
    "\n",
    "import os\n",
    "os.environ[\"LOGURU_LEVEL\"] = \"DEBUG\""
   ]
  },
  {
   "cell_type": "code",
   "execution_count": 2,
   "id": "77e88fdb",
   "metadata": {},
   "outputs": [],
   "source": [
    "from agents.tools import wikipedia_search, get_current_weather, image_inspector"
   ]
  },
  {
   "cell_type": "code",
   "execution_count": 3,
   "id": "a4fb82c9",
   "metadata": {},
   "outputs": [],
   "source": [
    "from agents.llms._cohere import CohereChatCompletion"
   ]
  },
  {
   "cell_type": "code",
   "execution_count": 4,
   "id": "b50b5015",
   "metadata": {},
   "outputs": [],
   "source": [
    "llm = CohereChatCompletion()"
   ]
  },
  {
   "cell_type": "code",
   "execution_count": 5,
   "id": "4b708dcd",
   "metadata": {},
   "outputs": [],
   "source": [
    "llm.bind_tools([get_current_weather, wikipedia_search])"
   ]
  },
  {
   "cell_type": "code",
   "execution_count": 7,
   "id": "8764b8a3",
   "metadata": {},
   "outputs": [
    {
     "name": "stderr",
     "output_type": "stream",
     "text": [
      "\u001b[32m2024-05-08 16:28:36.696\u001b[0m | \u001b[34m\u001b[1mDEBUG   \u001b[0m | \u001b[36magents.llms._cohere\u001b[0m:\u001b[36mchat_completion\u001b[0m:\u001b[36m57\u001b[0m - \u001b[34m\u001b[1mcontent='' additional_kwargs={'documents': None, 'citations': None, 'search_results': None, 'search_queries': None, 'is_search_required': None, 'generation_id': 'f02712d8-55a1-417f-b501-a86bc666907c', 'tool_calls': [{'id': '788f9523b0e3428eaab93f4257bc3643', 'function': {'name': 'get_current_weather', 'arguments': '{\"city\": \"London\"}'}, 'type': 'function'}], 'token_count': {'output_tokens': 10}} response_metadata={'documents': None, 'citations': None, 'search_results': None, 'search_queries': None, 'is_search_required': None, 'generation_id': 'f02712d8-55a1-417f-b501-a86bc666907c', 'tool_calls': [{'id': '788f9523b0e3428eaab93f4257bc3643', 'function': {'name': 'get_current_weather', 'arguments': '{\"city\": \"London\"}'}, 'type': 'function'}], 'token_count': {'output_tokens': 10}} id='run-d7611484-0226-4c9d-bcdc-96c908554792-0' tool_calls=[{'name': 'get_current_weather', 'args': {'city': 'London'}, 'id': '2556fd9813824e1dbe41085867ab1634'}]\u001b[0m\n"
     ]
    }
   ],
   "source": [
    "output = llm.chat_completion([{\"role\":\"user\", \"content\":\"how is the weather in London today?\"}])"
   ]
  },
  {
   "cell_type": "code",
   "execution_count": 8,
   "id": "0d199a31",
   "metadata": {},
   "outputs": [
    {
     "name": "stderr",
     "output_type": "stream",
     "text": [
      "\u001b[32m2024-05-08 16:28:38.666\u001b[0m | \u001b[34m\u001b[1mDEBUG   \u001b[0m | \u001b[36magents.tool_executor\u001b[0m:\u001b[36mcall_tool\u001b[0m:\u001b[36m88\u001b[0m - \u001b[34m\u001b[1mFunction get_current_weather invoked with {'city': 'London'}\u001b[0m\n",
      "\u001b[32m2024-05-08 16:28:38.931\u001b[0m | \u001b[34m\u001b[1mDEBUG   \u001b[0m | \u001b[36magents.tool_executor\u001b[0m:\u001b[36mcall_tool\u001b[0m:\u001b[36m90\u001b[0m - \u001b[34m\u001b[1mFunction get_current_weather, responded with {\"FeelsLikeC\": \"20\", \"FeelsLikeF\": \"68\", \"cloudcover\": \"50\", \"humidity\": \"49\", \"localObsDateTime\": \"2024-05-08 02:58 PM\", \"observation_time\": \"01:58 PM\", \"precipInches\": \"0.0\", \"precipMM\": \"0.0\", \"pressure\": \"1029\", \"pressureInches\": \"30\", \"temp_C\": \"20\", \"temp_F\": \"68\", \"uvIndex\": \"5\", \"visibility\": \"10\", \"visibilityMiles\": \"6\", \"weatherCode\": \"116\", \"weatherDesc\": [{\"value\": \"Partly cloudy\"}], \"weatherIconUrl\": [{\"value\": \"\"}], \"winddir16Point\": \"SE\", \"winddirDegree\": \"140\", \"windspeedKmph\": \"7\", \"windspeedMiles\": \"4\"}\u001b[0m\n"
     ]
    },
    {
     "data": {
      "text/plain": [
       "[{'tool_call_id': '788f9523b0e3428eaab93f4257bc3643',\n",
       "  'role': 'tool',\n",
       "  'name': 'get_current_weather',\n",
       "  'content': '{\"FeelsLikeC\": \"20\", \"FeelsLikeF\": \"68\", \"cloudcover\": \"50\", \"humidity\": \"49\", \"localObsDateTime\": \"2024-05-08 02:58 PM\", \"observation_time\": \"01:58 PM\", \"precipInches\": \"0.0\", \"precipMM\": \"0.0\", \"pressure\": \"1029\", \"pressureInches\": \"30\", \"temp_C\": \"20\", \"temp_F\": \"68\", \"uvIndex\": \"5\", \"visibility\": \"10\", \"visibilityMiles\": \"6\", \"weatherCode\": \"116\", \"weatherDesc\": [{\"value\": \"Partly cloudy\"}], \"weatherIconUrl\": [{\"value\": \"\"}], \"winddir16Point\": \"SE\", \"winddirDegree\": \"140\", \"windspeedKmph\": \"7\", \"windspeedMiles\": \"4\"}'}]"
      ]
     },
     "execution_count": 8,
     "metadata": {},
     "output_type": "execute_result"
    }
   ],
   "source": [
    "llm.run_tool(output)"
   ]
  },
  {
   "cell_type": "code",
   "execution_count": null,
   "id": "c28f7543",
   "metadata": {},
   "outputs": [],
   "source": []
  },
  {
   "cell_type": "code",
   "execution_count": null,
   "id": "94e379a3",
   "metadata": {},
   "outputs": [],
   "source": []
  },
  {
   "cell_type": "code",
   "execution_count": null,
   "id": "265088ddccb189bd",
   "metadata": {},
   "outputs": [],
   "source": []
  }
 ],
 "metadata": {
  "kernelspec": {
   "display_name": "Python 3 (ipykernel)",
   "language": "python",
   "name": "python3"
  },
  "language_info": {
   "codemirror_mode": {
    "name": "ipython",
    "version": 3
   },
   "file_extension": ".py",
   "mimetype": "text/x-python",
   "name": "python",
   "nbconvert_exporter": "python",
   "pygments_lexer": "ipython3",
   "version": "3.10.13"
  }
 },
 "nbformat": 4,
 "nbformat_minor": 5
}
