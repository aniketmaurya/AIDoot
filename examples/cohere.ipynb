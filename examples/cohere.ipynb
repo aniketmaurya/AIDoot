{
 "cells": [
  {
   "cell_type": "markdown",
   "id": "2e7b9591d6e2fa95",
   "metadata": {},
   "source": [
    "## Cohere hackathon\n",
    "\n",
    "- Build a multimodal capability abstraction\n",
    "- Build an example based on that"
   ]
  },
  {
   "cell_type": "code",
   "execution_count": 2,
   "id": "344d14176aef3e69",
   "metadata": {
    "ExecuteTime": {
     "end_time": "2024-05-08T13:49:24.379140Z",
     "start_time": "2024-05-08T13:49:24.374901Z"
    }
   },
   "outputs": [],
   "source": [
    "from dotenv import load_dotenv\n",
    "from rich import print\n",
    "\n",
    "load_dotenv(\".lightning_studio/.studiorc\")\n",
    "\n",
    "import os\n",
    "os.environ[\"LOGURU_LEVEL\"] = \"DEBUG\""
   ]
  },
  {
   "cell_type": "code",
   "execution_count": 3,
   "id": "d787202f",
   "metadata": {},
   "outputs": [],
   "source": [
    "import json\n",
    "from agents.tools import wikipedia_search, get_current_weather, google_search, image_inspector\n",
    "\n",
    "from agents.llms._cohere import CohereChatCompletion\n",
    "from agents.tool_executor import need_tool_use"
   ]
  },
  {
   "cell_type": "code",
   "execution_count": 4,
   "id": "375bb76b",
   "metadata": {},
   "outputs": [],
   "source": [
    "llm = CohereChatCompletion()"
   ]
  },
  {
   "cell_type": "code",
   "execution_count": 5,
   "id": "e6dee66a",
   "metadata": {},
   "outputs": [],
   "source": [
    "llm.bind_tools([get_current_weather, image_inspector, google_search, wikipedia_search])"
   ]
  },
  {
   "cell_type": "code",
   "execution_count": 6,
   "id": "16eda2e4",
   "metadata": {},
   "outputs": [
    {
     "name": "stderr",
     "output_type": "stream",
     "text": [
      "\u001b[32m2024-05-09 21:33:13.367\u001b[0m | \u001b[34m\u001b[1mDEBUG   \u001b[0m | \u001b[36magents.llms._cohere\u001b[0m:\u001b[36mchat_completion\u001b[0m:\u001b[36m58\u001b[0m - \u001b[34m\u001b[1mcontent='' additional_kwargs={'documents': None, 'citations': None, 'search_results': None, 'search_queries': None, 'is_search_required': None, 'generation_id': 'd86dc590-5c82-41e0-b19c-6fa0dc4251a7', 'tool_calls': [{'id': '1a07b7a389e6451297e1c6f625f694d2', 'function': {'name': 'get_current_weather', 'arguments': '{\"city\": \"London\"}'}, 'type': 'function'}], 'token_count': {'output_tokens': 10}} response_metadata={'documents': None, 'citations': None, 'search_results': None, 'search_queries': None, 'is_search_required': None, 'generation_id': 'd86dc590-5c82-41e0-b19c-6fa0dc4251a7', 'tool_calls': [{'id': '1a07b7a389e6451297e1c6f625f694d2', 'function': {'name': 'get_current_weather', 'arguments': '{\"city\": \"London\"}'}, 'type': 'function'}], 'token_count': {'output_tokens': 10}} id='run-476d1c0c-7b96-4ee2-afd7-9fc5c4357882-0' tool_calls=[{'name': 'get_current_weather', 'args': {'city': 'London'}, 'id': '55a967131e9f4addbc45630dedbefa03'}]\u001b[0m\n"
     ]
    },
    {
     "data": {
      "text/html": [
       "<pre style=\"white-space:pre;overflow-x:auto;line-height:normal;font-family:Menlo,'DejaVu Sans Mono',consolas,'Courier New',monospace\">Calling `get_current_weather` API\n",
       "</pre>\n"
      ],
      "text/plain": [
       "Calling `get_current_weather` API\n"
      ]
     },
     "metadata": {},
     "output_type": "display_data"
    },
    {
     "name": "stderr",
     "output_type": "stream",
     "text": [
      "\u001b[32m2024-05-09 21:33:13.372\u001b[0m | \u001b[34m\u001b[1mDEBUG   \u001b[0m | \u001b[36magents.tool_executor\u001b[0m:\u001b[36mcall_tool\u001b[0m:\u001b[36m88\u001b[0m - \u001b[34m\u001b[1mFunction get_current_weather invoked with {'city': 'London'}\u001b[0m\n",
      "\u001b[32m2024-05-09 21:33:14.066\u001b[0m | \u001b[34m\u001b[1mDEBUG   \u001b[0m | \u001b[36magents.tool_executor\u001b[0m:\u001b[36mcall_tool\u001b[0m:\u001b[36m90\u001b[0m - \u001b[34m\u001b[1mFunction get_current_weather, responded with {\"FeelsLikeC\": \"16\", \"FeelsLikeF\": \"61\", \"cloudcover\": \"0\", \"humidity\": \"77\", \"localObsDateTime\": \"2024-05-09 09:15 PM\", \"observation_time\": \"08:15 PM\", \"precipInches\": \"0.0\", \"precipMM\": \"0.0\", \"pressure\": \"1025\", \"pressureInches\": \"30\", \"temp_C\": \"16\", \"temp_F\": \"61\", \"uvIndex\": \"1\", \"visibility\": \"10\", \"visibilityMiles\": \"6\", \"weatherCode\": \"113\", \"weatherDesc\": [{\"value\": \"Clear\"}], \"weatherIconUrl\": [{\"value\": \"\"}], \"winddir16Point\": \"SSW\", \"winddirDegree\": \"200\", \"windspeedKmph\": \"15\", \"windspeedMiles\": \"9\"}\u001b[0m\n",
      "\u001b[32m2024-05-09 21:33:18.168\u001b[0m | \u001b[34m\u001b[1mDEBUG   \u001b[0m | \u001b[36magents.llms._cohere\u001b[0m:\u001b[36mchat_completion\u001b[0m:\u001b[36m58\u001b[0m - \u001b[34m\u001b[1mcontent=\"The weather in London, UK, as of 8:15 PM local time, is clear with a temperature of 16 degrees Celsius or 61 degrees Fahrenheit. The humidity is at 77%, and there is no precipitation. The UV index is low at 1, and the wind is blowing from the SSW direction at 9 miles per hour. Visibility is good at 6 miles, and the pressure is at 1025 millibars. So, overall, it's a pleasant evening in London with comfortable temperatures and clear skies.\" additional_kwargs={'documents': None, 'citations': None, 'search_results': None, 'search_queries': None, 'is_search_required': None, 'generation_id': '3f33bafd-a63f-44e2-ba98-3a72903fd725', 'token_count': {'input_tokens': 334, 'output_tokens': 116}} response_metadata={'documents': None, 'citations': None, 'search_results': None, 'search_queries': None, 'is_search_required': None, 'generation_id': '3f33bafd-a63f-44e2-ba98-3a72903fd725', 'token_count': {'input_tokens': 334, 'output_tokens': 116}} id='run-584a897d-5ba4-4b7e-b4d0-c987f1421d9d-0'\u001b[0m\n"
     ]
    },
    {
     "data": {
      "text/html": [
       "<pre style=\"white-space:pre;overflow-x:auto;line-height:normal;font-family:Menlo,'DejaVu Sans Mono',consolas,'Courier New',monospace\">The weather in London, UK, as of <span style=\"color: #00ff00; text-decoration-color: #00ff00; font-weight: bold\">8:15</span> PM local time, is clear with a temperature of <span style=\"color: #008080; text-decoration-color: #008080; font-weight: bold\">16</span> degrees Celsius or <span style=\"color: #008080; text-decoration-color: #008080; font-weight: bold\">61</span> \n",
       "degrees Fahrenheit. The humidity is at <span style=\"color: #008080; text-decoration-color: #008080; font-weight: bold\">77</span>%, and there is no precipitation. The UV index is low at <span style=\"color: #008080; text-decoration-color: #008080; font-weight: bold\">1</span>, and the wind \n",
       "is blowing from the SSW direction at <span style=\"color: #008080; text-decoration-color: #008080; font-weight: bold\">9</span> miles per hour. Visibility is good at <span style=\"color: #008080; text-decoration-color: #008080; font-weight: bold\">6</span> miles, and the pressure is at <span style=\"color: #008080; text-decoration-color: #008080; font-weight: bold\">1025</span> \n",
       "millibars. So, overall, it's a pleasant evening in London with comfortable temperatures and clear skies.\n",
       "</pre>\n"
      ],
      "text/plain": [
       "The weather in London, UK, as of \u001b[1;92m8:15\u001b[0m PM local time, is clear with a temperature of \u001b[1;36m16\u001b[0m degrees Celsius or \u001b[1;36m61\u001b[0m \n",
       "degrees Fahrenheit. The humidity is at \u001b[1;36m77\u001b[0m%, and there is no precipitation. The UV index is low at \u001b[1;36m1\u001b[0m, and the wind \n",
       "is blowing from the SSW direction at \u001b[1;36m9\u001b[0m miles per hour. Visibility is good at \u001b[1;36m6\u001b[0m miles, and the pressure is at \u001b[1;36m1025\u001b[0m \n",
       "millibars. So, overall, it's a pleasant evening in London with comfortable temperatures and clear skies.\n"
      ]
     },
     "metadata": {},
     "output_type": "display_data"
    }
   ],
   "source": [
    "messages = [\n",
    "    {\n",
    "        \"role\": \"system\",\n",
    "        \"content\": \"You are a helpful assistant that has access to tools. Use the tools only if you don't have answers.\"\n",
    "    },\n",
    "    {\"role\":\"user\", \"content\":\"how is the weather in London today?\"}\n",
    "]\n",
    "\n",
    "output = llm.chat_completion(messages)\n",
    "\n",
    "if need_tool_use(output):\n",
    "    fname = output.choices[0].message.tool_calls[0].function.name\n",
    "    print(f\"Calling `{fname}` API\")\n",
    "    tool_results = llm.run_tool(output)\n",
    "    tool_results[0][\"role\"] = \"assistant\"\n",
    "\n",
    "    updated_messages = messages + tool_results\n",
    "    updated_messages = updated_messages + [\n",
    "        {\"role\": \"user\", \"content\": \"Please answer my question based on the above context.\"}\n",
    "        ]\n",
    "    output = llm.chat_completion(updated_messages)\n",
    "\n",
    "print(output.choices[0].message.content)"
   ]
  },
  {
   "cell_type": "code",
   "execution_count": 7,
   "id": "b8a8b0da",
   "metadata": {},
   "outputs": [
    {
     "name": "stderr",
     "output_type": "stream",
     "text": [
      "\u001b[32m2024-05-09 21:33:24.760\u001b[0m | \u001b[34m\u001b[1mDEBUG   \u001b[0m | \u001b[36magents.llms._cohere\u001b[0m:\u001b[36mchat_completion\u001b[0m:\u001b[36m58\u001b[0m - \u001b[34m\u001b[1mcontent='' additional_kwargs={'documents': None, 'citations': None, 'search_results': None, 'search_queries': None, 'is_search_required': None, 'generation_id': '71b2187d-767d-4e4c-9d48-b96ab4f9dc73', 'tool_calls': [{'id': '7da69f56ee1643bebf56be3a892a5054', 'function': {'name': 'image_inspector', 'arguments': '{\"image_url_or_path\": \"https://upload.wikimedia.org/wikipedia/commons/thumb/d/dd/Gfp-wisconsin-madison-the-nature-boardwalk.jpg/2560px-Gfp-wisconsin-madison-the-nature-boardwalk.jpg\"}'}, 'type': 'function'}, {'id': '65abe7d29b5c44f783454c330674f042', 'function': {'name': 'google_search', 'arguments': '{\"query\": \"London nature reserve with boardwalk\"}'}, 'type': 'function'}], 'token_count': {'output_tokens': 85}} response_metadata={'documents': None, 'citations': None, 'search_results': None, 'search_queries': None, 'is_search_required': None, 'generation_id': '71b2187d-767d-4e4c-9d48-b96ab4f9dc73', 'tool_calls': [{'id': '7da69f56ee1643bebf56be3a892a5054', 'function': {'name': 'image_inspector', 'arguments': '{\"image_url_or_path\": \"https://upload.wikimedia.org/wikipedia/commons/thumb/d/dd/Gfp-wisconsin-madison-the-nature-boardwalk.jpg/2560px-Gfp-wisconsin-madison-the-nature-boardwalk.jpg\"}'}, 'type': 'function'}, {'id': '65abe7d29b5c44f783454c330674f042', 'function': {'name': 'google_search', 'arguments': '{\"query\": \"London nature reserve with boardwalk\"}'}, 'type': 'function'}], 'token_count': {'output_tokens': 85}} id='run-12f5898e-843a-439b-932b-1c1f8eb8cd90-0' tool_calls=[{'name': 'image_inspector', 'args': {'image_url_or_path': 'https://upload.wikimedia.org/wikipedia/commons/thumb/d/dd/Gfp-wisconsin-madison-the-nature-boardwalk.jpg/2560px-Gfp-wisconsin-madison-the-nature-boardwalk.jpg'}, 'id': '82d826f538984ca597f85930f29c94ad'}, {'name': 'google_search', 'args': {'query': 'London nature reserve with boardwalk'}, 'id': '2329cf5b7fcb4b728b0be58f4bfd92c1'}]\u001b[0m\n"
     ]
    }
   ],
   "source": [
    "image_path = \"https://upload.wikimedia.org/wikipedia/commons/thumb/d/dd/Gfp-wisconsin-madison-the-nature-boardwalk.jpg/2560px-Gfp-wisconsin-madison-the-nature-boardwalk.jpg\"\n",
    "\n",
    "messages = [\n",
    "    {\"role\": \"system\", \"content\": \"You are a helpful assistant that has access to tools and use that to help humans.\"},\n",
    "    {\"role\": \"user\", \"content\": f\"Suggest me a location where I can go in London which looks similar to this image ```{image_path}```\"}\n",
    "]\n",
    "output = llm.chat_completion(messages)"
   ]
  },
  {
   "cell_type": "code",
   "execution_count": null,
   "id": "2889d76a",
   "metadata": {},
   "outputs": [],
   "source": [
    "print(output)"
   ]
  },
  {
   "cell_type": "code",
   "execution_count": 8,
   "id": "e5023ca8",
   "metadata": {},
   "outputs": [
    {
     "name": "stderr",
     "output_type": "stream",
     "text": [
      "\u001b[32m2024-05-09 21:33:45.204\u001b[0m | \u001b[34m\u001b[1mDEBUG   \u001b[0m | \u001b[36magents.tool_executor\u001b[0m:\u001b[36mcall_tool\u001b[0m:\u001b[36m88\u001b[0m - \u001b[34m\u001b[1mFunction image_inspector invoked with {'image_url_or_path': 'https://upload.wikimedia.org/wikipedia/commons/thumb/d/dd/Gfp-wisconsin-madison-the-nature-boardwalk.jpg/2560px-Gfp-wisconsin-madison-the-nature-boardwalk.jpg'}\u001b[0m\n",
      "\u001b[32m2024-05-09 21:33:49.840\u001b[0m | \u001b[34m\u001b[1mDEBUG   \u001b[0m | \u001b[36magents.tool_executor\u001b[0m:\u001b[36mcall_tool\u001b[0m:\u001b[36m90\u001b[0m - \u001b[34m\u001b[1mFunction image_inspector, responded with {\n",
      "  \"image_url_or_path\": \"https://upload.wikimedia.org/wikipedia/commons/thumb/d/dd/Gfp-wisconsin-madison-the-nature-boardwalk.jpg/2560px-Gfp-wisconsin-madison-the-nature-boardwalk.jpg\",\n",
      "  \"image description\": \" The image depicts a long wooden boardwalk cutting through a lush green field. The boardwalk is situated on the right side of the frame, stretching across the scene from one end to another. The field surrounding the boardwalk is filled with tall grass and wildflowers, creating a picturesque landscape. The sky above is blue with scattered clouds, adding depth to the overall scenery.\"\n",
      "}\u001b[0m\n",
      "\u001b[32m2024-05-09 21:33:49.840\u001b[0m | \u001b[34m\u001b[1mDEBUG   \u001b[0m | \u001b[36magents.tool_executor\u001b[0m:\u001b[36mcall_tool\u001b[0m:\u001b[36m88\u001b[0m - \u001b[34m\u001b[1mFunction google_search invoked with {'query': 'London nature reserve with boardwalk'}\u001b[0m\n",
      "\u001b[32m2024-05-09 21:33:55.616\u001b[0m | \u001b[34m\u001b[1mDEBUG   \u001b[0m | \u001b[36magents.tool_executor\u001b[0m:\u001b[36mcall_tool\u001b[0m:\u001b[36m90\u001b[0m - \u001b[34m\u001b[1mFunction google_search, responded with None\u001b[0m\n"
     ]
    }
   ],
   "source": [
    "tool_results = llm.run_tool(output)"
   ]
  },
  {
   "cell_type": "code",
   "execution_count": 10,
   "id": "6093a9a7",
   "metadata": {},
   "outputs": [
    {
     "name": "stderr",
     "output_type": "stream",
     "text": [
      "\u001b[32m2024-05-09 21:34:39.151\u001b[0m | \u001b[34m\u001b[1mDEBUG   \u001b[0m | \u001b[36magents.tool_executor\u001b[0m:\u001b[36mcall_tool\u001b[0m:\u001b[36m88\u001b[0m - \u001b[34m\u001b[1mFunction image_inspector invoked with {'image_url_or_path': 'https://upload.wikimedia.org/wikipedia/commons/thumb/d/dd/Gfp-wisconsin-madison-the-nature-boardwalk.jpg/2560px-Gfp-wisconsin-madison-the-nature-boardwalk.jpg'}\u001b[0m\n",
      "\u001b[32m2024-05-09 21:34:40.446\u001b[0m | \u001b[34m\u001b[1mDEBUG   \u001b[0m | \u001b[36magents.tool_executor\u001b[0m:\u001b[36mcall_tool\u001b[0m:\u001b[36m90\u001b[0m - \u001b[34m\u001b[1mFunction image_inspector, responded with {\n",
      "  \"image_url_or_path\": \"https://upload.wikimedia.org/wikipedia/commons/thumb/d/dd/Gfp-wisconsin-madison-the-nature-boardwalk.jpg/2560px-Gfp-wisconsin-madison-the-nature-boardwalk.jpg\",\n",
      "  \"image description\": \" The image depicts a wooden boardwalk with a grassy field extending into the distance. The boardwalk is situated on a small island, surrounded by water and offering a scenic view of the landscape. The sky above appears to be cloudy, creating a slightly overcast atmosphere.\"\n",
      "}\u001b[0m\n",
      "\u001b[32m2024-05-09 21:34:40.447\u001b[0m | \u001b[34m\u001b[1mDEBUG   \u001b[0m | \u001b[36magents.tool_executor\u001b[0m:\u001b[36mcall_tool\u001b[0m:\u001b[36m88\u001b[0m - \u001b[34m\u001b[1mFunction google_search invoked with {'query': 'London nature reserve with boardwalk'}\u001b[0m\n",
      "\u001b[32m2024-05-09 21:34:45.972\u001b[0m | \u001b[34m\u001b[1mDEBUG   \u001b[0m | \u001b[36magents.tool_executor\u001b[0m:\u001b[36mcall_tool\u001b[0m:\u001b[36m90\u001b[0m - \u001b[34m\u001b[1mFunction google_search, responded with None\u001b[0m\n",
      "\u001b[32m2024-05-09 21:34:47.253\u001b[0m | \u001b[34m\u001b[1mDEBUG   \u001b[0m | \u001b[36magents.llms._cohere\u001b[0m:\u001b[36mchat_completion\u001b[0m:\u001b[36m58\u001b[0m - \u001b[34m\u001b[1mcontent='' additional_kwargs={'documents': None, 'citations': None, 'search_results': None, 'search_queries': None, 'is_search_required': None, 'generation_id': 'a43f57be-df8c-4f22-8940-f8c38fac1435', 'tool_calls': [{'id': '3c1a0db6c1504caabdb444230fed40ab', 'function': {'name': 'google_search', 'arguments': '{\"query\": \"London nature boardwalk\"}'}, 'type': 'function'}], 'token_count': {'output_tokens': 10}} response_metadata={'documents': None, 'citations': None, 'search_results': None, 'search_queries': None, 'is_search_required': None, 'generation_id': 'a43f57be-df8c-4f22-8940-f8c38fac1435', 'tool_calls': [{'id': '3c1a0db6c1504caabdb444230fed40ab', 'function': {'name': 'google_search', 'arguments': '{\"query\": \"London nature boardwalk\"}'}, 'type': 'function'}], 'token_count': {'output_tokens': 10}} id='run-ae6f8a63-bc67-467d-b304-36f6145cdb7a-0' tool_calls=[{'name': 'google_search', 'args': {'query': 'London nature boardwalk'}, 'id': '68dc1df5da994d12abad575d9191d134'}]\u001b[0m\n"
     ]
    }
   ],
   "source": [
    "if need_tool_use(output):\n",
    "    tool_results = [llm.run_tool(output)[0]]  # use single tool\n",
    "    tool_results[0][\"role\"] = \"assistant\"\n",
    "\n",
    "    updated_messages = messages + tool_results\n",
    "    updated_messages = updated_messages + [\n",
    "        {\n",
    "            \"role\": \"user\", \"content\": \"Please answer my question based on the above context.\"\n",
    "        }\n",
    "        ]\n",
    "    output = llm.chat_completion(updated_messages)"
   ]
  },
  {
   "cell_type": "code",
   "execution_count": 15,
   "id": "5bca56b8",
   "metadata": {},
   "outputs": [
    {
     "name": "stderr",
     "output_type": "stream",
     "text": [
      "\u001b[32m2024-05-09 21:37:29.236\u001b[0m | \u001b[34m\u001b[1mDEBUG   \u001b[0m | \u001b[36magents.llms._cohere\u001b[0m:\u001b[36mchat_completion\u001b[0m:\u001b[36m58\u001b[0m - \u001b[34m\u001b[1mcontent='' additional_kwargs={'documents': None, 'citations': None, 'search_results': None, 'search_queries': None, 'is_search_required': None, 'generation_id': '5e21d550-5c70-4935-a924-15df1e2b59d8', 'tool_calls': [{'id': '5301113c2e6744b5bfebf1323d0574a6', 'function': {'name': 'google_search', 'arguments': '{\"query\": \"London walk similar to wooden boardwalk and grassy field\"}'}, 'type': 'function'}], 'token_count': {'output_tokens': 16}} response_metadata={'documents': None, 'citations': None, 'search_results': None, 'search_queries': None, 'is_search_required': None, 'generation_id': '5e21d550-5c70-4935-a924-15df1e2b59d8', 'tool_calls': [{'id': '5301113c2e6744b5bfebf1323d0574a6', 'function': {'name': 'google_search', 'arguments': '{\"query\": \"London walk similar to wooden boardwalk and grassy field\"}'}, 'type': 'function'}], 'token_count': {'output_tokens': 16}} id='run-907b27ca-22bd-4efb-b9a9-daaa502cd048-0' tool_calls=[{'name': 'google_search', 'args': {'query': 'London walk similar to wooden boardwalk and grassy field'}, 'id': '27e367d575b54f45bdbb247318c68449'}]\u001b[0m\n"
     ]
    },
    {
     "data": {
      "text/html": [
       "<pre style=\"white-space:pre;overflow-x:auto;line-height:normal;font-family:Menlo,'DejaVu Sans Mono',consolas,'Courier New',monospace\"><span style=\"color: #800080; text-decoration-color: #800080; font-weight: bold\">ChatCompletion</span><span style=\"font-weight: bold\">(</span>\n",
       "    <span style=\"color: #808000; text-decoration-color: #808000\">id</span>=<span style=\"color: #008000; text-decoration-color: #008000\">'run-907b27ca-22bd-4efb-b9a9-daaa502cd048-0'</span>,\n",
       "    <span style=\"color: #808000; text-decoration-color: #808000\">object</span>=<span style=\"color: #008000; text-decoration-color: #008000\">''</span>,\n",
       "    <span style=\"color: #808000; text-decoration-color: #808000\">created</span>=<span style=\"color: #008080; text-decoration-color: #008080; font-weight: bold\">1715290649</span>,\n",
       "    <span style=\"color: #808000; text-decoration-color: #808000\">model</span>=<span style=\"color: #008000; text-decoration-color: #008000\">'Cohere'</span>,\n",
       "    <span style=\"color: #808000; text-decoration-color: #808000\">choices</span>=<span style=\"font-weight: bold\">[</span>\n",
       "        <span style=\"color: #800080; text-decoration-color: #800080; font-weight: bold\">Choice</span><span style=\"font-weight: bold\">(</span>\n",
       "            <span style=\"color: #808000; text-decoration-color: #808000\">index</span>=<span style=\"color: #008080; text-decoration-color: #008080; font-weight: bold\">0</span>,\n",
       "            <span style=\"color: #808000; text-decoration-color: #808000\">logprobs</span>=<span style=\"color: #800080; text-decoration-color: #800080; font-style: italic\">None</span>,\n",
       "            <span style=\"color: #808000; text-decoration-color: #808000\">message</span>=<span style=\"color: #800080; text-decoration-color: #800080; font-weight: bold\">Message</span><span style=\"font-weight: bold\">(</span>\n",
       "                <span style=\"color: #808000; text-decoration-color: #808000\">role</span>=<span style=\"color: #008000; text-decoration-color: #008000\">'assistant'</span>,\n",
       "                <span style=\"color: #808000; text-decoration-color: #808000\">content</span>=<span style=\"color: #008000; text-decoration-color: #008000\">''</span>,\n",
       "                <span style=\"color: #808000; text-decoration-color: #808000\">tool_calls</span>=<span style=\"font-weight: bold\">[</span>\n",
       "                    <span style=\"color: #800080; text-decoration-color: #800080; font-weight: bold\">ToolCall</span><span style=\"font-weight: bold\">(</span>\n",
       "                        <span style=\"color: #808000; text-decoration-color: #808000\">id</span>=<span style=\"color: #008000; text-decoration-color: #008000\">'5301113c2e6744b5bfebf1323d0574a6'</span>,\n",
       "                        <span style=\"color: #808000; text-decoration-color: #808000\">type</span>=<span style=\"color: #008000; text-decoration-color: #008000\">'function'</span>,\n",
       "                        <span style=\"color: #808000; text-decoration-color: #808000\">function</span>=<span style=\"color: #800080; text-decoration-color: #800080; font-weight: bold\">FunctionInfo</span><span style=\"font-weight: bold\">(</span>\n",
       "                            <span style=\"color: #808000; text-decoration-color: #808000\">name</span>=<span style=\"color: #008000; text-decoration-color: #008000\">'google_search'</span>,\n",
       "                            <span style=\"color: #808000; text-decoration-color: #808000\">arguments</span>=<span style=\"color: #008000; text-decoration-color: #008000\">'{\"query\": \"London walk similar to wooden boardwalk and grassy field\"}'</span>\n",
       "                        <span style=\"font-weight: bold\">)</span>\n",
       "                    <span style=\"font-weight: bold\">)</span>\n",
       "                <span style=\"font-weight: bold\">]</span>\n",
       "            <span style=\"font-weight: bold\">)</span>,\n",
       "            <span style=\"color: #808000; text-decoration-color: #808000\">finish_reason</span>=<span style=\"color: #008000; text-decoration-color: #008000\">'stop'</span>\n",
       "        <span style=\"font-weight: bold\">)</span>\n",
       "    <span style=\"font-weight: bold\">]</span>,\n",
       "    <span style=\"color: #808000; text-decoration-color: #808000\">usage</span>=<span style=\"color: #800080; text-decoration-color: #800080; font-weight: bold\">Usage</span><span style=\"font-weight: bold\">(</span><span style=\"color: #808000; text-decoration-color: #808000\">prompt_tokens</span>=<span style=\"color: #008080; text-decoration-color: #008080; font-weight: bold\">-1</span>, <span style=\"color: #808000; text-decoration-color: #808000\">completion_tokens</span>=<span style=\"color: #008080; text-decoration-color: #008080; font-weight: bold\">16</span>, <span style=\"color: #808000; text-decoration-color: #808000\">total_tokens</span>=<span style=\"color: #008080; text-decoration-color: #008080; font-weight: bold\">-1</span><span style=\"font-weight: bold\">)</span>\n",
       "<span style=\"font-weight: bold\">)</span>\n",
       "</pre>\n"
      ],
      "text/plain": [
       "\u001b[1;35mChatCompletion\u001b[0m\u001b[1m(\u001b[0m\n",
       "    \u001b[33mid\u001b[0m=\u001b[32m'run-907b27ca-22bd-4efb-b9a9-daaa502cd048-0'\u001b[0m,\n",
       "    \u001b[33mobject\u001b[0m=\u001b[32m''\u001b[0m,\n",
       "    \u001b[33mcreated\u001b[0m=\u001b[1;36m1715290649\u001b[0m,\n",
       "    \u001b[33mmodel\u001b[0m=\u001b[32m'Cohere'\u001b[0m,\n",
       "    \u001b[33mchoices\u001b[0m=\u001b[1m[\u001b[0m\n",
       "        \u001b[1;35mChoice\u001b[0m\u001b[1m(\u001b[0m\n",
       "            \u001b[33mindex\u001b[0m=\u001b[1;36m0\u001b[0m,\n",
       "            \u001b[33mlogprobs\u001b[0m=\u001b[3;35mNone\u001b[0m,\n",
       "            \u001b[33mmessage\u001b[0m=\u001b[1;35mMessage\u001b[0m\u001b[1m(\u001b[0m\n",
       "                \u001b[33mrole\u001b[0m=\u001b[32m'assistant'\u001b[0m,\n",
       "                \u001b[33mcontent\u001b[0m=\u001b[32m''\u001b[0m,\n",
       "                \u001b[33mtool_calls\u001b[0m=\u001b[1m[\u001b[0m\n",
       "                    \u001b[1;35mToolCall\u001b[0m\u001b[1m(\u001b[0m\n",
       "                        \u001b[33mid\u001b[0m=\u001b[32m'5301113c2e6744b5bfebf1323d0574a6'\u001b[0m,\n",
       "                        \u001b[33mtype\u001b[0m=\u001b[32m'function'\u001b[0m,\n",
       "                        \u001b[33mfunction\u001b[0m=\u001b[1;35mFunctionInfo\u001b[0m\u001b[1m(\u001b[0m\n",
       "                            \u001b[33mname\u001b[0m=\u001b[32m'google_search'\u001b[0m,\n",
       "                            \u001b[33marguments\u001b[0m=\u001b[32m'\u001b[0m\u001b[32m{\u001b[0m\u001b[32m\"query\": \"London walk similar to wooden boardwalk and grassy field\"\u001b[0m\u001b[32m}\u001b[0m\u001b[32m'\u001b[0m\n",
       "                        \u001b[1m)\u001b[0m\n",
       "                    \u001b[1m)\u001b[0m\n",
       "                \u001b[1m]\u001b[0m\n",
       "            \u001b[1m)\u001b[0m,\n",
       "            \u001b[33mfinish_reason\u001b[0m=\u001b[32m'stop'\u001b[0m\n",
       "        \u001b[1m)\u001b[0m\n",
       "    \u001b[1m]\u001b[0m,\n",
       "    \u001b[33musage\u001b[0m=\u001b[1;35mUsage\u001b[0m\u001b[1m(\u001b[0m\u001b[33mprompt_tokens\u001b[0m=\u001b[1;36m-1\u001b[0m, \u001b[33mcompletion_tokens\u001b[0m=\u001b[1;36m16\u001b[0m, \u001b[33mtotal_tokens\u001b[0m=\u001b[1;36m-1\u001b[0m\u001b[1m)\u001b[0m\n",
       "\u001b[1m)\u001b[0m\n"
      ]
     },
     "metadata": {},
     "output_type": "display_data"
    }
   ],
   "source": [
    "updated_messages = messages + tool_results\n",
    "updated_messages = updated_messages + [\n",
    "    {\n",
    "        \"role\": \"user\", \"content\": \"Based on the image description suggest me a good place to walk in london\"\n",
    "    }\n",
    "    ]\n",
    "output = llm.chat_completion(updated_messages)\n",
    "print(output)"
   ]
  },
  {
   "cell_type": "code",
   "execution_count": null,
   "id": "bd154b82",
   "metadata": {},
   "outputs": [],
   "source": []
  }
 ],
 "metadata": {
  "kernelspec": {
   "display_name": "Python 3 (ipykernel)",
   "language": "python",
   "name": "python3"
  },
  "language_info": {
   "codemirror_mode": {
    "name": "ipython",
    "version": 3
   },
   "file_extension": ".py",
   "mimetype": "text/x-python",
   "name": "python",
   "nbconvert_exporter": "python",
   "pygments_lexer": "ipython3",
   "version": "3.10.10"
  }
 },
 "nbformat": 4,
 "nbformat_minor": 5
}
