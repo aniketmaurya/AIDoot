{
 "cells": [
  {
   "cell_type": "markdown",
   "id": "2e7b9591d6e2fa95",
   "metadata": {},
   "source": [
    "## Cohere hackathon\n",
    "\n",
    "- Build a multimodal capability abstraction\n",
    "- Build an example based on that"
   ]
  },
  {
   "cell_type": "code",
   "execution_count": 1,
   "id": "344d14176aef3e69",
   "metadata": {
    "ExecuteTime": {
     "end_time": "2024-05-08T13:49:24.379140Z",
     "start_time": "2024-05-08T13:49:24.374901Z"
    }
   },
   "outputs": [],
   "source": [
    "from dotenv import load_dotenv\n",
    "from rich import print\n",
    "\n",
    "load_dotenv(\"../.env\")\n",
    "\n",
    "import os\n",
    "os.environ[\"LOGURU_LEVEL\"] = \"DEBUG\""
   ]
  },
  {
   "cell_type": "code",
   "execution_count": 2,
   "id": "aa9f6be6",
   "metadata": {},
   "outputs": [],
   "source": [
    "from agents.tools import wikipedia_search, get_current_weather, image_inspector\n",
    "\n",
    "from agents.llms._cohere import CohereChatCompletion\n",
    "from agents.tool_executor import need_tool_use"
   ]
  },
  {
   "cell_type": "code",
   "execution_count": 3,
   "id": "394cc9fa",
   "metadata": {},
   "outputs": [],
   "source": [
    "llm = CohereChatCompletion()"
   ]
  },
  {
   "cell_type": "code",
   "execution_count": 4,
   "id": "bc4e8b8f",
   "metadata": {},
   "outputs": [],
   "source": [
    "llm.bind_tools([get_current_weather, wikipedia_search, image_inspector])"
   ]
  },
  {
   "cell_type": "code",
   "execution_count": 10,
   "id": "3d13aac7",
   "metadata": {},
   "outputs": [
    {
     "name": "stderr",
     "output_type": "stream",
     "text": [
      "\u001b[32m2024-05-08 16:49:50.210\u001b[0m | \u001b[34m\u001b[1mDEBUG   \u001b[0m | \u001b[36magents.llms._cohere\u001b[0m:\u001b[36mchat_completion\u001b[0m:\u001b[36m59\u001b[0m - \u001b[34m\u001b[1mcontent='' additional_kwargs={'documents': None, 'citations': None, 'search_results': None, 'search_queries': None, 'is_search_required': None, 'generation_id': 'fa720e92-d178-4845-b9f6-e415a6177bc9', 'tool_calls': [{'id': '65ae4caf67c94d01a1f8b5f88a306996', 'function': {'name': 'get_current_weather', 'arguments': '{\"city\": \"London\"}'}, 'type': 'function'}], 'token_count': {'output_tokens': 10}} response_metadata={'documents': None, 'citations': None, 'search_results': None, 'search_queries': None, 'is_search_required': None, 'generation_id': 'fa720e92-d178-4845-b9f6-e415a6177bc9', 'tool_calls': [{'id': '65ae4caf67c94d01a1f8b5f88a306996', 'function': {'name': 'get_current_weather', 'arguments': '{\"city\": \"London\"}'}, 'type': 'function'}], 'token_count': {'output_tokens': 10}} id='run-2acf6171-f2a9-4f5c-a589-90a23ad7c9e8-0' tool_calls=[{'name': 'get_current_weather', 'args': {'city': 'London'}, 'id': 'e6cbeb6aaa8e49828602294f2e87887a'}]\u001b[0m\n",
      "\u001b[32m2024-05-08 16:49:50.212\u001b[0m | \u001b[34m\u001b[1mDEBUG   \u001b[0m | \u001b[36magents.tool_executor\u001b[0m:\u001b[36mcall_tool\u001b[0m:\u001b[36m88\u001b[0m - \u001b[34m\u001b[1mFunction get_current_weather invoked with {'city': 'London'}\u001b[0m\n",
      "\u001b[32m2024-05-08 16:49:50.526\u001b[0m | \u001b[34m\u001b[1mDEBUG   \u001b[0m | \u001b[36magents.tool_executor\u001b[0m:\u001b[36mcall_tool\u001b[0m:\u001b[36m90\u001b[0m - \u001b[34m\u001b[1mFunction get_current_weather, responded with {\"FeelsLikeC\": \"20\", \"FeelsLikeF\": \"68\", \"cloudcover\": \"50\", \"humidity\": \"49\", \"localObsDateTime\": \"2024-05-08 02:58 PM\", \"observation_time\": \"01:58 PM\", \"precipInches\": \"0.0\", \"precipMM\": \"0.0\", \"pressure\": \"1029\", \"pressureInches\": \"30\", \"temp_C\": \"20\", \"temp_F\": \"68\", \"uvIndex\": \"5\", \"visibility\": \"10\", \"visibilityMiles\": \"6\", \"weatherCode\": \"116\", \"weatherDesc\": [{\"value\": \"Partly cloudy\"}], \"weatherIconUrl\": [{\"value\": \"\"}], \"winddir16Point\": \"SE\", \"winddirDegree\": \"140\", \"windspeedKmph\": \"7\", \"windspeedMiles\": \"4\"}\u001b[0m\n"
     ]
    },
    {
     "data": {
      "text/html": [
       "<pre style=\"white-space:pre;overflow-x:auto;line-height:normal;font-family:Menlo,'DejaVu Sans Mono',consolas,'Courier New',monospace\"><span style=\"font-weight: bold\">[</span>\n",
       "    <span style=\"font-weight: bold\">{</span>\n",
       "        <span style=\"color: #008000; text-decoration-color: #008000\">'role'</span>: <span style=\"color: #008000; text-decoration-color: #008000\">'system'</span>,\n",
       "        <span style=\"color: #008000; text-decoration-color: #008000\">'content'</span>: <span style=\"color: #008000; text-decoration-color: #008000\">\"You are a helpful assistant that has access to tools. Use the tools only if you don't have </span>\n",
       "<span style=\"color: #008000; text-decoration-color: #008000\">answers.\"</span>\n",
       "    <span style=\"font-weight: bold\">}</span>,\n",
       "    <span style=\"font-weight: bold\">{</span><span style=\"color: #008000; text-decoration-color: #008000\">'role'</span>: <span style=\"color: #008000; text-decoration-color: #008000\">'user'</span>, <span style=\"color: #008000; text-decoration-color: #008000\">'content'</span>: <span style=\"color: #008000; text-decoration-color: #008000\">'how is the weather in London today?'</span><span style=\"font-weight: bold\">}</span>,\n",
       "    <span style=\"font-weight: bold\">{</span>\n",
       "        <span style=\"color: #008000; text-decoration-color: #008000\">'tool_call_id'</span>: <span style=\"color: #008000; text-decoration-color: #008000\">'65ae4caf67c94d01a1f8b5f88a306996'</span>,\n",
       "        <span style=\"color: #008000; text-decoration-color: #008000\">'role'</span>: <span style=\"color: #008000; text-decoration-color: #008000\">'assistant'</span>,\n",
       "        <span style=\"color: #008000; text-decoration-color: #008000\">'name'</span>: <span style=\"color: #008000; text-decoration-color: #008000\">'get_current_weather'</span>,\n",
       "        <span style=\"color: #008000; text-decoration-color: #008000\">'content'</span>: <span style=\"color: #008000; text-decoration-color: #008000\">'{\"FeelsLikeC\": \"20\", \"FeelsLikeF\": \"68\", \"cloudcover\": \"50\", \"humidity\": \"49\", </span>\n",
       "<span style=\"color: #008000; text-decoration-color: #008000\">\"localObsDateTime\": \"2024-05-08 02:58 PM\", \"observation_time\": \"01:58 PM\", \"precipInches\": \"0.0\", \"precipMM\": </span>\n",
       "<span style=\"color: #008000; text-decoration-color: #008000\">\"0.0\", \"pressure\": \"1029\", \"pressureInches\": \"30\", \"temp_C\": \"20\", \"temp_F\": \"68\", \"uvIndex\": \"5\", \"visibility\": </span>\n",
       "<span style=\"color: #008000; text-decoration-color: #008000\">\"10\", \"visibilityMiles\": \"6\", \"weatherCode\": \"116\", \"weatherDesc\": [{\"value\": \"Partly cloudy\"}], \"weatherIconUrl\": </span>\n",
       "<span style=\"color: #008000; text-decoration-color: #008000\">[{\"value\": \"\"}], \"winddir16Point\": \"SE\", \"winddirDegree\": \"140\", \"windspeedKmph\": \"7\", \"windspeedMiles\": \"4\"}'</span>\n",
       "    <span style=\"font-weight: bold\">}</span>,\n",
       "    <span style=\"font-weight: bold\">{</span><span style=\"color: #008000; text-decoration-color: #008000\">'role'</span>: <span style=\"color: #008000; text-decoration-color: #008000\">'system'</span>, <span style=\"color: #008000; text-decoration-color: #008000\">'content'</span>: <span style=\"color: #008000; text-decoration-color: #008000\">'Do not use any tools now.'</span><span style=\"font-weight: bold\">}</span>,\n",
       "    <span style=\"font-weight: bold\">{</span><span style=\"color: #008000; text-decoration-color: #008000\">'role'</span>: <span style=\"color: #008000; text-decoration-color: #008000\">'user'</span>, <span style=\"color: #008000; text-decoration-color: #008000\">'content'</span>: <span style=\"color: #008000; text-decoration-color: #008000\">'Think step by step and answer my question based on the above context.'</span><span style=\"font-weight: bold\">}</span>\n",
       "<span style=\"font-weight: bold\">]</span>\n",
       "</pre>\n"
      ],
      "text/plain": [
       "\u001b[1m[\u001b[0m\n",
       "    \u001b[1m{\u001b[0m\n",
       "        \u001b[32m'role'\u001b[0m: \u001b[32m'system'\u001b[0m,\n",
       "        \u001b[32m'content'\u001b[0m: \u001b[32m\"You are a helpful assistant that has access to tools. Use the tools only if you don't have \u001b[0m\n",
       "\u001b[32manswers.\"\u001b[0m\n",
       "    \u001b[1m}\u001b[0m,\n",
       "    \u001b[1m{\u001b[0m\u001b[32m'role'\u001b[0m: \u001b[32m'user'\u001b[0m, \u001b[32m'content'\u001b[0m: \u001b[32m'how is the weather in London today?'\u001b[0m\u001b[1m}\u001b[0m,\n",
       "    \u001b[1m{\u001b[0m\n",
       "        \u001b[32m'tool_call_id'\u001b[0m: \u001b[32m'65ae4caf67c94d01a1f8b5f88a306996'\u001b[0m,\n",
       "        \u001b[32m'role'\u001b[0m: \u001b[32m'assistant'\u001b[0m,\n",
       "        \u001b[32m'name'\u001b[0m: \u001b[32m'get_current_weather'\u001b[0m,\n",
       "        \u001b[32m'content'\u001b[0m: \u001b[32m'\u001b[0m\u001b[32m{\u001b[0m\u001b[32m\"FeelsLikeC\": \"20\", \"FeelsLikeF\": \"68\", \"cloudcover\": \"50\", \"humidity\": \"49\", \u001b[0m\n",
       "\u001b[32m\"localObsDateTime\": \"2024-05-08 02:58 PM\", \"observation_time\": \"01:58 PM\", \"precipInches\": \"0.0\", \"precipMM\": \u001b[0m\n",
       "\u001b[32m\"0.0\", \"pressure\": \"1029\", \"pressureInches\": \"30\", \"temp_C\": \"20\", \"temp_F\": \"68\", \"uvIndex\": \"5\", \"visibility\": \u001b[0m\n",
       "\u001b[32m\"10\", \"visibilityMiles\": \"6\", \"weatherCode\": \"116\", \"weatherDesc\": \u001b[0m\u001b[32m[\u001b[0m\u001b[32m{\u001b[0m\u001b[32m\"value\": \"Partly cloudy\"\u001b[0m\u001b[32m}\u001b[0m\u001b[32m]\u001b[0m\u001b[32m, \"weatherIconUrl\": \u001b[0m\n",
       "\u001b[32m[\u001b[0m\u001b[32m{\u001b[0m\u001b[32m\"value\": \"\"\u001b[0m\u001b[32m}\u001b[0m\u001b[32m]\u001b[0m\u001b[32m, \"winddir16Point\": \"SE\", \"winddirDegree\": \"140\", \"windspeedKmph\": \"7\", \"windspeedMiles\": \"4\"\u001b[0m\u001b[32m}\u001b[0m\u001b[32m'\u001b[0m\n",
       "    \u001b[1m}\u001b[0m,\n",
       "    \u001b[1m{\u001b[0m\u001b[32m'role'\u001b[0m: \u001b[32m'system'\u001b[0m, \u001b[32m'content'\u001b[0m: \u001b[32m'Do not use any tools now.'\u001b[0m\u001b[1m}\u001b[0m,\n",
       "    \u001b[1m{\u001b[0m\u001b[32m'role'\u001b[0m: \u001b[32m'user'\u001b[0m, \u001b[32m'content'\u001b[0m: \u001b[32m'Think step by step and answer my question based on the above context.'\u001b[0m\u001b[1m}\u001b[0m\n",
       "\u001b[1m]\u001b[0m\n"
      ]
     },
     "metadata": {},
     "output_type": "display_data"
    },
    {
     "name": "stderr",
     "output_type": "stream",
     "text": [
      "\u001b[32m2024-05-08 16:49:54.720\u001b[0m | \u001b[34m\u001b[1mDEBUG   \u001b[0m | \u001b[36magents.llms._cohere\u001b[0m:\u001b[36mchat_completion\u001b[0m:\u001b[36m59\u001b[0m - \u001b[34m\u001b[1mcontent=\"The weather in London, as of 1:58 PM, is partly cloudy with a temperature of 20 degrees Celsius or 68 degrees Fahrenheit. The humidity is at 49%, and the UV index is 5. There is no precipitation, and the wind speed is mild at 7 km/h or 4 mph. The pressure is at 1029 millibars, with a visibility range of 10 km or 6 miles. So, overall, it's a pleasant day with mild temperatures and partly cloudy skies.\" additional_kwargs={'documents': None, 'citations': None, 'search_results': None, 'search_queries': None, 'is_search_required': None, 'generation_id': '0d276416-263e-4a18-b037-5aed320e473f', 'token_count': {'input_tokens': 349, 'output_tokens': 115}} response_metadata={'documents': None, 'citations': None, 'search_results': None, 'search_queries': None, 'is_search_required': None, 'generation_id': '0d276416-263e-4a18-b037-5aed320e473f', 'token_count': {'input_tokens': 349, 'output_tokens': 115}} id='run-ede32325-7f0a-4ee8-a2c6-3c08a3020b7b-0'\u001b[0m\n"
     ]
    },
    {
     "data": {
      "text/html": [
       "<pre style=\"white-space:pre;overflow-x:auto;line-height:normal;font-family:Menlo,'DejaVu Sans Mono',consolas,'Courier New',monospace\">The weather in London, as of <span style=\"color: #00ff00; text-decoration-color: #00ff00; font-weight: bold\">1:58</span> PM, is partly cloudy with a temperature of <span style=\"color: #008080; text-decoration-color: #008080; font-weight: bold\">20</span> degrees Celsius or <span style=\"color: #008080; text-decoration-color: #008080; font-weight: bold\">68</span> degrees \n",
       "Fahrenheit. The humidity is at <span style=\"color: #008080; text-decoration-color: #008080; font-weight: bold\">49</span>%, and the UV index is <span style=\"color: #008080; text-decoration-color: #008080; font-weight: bold\">5</span>. There is no precipitation, and the wind speed is mild at\n",
       "<span style=\"color: #008080; text-decoration-color: #008080; font-weight: bold\">7</span> km/h or <span style=\"color: #008080; text-decoration-color: #008080; font-weight: bold\">4</span> mph. The pressure is at <span style=\"color: #008080; text-decoration-color: #008080; font-weight: bold\">1029</span> millibars, with a visibility range of <span style=\"color: #008080; text-decoration-color: #008080; font-weight: bold\">10</span> km or <span style=\"color: #008080; text-decoration-color: #008080; font-weight: bold\">6</span> miles. So, overall, it's \n",
       "a pleasant day with mild temperatures and partly cloudy skies.\n",
       "</pre>\n"
      ],
      "text/plain": [
       "The weather in London, as of \u001b[1;92m1:58\u001b[0m PM, is partly cloudy with a temperature of \u001b[1;36m20\u001b[0m degrees Celsius or \u001b[1;36m68\u001b[0m degrees \n",
       "Fahrenheit. The humidity is at \u001b[1;36m49\u001b[0m%, and the UV index is \u001b[1;36m5\u001b[0m. There is no precipitation, and the wind speed is mild at\n",
       "\u001b[1;36m7\u001b[0m km/h or \u001b[1;36m4\u001b[0m mph. The pressure is at \u001b[1;36m1029\u001b[0m millibars, with a visibility range of \u001b[1;36m10\u001b[0m km or \u001b[1;36m6\u001b[0m miles. So, overall, it's \n",
       "a pleasant day with mild temperatures and partly cloudy skies.\n"
      ]
     },
     "metadata": {},
     "output_type": "display_data"
    }
   ],
   "source": [
    "messages = [\n",
    "    {\n",
    "        \"role\": \"system\",\n",
    "        \"content\": \"You are a helpful assistant that has access to tools. Use the tools only if you don't have answers.\"\n",
    "    },\n",
    "    {\"role\":\"user\", \"content\":\"how is the weather in London today?\"}\n",
    "]\n",
    "\n",
    "output = llm.chat_completion(messages)\n",
    "\n",
    "if need_tool_use(output):\n",
    "    tool_results = llm.run_tool(output)\n",
    "    tool_results[0][\"role\"] = \"assistant\"\n",
    "\n",
    "    updated_messages = messages + tool_results\n",
    "    updated_messages = updated_messages + [{\"role\":\"system\", \"content\": \"Do not use any tools now.\"},\n",
    "                                           {\"role\": \"user\", \"content\": \"Think step by step and answer my question based on the above context.\"}\n",
    "                                          ]\n",
    "    print(updated_messages)\n",
    "    output = llm.chat_completion(updated_messages)\n",
    "\n",
    "print(output.choices[0].message.content)"
   ]
  },
  {
   "cell_type": "code",
   "execution_count": null,
   "id": "e512cec4",
   "metadata": {},
   "outputs": [
    {
     "name": "stderr",
     "output_type": "stream",
     "text": [
      "\u001b[32m2024-05-08 16:50:28.194\u001b[0m | \u001b[34m\u001b[1mDEBUG   \u001b[0m | \u001b[36magents.llms._cohere\u001b[0m:\u001b[36mchat_completion\u001b[0m:\u001b[36m59\u001b[0m - \u001b[34m\u001b[1mcontent='' additional_kwargs={'documents': None, 'citations': None, 'search_results': None, 'search_queries': None, 'is_search_required': None, 'generation_id': '8112dfdc-8f1c-420c-a381-b6a132073f4a', 'tool_calls': [{'id': 'f213c3e072644e9cb24795ad3df81549', 'function': {'name': 'image_inspector', 'arguments': '{\"image_url_or_path\": \"https://upload.wikimedia.org/wikipedia/commons/thumb/d/dd/Gfp-wisconsin-madison-the-nature-boardwalk.jpg/2560px-Gfp-wisconsin-madison-the-nature-boardwalk.jpg\"}'}, 'type': 'function'}], 'token_count': {'output_tokens': 73}} response_metadata={'documents': None, 'citations': None, 'search_results': None, 'search_queries': None, 'is_search_required': None, 'generation_id': '8112dfdc-8f1c-420c-a381-b6a132073f4a', 'tool_calls': [{'id': 'f213c3e072644e9cb24795ad3df81549', 'function': {'name': 'image_inspector', 'arguments': '{\"image_url_or_path\": \"https://upload.wikimedia.org/wikipedia/commons/thumb/d/dd/Gfp-wisconsin-madison-the-nature-boardwalk.jpg/2560px-Gfp-wisconsin-madison-the-nature-boardwalk.jpg\"}'}, 'type': 'function'}], 'token_count': {'output_tokens': 73}} id='run-bd667a0b-0dd9-40ac-8384-67687262d9c4-0' tool_calls=[{'name': 'image_inspector', 'args': {'image_url_or_path': 'https://upload.wikimedia.org/wikipedia/commons/thumb/d/dd/Gfp-wisconsin-madison-the-nature-boardwalk.jpg/2560px-Gfp-wisconsin-madison-the-nature-boardwalk.jpg'}, 'id': '882e4fe5257349f1a3552e1d90b1f270'}]\u001b[0m\n",
      "\u001b[32m2024-05-08 16:50:28.196\u001b[0m | \u001b[34m\u001b[1mDEBUG   \u001b[0m | \u001b[36magents.tool_executor\u001b[0m:\u001b[36mcall_tool\u001b[0m:\u001b[36m88\u001b[0m - \u001b[34m\u001b[1mFunction image_inspector invoked with {'image_url_or_path': 'https://upload.wikimedia.org/wikipedia/commons/thumb/d/dd/Gfp-wisconsin-madison-the-nature-boardwalk.jpg/2560px-Gfp-wisconsin-madison-the-nature-boardwalk.jpg'}\u001b[0m\n",
      "\u001b[32m2024-05-08 16:50:30.956\u001b[0m | \u001b[34m\u001b[1mDEBUG   \u001b[0m | \u001b[36magents.tool_executor\u001b[0m:\u001b[36mcall_tool\u001b[0m:\u001b[36m90\u001b[0m - \u001b[34m\u001b[1mFunction image_inspector, responded with  The image depicts a long wooden boardwalk stretching across a lush green field. The boardwalk is surrounded by tall grass and wildflowers, creating a picturesque scene of nature's beauty. In the distance, there are trees visible, adding to the serene atmosphere of the landscape.\u001b[0m\n"
     ]
    },
    {
     "data": {
      "text/html": [
       "<pre style=\"white-space:pre;overflow-x:auto;line-height:normal;font-family:Menlo,'DejaVu Sans Mono',consolas,'Courier New',monospace\"><span style=\"font-weight: bold\">[</span>\n",
       "    <span style=\"font-weight: bold\">{</span>\n",
       "        <span style=\"color: #008000; text-decoration-color: #008000\">'role'</span>: <span style=\"color: #008000; text-decoration-color: #008000\">'system'</span>,\n",
       "        <span style=\"color: #008000; text-decoration-color: #008000\">'content'</span>: <span style=\"color: #008000; text-decoration-color: #008000\">'You are a helpful assistant that has access to tools and use that to help humans.'</span>\n",
       "    <span style=\"font-weight: bold\">}</span>,\n",
       "    <span style=\"font-weight: bold\">{</span>\n",
       "        <span style=\"color: #008000; text-decoration-color: #008000\">'role'</span>: <span style=\"color: #008000; text-decoration-color: #008000\">'user'</span>,\n",
       "        <span style=\"color: #008000; text-decoration-color: #008000\">'content'</span>: <span style=\"color: #008000; text-decoration-color: #008000\">'Check this image </span>\n",
       "<span style=\"color: #008000; text-decoration-color: #008000\">https://upload.wikimedia.org/wikipedia/commons/thumb/d/dd/Gfp-wisconsin-madison-the-nature-boardwalk.jpg/2560px-Gfp</span>\n",
       "<span style=\"color: #008000; text-decoration-color: #008000\">-wisconsin-madison-the-nature-boardwalk.jpg and suggest me a location where I can go in London which looks similar'</span>\n",
       "    <span style=\"font-weight: bold\">}</span>,\n",
       "    <span style=\"font-weight: bold\">{</span>\n",
       "        <span style=\"color: #008000; text-decoration-color: #008000\">'tool_call_id'</span>: <span style=\"color: #008000; text-decoration-color: #008000\">'f213c3e072644e9cb24795ad3df81549'</span>,\n",
       "        <span style=\"color: #008000; text-decoration-color: #008000\">'role'</span>: <span style=\"color: #008000; text-decoration-color: #008000\">'assistant'</span>,\n",
       "        <span style=\"color: #008000; text-decoration-color: #008000\">'name'</span>: <span style=\"color: #008000; text-decoration-color: #008000\">'image_inspector'</span>,\n",
       "        <span style=\"color: #008000; text-decoration-color: #008000\">'content'</span>: <span style=\"color: #008000; text-decoration-color: #008000\">\" The image depicts a long wooden boardwalk stretching across a lush green field. The boardwalk </span>\n",
       "<span style=\"color: #008000; text-decoration-color: #008000\">is surrounded by tall grass and wildflowers, creating a picturesque scene of nature's beauty. In the distance, </span>\n",
       "<span style=\"color: #008000; text-decoration-color: #008000\">there are trees visible, adding to the serene atmosphere of the landscape.\"</span>\n",
       "    <span style=\"font-weight: bold\">}</span>,\n",
       "    <span style=\"font-weight: bold\">{</span><span style=\"color: #008000; text-decoration-color: #008000\">'role'</span>: <span style=\"color: #008000; text-decoration-color: #008000\">'system'</span>, <span style=\"color: #008000; text-decoration-color: #008000\">'content'</span>: <span style=\"color: #008000; text-decoration-color: #008000\">'Do not use any tools now.'</span><span style=\"font-weight: bold\">}</span>,\n",
       "    <span style=\"font-weight: bold\">{</span><span style=\"color: #008000; text-decoration-color: #008000\">'role'</span>: <span style=\"color: #008000; text-decoration-color: #008000\">'user'</span>, <span style=\"color: #008000; text-decoration-color: #008000\">'content'</span>: <span style=\"color: #008000; text-decoration-color: #008000\">'Think step by step and answer my question based on the above context.'</span><span style=\"font-weight: bold\">}</span>\n",
       "<span style=\"font-weight: bold\">]</span>\n",
       "</pre>\n"
      ],
      "text/plain": [
       "\u001b[1m[\u001b[0m\n",
       "    \u001b[1m{\u001b[0m\n",
       "        \u001b[32m'role'\u001b[0m: \u001b[32m'system'\u001b[0m,\n",
       "        \u001b[32m'content'\u001b[0m: \u001b[32m'You are a helpful assistant that has access to tools and use that to help humans.'\u001b[0m\n",
       "    \u001b[1m}\u001b[0m,\n",
       "    \u001b[1m{\u001b[0m\n",
       "        \u001b[32m'role'\u001b[0m: \u001b[32m'user'\u001b[0m,\n",
       "        \u001b[32m'content'\u001b[0m: \u001b[32m'Check this image \u001b[0m\n",
       "\u001b[32mhttps://upload.wikimedia.org/wikipedia/commons/thumb/d/dd/Gfp-wisconsin-madison-the-nature-boardwalk.jpg/2560px-Gfp\u001b[0m\n",
       "\u001b[32m-wisconsin-madison-the-nature-boardwalk.jpg and suggest me a location where I can go in London which looks similar'\u001b[0m\n",
       "    \u001b[1m}\u001b[0m,\n",
       "    \u001b[1m{\u001b[0m\n",
       "        \u001b[32m'tool_call_id'\u001b[0m: \u001b[32m'f213c3e072644e9cb24795ad3df81549'\u001b[0m,\n",
       "        \u001b[32m'role'\u001b[0m: \u001b[32m'assistant'\u001b[0m,\n",
       "        \u001b[32m'name'\u001b[0m: \u001b[32m'image_inspector'\u001b[0m,\n",
       "        \u001b[32m'content'\u001b[0m: \u001b[32m\" The image depicts a long wooden boardwalk stretching across a lush green field. The boardwalk \u001b[0m\n",
       "\u001b[32mis surrounded by tall grass and wildflowers, creating a picturesque scene of nature's beauty. In the distance, \u001b[0m\n",
       "\u001b[32mthere are trees visible, adding to the serene atmosphere of the landscape.\"\u001b[0m\n",
       "    \u001b[1m}\u001b[0m,\n",
       "    \u001b[1m{\u001b[0m\u001b[32m'role'\u001b[0m: \u001b[32m'system'\u001b[0m, \u001b[32m'content'\u001b[0m: \u001b[32m'Do not use any tools now.'\u001b[0m\u001b[1m}\u001b[0m,\n",
       "    \u001b[1m{\u001b[0m\u001b[32m'role'\u001b[0m: \u001b[32m'user'\u001b[0m, \u001b[32m'content'\u001b[0m: \u001b[32m'Think step by step and answer my question based on the above context.'\u001b[0m\u001b[1m}\u001b[0m\n",
       "\u001b[1m]\u001b[0m\n"
      ]
     },
     "metadata": {},
     "output_type": "display_data"
    }
   ],
   "source": [
    "image_url = \"https://upload.wikimedia.org/wikipedia/commons/thumb/d/dd/Gfp-wisconsin-madison-the-nature-boardwalk.jpg/2560px-Gfp-wisconsin-madison-the-nature-boardwalk.jpg\"\n",
    "\n",
    "messages = [\n",
    "    {\"role\": \"system\", \"content\": \"You are a helpful assistant that has access to tools and use that to help humans.\"},\n",
    "    {\"role\": \"user\", \"content\": f\"Check this image {image_url} and suggest me a location where I can go in London which looks similar\"}\n",
    "]\n",
    "output = llm.chat_completion(messages)\n",
    "\n",
    "if need_tool_use(output):\n",
    "    tool_results = llm.run_tool(output)\n",
    "    tool_results[0][\"role\"] = \"assistant\"\n",
    "\n",
    "    updated_messages = messages + tool_results\n",
    "    updated_messages = updated_messages + [{\"role\":\"system\", \"content\": \"Do not use any tools now.\"},\n",
    "                                           {\"role\": \"user\", \"content\": \"Think step by step and answer my question based on the above context.\"}\n",
    "                                          ]\n",
    "    print(updated_messages)\n",
    "    output = llm.chat_completion(updated_messages)\n",
    "\n",
    "print(output.choices[0].message.content)"
   ]
  },
  {
   "cell_type": "code",
   "execution_count": null,
   "id": "dc67b5d5",
   "metadata": {},
   "outputs": [],
   "source": []
  },
  {
   "cell_type": "code",
   "execution_count": null,
   "id": "0a4c1649",
   "metadata": {},
   "outputs": [],
   "source": []
  }
 ],
 "metadata": {
  "kernelspec": {
   "display_name": "Python 3 (ipykernel)",
   "language": "python",
   "name": "python3"
  },
  "language_info": {
   "codemirror_mode": {
    "name": "ipython",
    "version": 3
   },
   "file_extension": ".py",
   "mimetype": "text/x-python",
   "name": "python",
   "nbconvert_exporter": "python",
   "pygments_lexer": "ipython3",
   "version": "3.10.13"
  }
 },
 "nbformat": 4,
 "nbformat_minor": 5
}
