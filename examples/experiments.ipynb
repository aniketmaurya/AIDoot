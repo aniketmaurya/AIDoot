{
 "cells": [
  {
   "cell_type": "code",
   "execution_count": 1,
   "id": "ef955ea5dc647547",
   "metadata": {
    "ExecuteTime": {
     "end_time": "2024-05-08T14:28:05.499684Z",
     "start_time": "2024-05-08T14:28:04.974915Z"
    }
   },
   "outputs": [],
   "source": [
    "from agents.llms.llm import LlamaCppChatCompletion\n",
    "from agents.tools import get_current_weather, wikipedia_search, google_search, image_inspector\n",
    "from rich import print"
   ]
  },
  {
   "cell_type": "code",
   "execution_count": 2,
   "id": "c40012e1a4c26846",
   "metadata": {
    "ExecuteTime": {
     "end_time": "2024-05-08T14:28:08.450391Z",
     "start_time": "2024-05-08T14:28:06.025026Z"
    }
   },
   "outputs": [
    {
     "name": "stderr",
     "output_type": "stream",
     "text": [
      "Special tokens have been added in the vocabulary, make sure the associated word embeddings are fine-tuned or trained.\n"
     ]
    }
   ],
   "source": [
    "llm = LlamaCppChatCompletion.from_default_llm(n_ctx=0)"
   ]
  },
  {
   "cell_type": "code",
   "execution_count": 3,
   "id": "b7e7adad64e71e48",
   "metadata": {
    "ExecuteTime": {
     "end_time": "2024-05-08T14:28:12.718734Z",
     "start_time": "2024-05-08T14:28:12.713550Z"
    }
   },
   "outputs": [],
   "source": [
    "llm.bind_tools([get_current_weather, google_search, wikipedia_search, image_inspector])"
   ]
  },
  {
   "cell_type": "code",
   "execution_count": 4,
   "id": "4b2af0fde4e405f9",
   "metadata": {
    "ExecuteTime": {
     "end_time": "2024-05-08T14:28:26.862725Z",
     "start_time": "2024-05-08T14:28:17.191633Z"
    }
   },
   "outputs": [
    {
     "data": {
      "text/html": [
       "<pre style=\"white-space:pre;overflow-x:auto;line-height:normal;font-family:Menlo,'DejaVu Sans Mono',consolas,'Courier New',monospace\"><span style=\"font-weight: bold\">[</span>\n",
       "    <span style=\"font-weight: bold\">{</span>\n",
       "        <span style=\"color: #008000; text-decoration-color: #008000\">'tool_call_id'</span>: <span style=\"color: #008000; text-decoration-color: #008000\">'call_VTgSNCBzIRKcgbvVtc4Eqs32'</span>,\n",
       "        <span style=\"color: #008000; text-decoration-color: #008000\">'role'</span>: <span style=\"color: #008000; text-decoration-color: #008000\">'tool'</span>,\n",
       "        <span style=\"color: #008000; text-decoration-color: #008000\">'name'</span>: <span style=\"color: #008000; text-decoration-color: #008000\">'get_current_weather'</span>,\n",
       "        <span style=\"color: #008000; text-decoration-color: #008000\">'content'</span>: <span style=\"color: #008000; text-decoration-color: #008000\">'{\"FeelsLikeC\": \"20\", \"FeelsLikeF\": \"68\", \"cloudcover\": \"50\", \"humidity\": \"49\", </span>\n",
       "<span style=\"color: #008000; text-decoration-color: #008000\">\"localObsDateTime\": \"2024-05-08 02:58 PM\", \"observation_time\": \"01:58 PM\", \"precipInches\": \"0.0\", \"precipMM\": </span>\n",
       "<span style=\"color: #008000; text-decoration-color: #008000\">\"0.0\", \"pressure\": \"1029\", \"pressureInches\": \"30\", \"temp_C\": \"20\", \"temp_F\": \"68\", \"uvIndex\": \"5\", \"visibility\": </span>\n",
       "<span style=\"color: #008000; text-decoration-color: #008000\">\"10\", \"visibilityMiles\": \"6\", \"weatherCode\": \"116\", \"weatherDesc\": [{\"value\": \"Partly cloudy\"}], \"weatherIconUrl\": </span>\n",
       "<span style=\"color: #008000; text-decoration-color: #008000\">[{\"value\": \"\"}], \"winddir16Point\": \"SE\", \"winddirDegree\": \"140\", \"windspeedKmph\": \"7\", \"windspeedMiles\": \"4\"}'</span>\n",
       "    <span style=\"font-weight: bold\">}</span>\n",
       "<span style=\"font-weight: bold\">]</span>\n",
       "</pre>\n"
      ],
      "text/plain": [
       "\u001B[1m[\u001B[0m\n",
       "    \u001B[1m{\u001B[0m\n",
       "        \u001B[32m'tool_call_id'\u001B[0m: \u001B[32m'call_VTgSNCBzIRKcgbvVtc4Eqs32'\u001B[0m,\n",
       "        \u001B[32m'role'\u001B[0m: \u001B[32m'tool'\u001B[0m,\n",
       "        \u001B[32m'name'\u001B[0m: \u001B[32m'get_current_weather'\u001B[0m,\n",
       "        \u001B[32m'content'\u001B[0m: \u001B[32m'\u001B[0m\u001B[32m{\u001B[0m\u001B[32m\"FeelsLikeC\": \"20\", \"FeelsLikeF\": \"68\", \"cloudcover\": \"50\", \"humidity\": \"49\", \u001B[0m\n",
       "\u001B[32m\"localObsDateTime\": \"2024-05-08 02:58 PM\", \"observation_time\": \"01:58 PM\", \"precipInches\": \"0.0\", \"precipMM\": \u001B[0m\n",
       "\u001B[32m\"0.0\", \"pressure\": \"1029\", \"pressureInches\": \"30\", \"temp_C\": \"20\", \"temp_F\": \"68\", \"uvIndex\": \"5\", \"visibility\": \u001B[0m\n",
       "\u001B[32m\"10\", \"visibilityMiles\": \"6\", \"weatherCode\": \"116\", \"weatherDesc\": \u001B[0m\u001B[32m[\u001B[0m\u001B[32m{\u001B[0m\u001B[32m\"value\": \"Partly cloudy\"\u001B[0m\u001B[32m}\u001B[0m\u001B[32m]\u001B[0m\u001B[32m, \"weatherIconUrl\": \u001B[0m\n",
       "\u001B[32m[\u001B[0m\u001B[32m{\u001B[0m\u001B[32m\"value\": \"\"\u001B[0m\u001B[32m}\u001B[0m\u001B[32m]\u001B[0m\u001B[32m, \"winddir16Point\": \"SE\", \"winddirDegree\": \"140\", \"windspeedKmph\": \"7\", \"windspeedMiles\": \"4\"\u001B[0m\u001B[32m}\u001B[0m\u001B[32m'\u001B[0m\n",
       "    \u001B[1m}\u001B[0m\n",
       "\u001B[1m]\u001B[0m\n"
      ]
     },
     "metadata": {},
     "output_type": "display_data"
    }
   ],
   "source": [
    "messages = [\n",
    "    {\"role\": \"system\", \"content\": \"You are a helpful assistant that has access to tools and use that to help humans.\"},\n",
    "    {\"role\": \"user\", \"content\": \"What is the weather in London?\"}\n",
    "]\n",
    "output = llm.chat_completion(messages)\n",
    "tool_results = llm.run_tool(output)\n",
    "print(tool_results)"
   ]
  },
  {
   "cell_type": "code",
   "execution_count": 9,
   "id": "1fc480c925e1c88e",
   "metadata": {
    "ExecuteTime": {
     "end_time": "2024-05-08T14:29:37.170035Z",
     "start_time": "2024-05-08T14:29:19.705888Z"
    }
   },
   "outputs": [
    {
     "data": {
      "text/html": [
       "<pre style=\"white-space:pre;overflow-x:auto;line-height:normal;font-family:Menlo,'DejaVu Sans Mono',consolas,'Courier New',monospace\">Based on the image you provided, it appears to be a nature boardwalk surrounded by lush green grass and a peaceful \n",
       "sky filled with clouds. The presence of people indicates that it could be a popular spot for outdoor activities or \n",
       "leisurely walks. If you're looking for a similar location in London, you might consider visiting one of the city's \n",
       "many parks or nature reserves. Here are a few suggestions:\n",
       "\n",
       "<span style=\"color: #008080; text-decoration-color: #008080; font-weight: bold\">1</span>. **Richmond Park**: This is the largest royal park in London and offers a variety of landscapes, including open \n",
       "grasslands, wooded areas, and lakes. It's a great place for walking, cycling, and enjoying the outdoors.\n",
       "\n",
       "<span style=\"color: #008080; text-decoration-color: #008080; font-weight: bold\">2</span>. **Hampstead Heath**: Another large green space in London, Hampstead Heath is known for its ponds, meadows, and \n",
       "woodlands. It's a popular spot for picnics, sunbathing, and hiking.\n",
       "\n",
       "<span style=\"color: #008080; text-decoration-color: #008080; font-weight: bold\">3</span>. **Greenwich Park**: This park offers panoramic views of the city and is home to several historic buildings, \n",
       "including the Royal Observatory. It's a great place for a leisurely walk or a picnic.\n",
       "\n",
       "<span style=\"color: #008080; text-decoration-color: #008080; font-weight: bold\">4</span>. **Victoria Park**: A smaller but still beautiful park in East London, Victoria Park is known for its lakes, \n",
       "gardens, and outdoor events.\n",
       "\n",
       "<span style=\"color: #008080; text-decoration-color: #008080; font-weight: bold\">5</span>. **Hyde Park**: One of the most central parks in London, Hyde Park offers a variety of attractions, including the\n",
       "Serpentine Lake, Speaker's Corner, and several monuments.\n",
       "\n",
       "These locations all offer a peaceful and natural environment similar to the image you provided, making them \n",
       "excellent choices for a day out in London.\n",
       "</pre>\n"
      ],
      "text/plain": [
       "Based on the image you provided, it appears to be a nature boardwalk surrounded by lush green grass and a peaceful \n",
       "sky filled with clouds. The presence of people indicates that it could be a popular spot for outdoor activities or \n",
       "leisurely walks. If you're looking for a similar location in London, you might consider visiting one of the city's \n",
       "many parks or nature reserves. Here are a few suggestions:\n",
       "\n",
       "\u001B[1;36m1\u001B[0m. **Richmond Park**: This is the largest royal park in London and offers a variety of landscapes, including open \n",
       "grasslands, wooded areas, and lakes. It's a great place for walking, cycling, and enjoying the outdoors.\n",
       "\n",
       "\u001B[1;36m2\u001B[0m. **Hampstead Heath**: Another large green space in London, Hampstead Heath is known for its ponds, meadows, and \n",
       "woodlands. It's a popular spot for picnics, sunbathing, and hiking.\n",
       "\n",
       "\u001B[1;36m3\u001B[0m. **Greenwich Park**: This park offers panoramic views of the city and is home to several historic buildings, \n",
       "including the Royal Observatory. It's a great place for a leisurely walk or a picnic.\n",
       "\n",
       "\u001B[1;36m4\u001B[0m. **Victoria Park**: A smaller but still beautiful park in East London, Victoria Park is known for its lakes, \n",
       "gardens, and outdoor events.\n",
       "\n",
       "\u001B[1;36m5\u001B[0m. **Hyde Park**: One of the most central parks in London, Hyde Park offers a variety of attractions, including the\n",
       "Serpentine Lake, Speaker's Corner, and several monuments.\n",
       "\n",
       "These locations all offer a peaceful and natural environment similar to the image you provided, making them \n",
       "excellent choices for a day out in London.\n"
      ]
     },
     "metadata": {},
     "output_type": "display_data"
    }
   ],
   "source": [
    "image_url = \"https://upload.wikimedia.org/wikipedia/commons/thumb/d/dd/Gfp-wisconsin-madison-the-nature-boardwalk.jpg/2560px-Gfp-wisconsin-madison-the-nature-boardwalk.jpg\"\n",
    "\n",
    "messages = [\n",
    "    {\"role\": \"system\", \"content\": \"You are a helpful assistant that has access to tools and use that to help humans.\"},\n",
    "    {\"role\": \"user\", \"content\": f\"Check this image {image_url} and suggest me a location where I can go in London which looks similar\"}\n",
    "]\n",
    "output = llm.chat_completion(messages)\n",
    "tool_results = llm.run_tool(output)\n",
    "\n",
    "updated_messages = messages + tool_results\n",
    "messages = updated_messages + [{\"role\": \"user\", \"content\": \"please answer me, based on the tool results.\"}]\n",
    "output = llm.chat_completion(messages)\n",
    "print(output.choices[0].message.content)"
   ]
  },
  {
   "cell_type": "code",
   "execution_count": null,
   "id": "244d243e36445bd6",
   "metadata": {
    "ExecuteTime": {
     "end_time": "2024-05-08T00:02:13.512776Z",
     "start_time": "2024-05-08T00:02:07.319637Z"
    }
   },
   "outputs": [],
   "source": [
    "messages = [\n",
    "    {\"role\": \"system\", \"content\": \"You are a helpful assistant that has access to tools and use that to help humans.\"},\n",
    "    {\"role\": \"user\", \"content\": \"Who won the 2024 mayor election in London?\"}\n",
    "]\n",
    "output = llm.chat_completion(messages)\n",
    "tool_results = llm.run_tool(output)\n",
    "\n",
    "updated_messages = messages + tool_results\n",
    "messages = updated_messages + [{\"role\": \"user\", \"content\": \"please answer me, based on the tool results.\"}]\n",
    "output = llm.chat_completion(messages)\n",
    "print(output.choices[0].message.content)"
   ]
  }
 ],
 "metadata": {
  "kernelspec": {
   "display_name": "Python 3 (ipykernel)",
   "language": "python",
   "name": "python3"
  },
  "language_info": {
   "codemirror_mode": {
    "name": "ipython",
    "version": 3
   },
   "file_extension": ".py",
   "mimetype": "text/x-python",
   "name": "python",
   "nbconvert_exporter": "python",
   "pygments_lexer": "ipython3",
   "version": "3.10.13"
  }
 },
 "nbformat": 4,
 "nbformat_minor": 5
}
