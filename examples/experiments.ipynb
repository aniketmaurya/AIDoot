{
 "cells": [
  {
   "cell_type": "code",
   "id": "ef955ea5dc647547",
   "metadata": {
    "ExecuteTime": {
     "end_time": "2024-05-08T00:02:02.976067Z",
     "start_time": "2024-05-08T00:02:02.178428Z"
    }
   },
   "source": [
    "from agents.llms.llm import LlamaCppChatCompletion\n",
    "from agents.tools import get_current_weather, wikipedia_search, google_search\n",
    "from rich import print"
   ],
   "outputs": [],
   "execution_count": 1
  },
  {
   "cell_type": "code",
   "id": "c40012e1a4c26846",
   "metadata": {
    "ExecuteTime": {
     "end_time": "2024-05-08T00:02:04.848188Z",
     "start_time": "2024-05-08T00:02:02.977013Z"
    }
   },
   "source": "llm = LlamaCppChatCompletion.from_default_llm(n_ctx=0)",
   "outputs": [
    {
     "name": "stderr",
     "output_type": "stream",
     "text": [
      "Special tokens have been added in the vocabulary, make sure the associated word embeddings are fine-tuned or trained.\n"
     ]
    }
   ],
   "execution_count": 2
  },
  {
   "cell_type": "code",
   "id": "b7e7adad64e71e48",
   "metadata": {
    "ExecuteTime": {
     "end_time": "2024-05-08T00:02:04.851625Z",
     "start_time": "2024-05-08T00:02:04.848972Z"
    }
   },
   "source": "llm.bind_tools([get_current_weather, google_search, wikipedia_search])",
   "outputs": [],
   "execution_count": 3
  },
  {
   "cell_type": "code",
   "id": "4b2af0fde4e405f9",
   "metadata": {
    "ExecuteTime": {
     "end_time": "2024-05-08T00:02:07.316811Z",
     "start_time": "2024-05-08T00:02:04.852381Z"
    }
   },
   "source": [
    "messages = [\n",
    "    {\"role\": \"system\", \"content\": \"You are a helpful assistant that has access to tools and use that to help humans.\"},\n",
    "    {\"role\": \"user\", \"content\": \"What is the weather in London?\"}\n",
    "]\n",
    "output = llm.chat_completion(messages)\n",
    "tool_results = llm.run_tool(output)\n",
    "print(tool_results)"
   ],
   "outputs": [
    {
     "data": {
      "text/plain": [
       "\u001B[1m[\u001B[0m\n",
       "    \u001B[1m{\u001B[0m\n",
       "        \u001B[32m'tool_call_id'\u001B[0m: \u001B[32m'call_hKw2sNLi7imNJs1zh40PN0KF'\u001B[0m,\n",
       "        \u001B[32m'role'\u001B[0m: \u001B[32m'tool'\u001B[0m,\n",
       "        \u001B[32m'name'\u001B[0m: \u001B[32m'get_current_weather'\u001B[0m,\n",
       "        \u001B[32m'content'\u001B[0m: \u001B[1m{\u001B[0m\n",
       "            \u001B[32m'FeelsLikeC'\u001B[0m: \u001B[32m'16'\u001B[0m,\n",
       "            \u001B[32m'FeelsLikeF'\u001B[0m: \u001B[32m'61'\u001B[0m,\n",
       "            \u001B[32m'cloudcover'\u001B[0m: \u001B[32m'0'\u001B[0m,\n",
       "            \u001B[32m'humidity'\u001B[0m: \u001B[32m'72'\u001B[0m,\n",
       "            \u001B[32m'localObsDateTime'\u001B[0m: \u001B[32m'2024-05-07 09:23 PM'\u001B[0m,\n",
       "            \u001B[32m'observation_time'\u001B[0m: \u001B[32m'08:23 PM'\u001B[0m,\n",
       "            \u001B[32m'precipInches'\u001B[0m: \u001B[32m'0.0'\u001B[0m,\n",
       "            \u001B[32m'precipMM'\u001B[0m: \u001B[32m'0.0'\u001B[0m,\n",
       "            \u001B[32m'pressure'\u001B[0m: \u001B[32m'1026'\u001B[0m,\n",
       "            \u001B[32m'pressureInches'\u001B[0m: \u001B[32m'30'\u001B[0m,\n",
       "            \u001B[32m'temp_C'\u001B[0m: \u001B[32m'16'\u001B[0m,\n",
       "            \u001B[32m'temp_F'\u001B[0m: \u001B[32m'61'\u001B[0m,\n",
       "            \u001B[32m'uvIndex'\u001B[0m: \u001B[32m'1'\u001B[0m,\n",
       "            \u001B[32m'visibility'\u001B[0m: \u001B[32m'10'\u001B[0m,\n",
       "            \u001B[32m'visibilityMiles'\u001B[0m: \u001B[32m'6'\u001B[0m,\n",
       "            \u001B[32m'weatherCode'\u001B[0m: \u001B[32m'113'\u001B[0m,\n",
       "            \u001B[32m'weatherDesc'\u001B[0m: \u001B[1m[\u001B[0m\u001B[1m{\u001B[0m\u001B[32m'value'\u001B[0m: \u001B[32m'Clear'\u001B[0m\u001B[1m}\u001B[0m\u001B[1m]\u001B[0m,\n",
       "            \u001B[32m'weatherIconUrl'\u001B[0m: \u001B[1m[\u001B[0m\u001B[1m{\u001B[0m\u001B[32m'value'\u001B[0m: \u001B[32m''\u001B[0m\u001B[1m}\u001B[0m\u001B[1m]\u001B[0m,\n",
       "            \u001B[32m'winddir16Point'\u001B[0m: \u001B[32m'NE'\u001B[0m,\n",
       "            \u001B[32m'winddirDegree'\u001B[0m: \u001B[32m'40'\u001B[0m,\n",
       "            \u001B[32m'windspeedKmph'\u001B[0m: \u001B[32m'9'\u001B[0m,\n",
       "            \u001B[32m'windspeedMiles'\u001B[0m: \u001B[32m'6'\u001B[0m\n",
       "        \u001B[1m}\u001B[0m\n",
       "    \u001B[1m}\u001B[0m\n",
       "\u001B[1m]\u001B[0m\n"
      ],
      "text/html": [
       "<pre style=\"white-space:pre;overflow-x:auto;line-height:normal;font-family:Menlo,'DejaVu Sans Mono',consolas,'Courier New',monospace\"><span style=\"font-weight: bold\">[</span>\n",
       "    <span style=\"font-weight: bold\">{</span>\n",
       "        <span style=\"color: #008000; text-decoration-color: #008000\">'tool_call_id'</span>: <span style=\"color: #008000; text-decoration-color: #008000\">'call_hKw2sNLi7imNJs1zh40PN0KF'</span>,\n",
       "        <span style=\"color: #008000; text-decoration-color: #008000\">'role'</span>: <span style=\"color: #008000; text-decoration-color: #008000\">'tool'</span>,\n",
       "        <span style=\"color: #008000; text-decoration-color: #008000\">'name'</span>: <span style=\"color: #008000; text-decoration-color: #008000\">'get_current_weather'</span>,\n",
       "        <span style=\"color: #008000; text-decoration-color: #008000\">'content'</span>: <span style=\"font-weight: bold\">{</span>\n",
       "            <span style=\"color: #008000; text-decoration-color: #008000\">'FeelsLikeC'</span>: <span style=\"color: #008000; text-decoration-color: #008000\">'16'</span>,\n",
       "            <span style=\"color: #008000; text-decoration-color: #008000\">'FeelsLikeF'</span>: <span style=\"color: #008000; text-decoration-color: #008000\">'61'</span>,\n",
       "            <span style=\"color: #008000; text-decoration-color: #008000\">'cloudcover'</span>: <span style=\"color: #008000; text-decoration-color: #008000\">'0'</span>,\n",
       "            <span style=\"color: #008000; text-decoration-color: #008000\">'humidity'</span>: <span style=\"color: #008000; text-decoration-color: #008000\">'72'</span>,\n",
       "            <span style=\"color: #008000; text-decoration-color: #008000\">'localObsDateTime'</span>: <span style=\"color: #008000; text-decoration-color: #008000\">'2024-05-07 09:23 PM'</span>,\n",
       "            <span style=\"color: #008000; text-decoration-color: #008000\">'observation_time'</span>: <span style=\"color: #008000; text-decoration-color: #008000\">'08:23 PM'</span>,\n",
       "            <span style=\"color: #008000; text-decoration-color: #008000\">'precipInches'</span>: <span style=\"color: #008000; text-decoration-color: #008000\">'0.0'</span>,\n",
       "            <span style=\"color: #008000; text-decoration-color: #008000\">'precipMM'</span>: <span style=\"color: #008000; text-decoration-color: #008000\">'0.0'</span>,\n",
       "            <span style=\"color: #008000; text-decoration-color: #008000\">'pressure'</span>: <span style=\"color: #008000; text-decoration-color: #008000\">'1026'</span>,\n",
       "            <span style=\"color: #008000; text-decoration-color: #008000\">'pressureInches'</span>: <span style=\"color: #008000; text-decoration-color: #008000\">'30'</span>,\n",
       "            <span style=\"color: #008000; text-decoration-color: #008000\">'temp_C'</span>: <span style=\"color: #008000; text-decoration-color: #008000\">'16'</span>,\n",
       "            <span style=\"color: #008000; text-decoration-color: #008000\">'temp_F'</span>: <span style=\"color: #008000; text-decoration-color: #008000\">'61'</span>,\n",
       "            <span style=\"color: #008000; text-decoration-color: #008000\">'uvIndex'</span>: <span style=\"color: #008000; text-decoration-color: #008000\">'1'</span>,\n",
       "            <span style=\"color: #008000; text-decoration-color: #008000\">'visibility'</span>: <span style=\"color: #008000; text-decoration-color: #008000\">'10'</span>,\n",
       "            <span style=\"color: #008000; text-decoration-color: #008000\">'visibilityMiles'</span>: <span style=\"color: #008000; text-decoration-color: #008000\">'6'</span>,\n",
       "            <span style=\"color: #008000; text-decoration-color: #008000\">'weatherCode'</span>: <span style=\"color: #008000; text-decoration-color: #008000\">'113'</span>,\n",
       "            <span style=\"color: #008000; text-decoration-color: #008000\">'weatherDesc'</span>: <span style=\"font-weight: bold\">[{</span><span style=\"color: #008000; text-decoration-color: #008000\">'value'</span>: <span style=\"color: #008000; text-decoration-color: #008000\">'Clear'</span><span style=\"font-weight: bold\">}]</span>,\n",
       "            <span style=\"color: #008000; text-decoration-color: #008000\">'weatherIconUrl'</span>: <span style=\"font-weight: bold\">[{</span><span style=\"color: #008000; text-decoration-color: #008000\">'value'</span>: <span style=\"color: #008000; text-decoration-color: #008000\">''</span><span style=\"font-weight: bold\">}]</span>,\n",
       "            <span style=\"color: #008000; text-decoration-color: #008000\">'winddir16Point'</span>: <span style=\"color: #008000; text-decoration-color: #008000\">'NE'</span>,\n",
       "            <span style=\"color: #008000; text-decoration-color: #008000\">'winddirDegree'</span>: <span style=\"color: #008000; text-decoration-color: #008000\">'40'</span>,\n",
       "            <span style=\"color: #008000; text-decoration-color: #008000\">'windspeedKmph'</span>: <span style=\"color: #008000; text-decoration-color: #008000\">'9'</span>,\n",
       "            <span style=\"color: #008000; text-decoration-color: #008000\">'windspeedMiles'</span>: <span style=\"color: #008000; text-decoration-color: #008000\">'6'</span>\n",
       "        <span style=\"font-weight: bold\">}</span>\n",
       "    <span style=\"font-weight: bold\">}</span>\n",
       "<span style=\"font-weight: bold\">]</span>\n",
       "</pre>\n"
      ]
     },
     "metadata": {},
     "output_type": "display_data"
    }
   ],
   "execution_count": 4
  },
  {
   "cell_type": "code",
   "id": "244d243e36445bd6",
   "metadata": {
    "ExecuteTime": {
     "end_time": "2024-05-08T00:02:13.512776Z",
     "start_time": "2024-05-08T00:02:07.319637Z"
    }
   },
   "source": [
    "messages = [\n",
    "    {\"role\": \"system\", \"content\": \"You are a helpful assistant that has access to tools and use that to help humans.\"},\n",
    "    {\"role\": \"user\", \"content\": \"Who won the 2024 mayor election in London?\"}\n",
    "]\n",
    "output = llm.chat_completion(messages)\n",
    "tool_results = llm.run_tool(output)\n",
    "\n",
    "updated_messages = messages + tool_results\n",
    "messages = updated_messages + [{\"role\": \"user\", \"content\": \"please answer me, based on the tool results.\"}]\n",
    "output = llm.chat_completion(messages)\n",
    "print(output.choices[0].message.content)"
   ],
   "outputs": [
    {
     "data": {
      "text/plain": [
       "The \u001B[1;36m2024\u001B[0m London mayoral election was held on May \u001B[1;36m2\u001B[0m, \u001B[1;36m2024\u001B[0m. Sadiq Khan of the Labour Party was re-elected as mayor \n",
       "for a third term, making him the first person to be elected to this role for three terms.\n"
      ],
      "text/html": [
       "<pre style=\"white-space:pre;overflow-x:auto;line-height:normal;font-family:Menlo,'DejaVu Sans Mono',consolas,'Courier New',monospace\">The <span style=\"color: #008080; text-decoration-color: #008080; font-weight: bold\">2024</span> London mayoral election was held on May <span style=\"color: #008080; text-decoration-color: #008080; font-weight: bold\">2</span>, <span style=\"color: #008080; text-decoration-color: #008080; font-weight: bold\">2024</span>. Sadiq Khan of the Labour Party was re-elected as mayor \n",
       "for a third term, making him the first person to be elected to this role for three terms.\n",
       "</pre>\n"
      ]
     },
     "metadata": {},
     "output_type": "display_data"
    }
   ],
   "execution_count": 5
  }
 ],
 "metadata": {
  "kernelspec": {
   "display_name": "Python 3 (ipykernel)",
   "language": "python",
   "name": "python3"
  },
  "language_info": {
   "codemirror_mode": {
    "name": "ipython",
    "version": 3
   },
   "file_extension": ".py",
   "mimetype": "text/x-python",
   "name": "python",
   "nbconvert_exporter": "python",
   "pygments_lexer": "ipython3",
   "version": "3.10.13"
  }
 },
 "nbformat": 4,
 "nbformat_minor": 5
}
