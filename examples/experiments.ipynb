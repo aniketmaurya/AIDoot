{
 "cells": [
  {
   "metadata": {
    "ExecuteTime": {
     "end_time": "2024-05-07T23:28:21.067103Z",
     "start_time": "2024-05-07T23:28:20.289165Z"
    }
   },
   "cell_type": "code",
   "source": [
    "from agents.llms.llm import LlamaCppChatCompletion\n",
    "from agents.tools import get_current_weather, wikipedia_search\n",
    "from rich import print"
   ],
   "id": "ef955ea5dc647547",
   "outputs": [],
   "execution_count": 1
  },
  {
   "metadata": {
    "ExecuteTime": {
     "end_time": "2024-05-07T23:28:23.145039Z",
     "start_time": "2024-05-07T23:28:21.068063Z"
    }
   },
   "cell_type": "code",
   "source": "llm = LlamaCppChatCompletion.from_default_llm(n_ctx=0)",
   "id": "c40012e1a4c26846",
   "outputs": [
    {
     "name": "stderr",
     "output_type": "stream",
     "text": [
      "Special tokens have been added in the vocabulary, make sure the associated word embeddings are fine-tuned or trained.\n"
     ]
    }
   ],
   "execution_count": 2
  },
  {
   "metadata": {
    "ExecuteTime": {
     "end_time": "2024-05-07T23:28:23.148221Z",
     "start_time": "2024-05-07T23:28:23.145729Z"
    }
   },
   "cell_type": "code",
   "source": "llm.bind_tools([get_current_weather, wikipedia_search])",
   "id": "b7e7adad64e71e48",
   "outputs": [],
   "execution_count": 3
  },
  {
   "metadata": {
    "jupyter": {
     "is_executing": true
    },
    "ExecuteTime": {
     "start_time": "2024-05-07T23:28:23.148751Z"
    }
   },
   "cell_type": "code",
   "source": [
    "messages = [\n",
    "    {\"role\": \"system\", \"content\": \"You are a helpful assistant that translates English to French.\"},\n",
    "    {\"role\": \"user\", \"content\": \"Translate this sentence from English to French. I love programming.\"}\n",
    "]\n",
    "\n",
    "print(llm.chat_completion(messages))"
   ],
   "id": "87b2d34e0f2697af",
   "outputs": [],
   "execution_count": null
  },
  {
   "metadata": {
    "jupyter": {
     "is_executing": true
    }
   },
   "cell_type": "code",
   "source": [
    "messages = [\n",
    "    {\"role\": \"system\", \"content\": \"You are a helpful assistant that has access to tools and use that to help humans.\"},\n",
    "    {\"role\": \"user\", \"content\": \"What is the weather in London?\"}\n",
    "]\n",
    "output = llm.chat_completion(messages)\n",
    "tool_results = llm.run_tool(output)\n",
    "print(tool_results)"
   ],
   "id": "4b2af0fde4e405f9",
   "outputs": [],
   "execution_count": null
  },
  {
   "metadata": {
    "jupyter": {
     "is_executing": true
    }
   },
   "cell_type": "code",
   "source": [
    "messages = [\n",
    "    {\"role\": \"system\", \"content\": \"You are a helpful assistant that has access to tools and use that to help humans.\"},\n",
    "    {\"role\": \"user\", \"content\": \"Who won the 2024 mayor election in London?\"}\n",
    "]\n",
    "output = llm.chat_completion(messages)\n",
    "tool_results = llm.run_tool(output)\n",
    "print(tool_results)"
   ],
   "id": "244d243e36445bd6",
   "outputs": [],
   "execution_count": null
  },
  {
   "metadata": {
    "jupyter": {
     "is_executing": true
    }
   },
   "cell_type": "code",
   "source": "updated_messages = messages + tool_results",
   "id": "379f63840a3f8f92",
   "outputs": [],
   "execution_count": null
  },
  {
   "metadata": {
    "jupyter": {
     "is_executing": true
    }
   },
   "cell_type": "code",
   "source": "print(updated_messages)",
   "id": "9c35e049bbe7fd88",
   "outputs": [],
   "execution_count": null
  },
  {
   "metadata": {
    "jupyter": {
     "is_executing": true
    }
   },
   "cell_type": "code",
   "source": [
    "messages = updated_messages + [{\"role\": \"user\", \"content\": \"please answer me, based on the tool results.\"}]\n",
    "output = llm.chat_completion(messages)\n",
    "print(output)"
   ],
   "id": "44deb9cc22a46147",
   "outputs": [],
   "execution_count": null
  },
  {
   "metadata": {
    "jupyter": {
     "is_executing": true
    }
   },
   "cell_type": "code",
   "source": "",
   "id": "2f69ae4fa3341dfd",
   "outputs": [],
   "execution_count": null
  }
 ],
 "metadata": {
  "kernelspec": {
   "display_name": "Python 3 (ipykernel)",
   "language": "python",
   "name": "python3"
  },
  "language_info": {
   "codemirror_mode": {
    "name": "ipython",
    "version": 3
   },
   "file_extension": ".py",
   "mimetype": "text/x-python",
   "name": "python",
   "nbconvert_exporter": "python",
   "pygments_lexer": "ipython3",
   "version": "3.10.13"
  }
 },
 "nbformat": 4,
 "nbformat_minor": 5
}
