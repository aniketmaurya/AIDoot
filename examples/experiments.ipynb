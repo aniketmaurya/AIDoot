{
 "cells": [
  {
   "cell_type": "code",
   "id": "ef955ea5dc647547",
   "metadata": {
    "ExecuteTime": {
     "end_time": "2024-05-09T20:12:02.151794Z",
     "start_time": "2024-05-09T20:12:02.148286Z"
    }
   },
   "source": [
    "from agents.llms.llm import LlamaCppChatCompletion\n",
    "from agents.tool_executor import need_tool_use\n",
    "from agents.tools import get_current_weather, wikipedia_search, google_search, image_inspector\n",
    "from rich import print"
   ],
   "outputs": [],
   "execution_count": 5
  },
  {
   "cell_type": "code",
   "id": "c40012e1a4c26846",
   "metadata": {
    "ExecuteTime": {
     "end_time": "2024-05-09T20:10:43.776291Z",
     "start_time": "2024-05-09T20:10:38.632106Z"
    }
   },
   "source": [
    "llm = LlamaCppChatCompletion.from_default_llm(n_ctx=0)"
   ],
   "outputs": [
    {
     "name": "stderr",
     "output_type": "stream",
     "text": [
      "Special tokens have been added in the vocabulary, make sure the associated word embeddings are fine-tuned or trained.\n"
     ]
    }
   ],
   "execution_count": 2
  },
  {
   "cell_type": "code",
   "id": "b7e7adad64e71e48",
   "metadata": {
    "ExecuteTime": {
     "end_time": "2024-05-09T20:10:43.780996Z",
     "start_time": "2024-05-09T20:10:43.777435Z"
    }
   },
   "source": [
    "llm.bind_tools([get_current_weather, google_search, wikipedia_search, image_inspector])"
   ],
   "outputs": [],
   "execution_count": 3
  },
  {
   "cell_type": "code",
   "id": "4b2af0fde4e405f9",
   "metadata": {
    "ExecuteTime": {
     "end_time": "2024-05-09T20:12:17.714869Z",
     "start_time": "2024-05-09T20:12:04.353034Z"
    }
   },
   "source": [
    "messages = [\n",
    "    {\"role\": \"user\", \"content\": \"how is the weather in London today?\"}\n",
    "]\n",
    "\n",
    "output = llm.chat_completion(messages)\n",
    "\n",
    "if need_tool_use(output):\n",
    "    print(\"Using weather tool\")\n",
    "    tool_results = llm.run_tool(output)\n",
    "    tool_results[0][\"role\"] = \"assistant\"\n",
    "\n",
    "    updated_messages = messages + tool_results\n",
    "    updated_messages = updated_messages + [\n",
    "        {\"role\": \"user\", \"content\": \"Think step by step and answer my question based on the above context.\"}\n",
    "        ]\n",
    "    output = llm.chat_completion(updated_messages)\n",
    "\n",
    "print(output.choices[0].message.content)"
   ],
   "outputs": [
    {
     "data": {
      "text/plain": [
       "Using weather tool\n"
      ],
      "text/html": [
       "<pre style=\"white-space:pre;overflow-x:auto;line-height:normal;font-family:Menlo,'DejaVu Sans Mono',consolas,'Courier New',monospace\">Using weather tool\n",
       "</pre>\n"
      ]
     },
     "metadata": {},
     "output_type": "display_data"
    },
    {
     "data": {
      "text/plain": [
       "Certainly, let's break down the information provided in the weather data for London:\n",
       "\n",
       "\u001B[1;36m1\u001B[0m. **Temperature**: It is currently \u001B[1;36m23\u001B[0m°C \u001B[1m(\u001B[0m\u001B[1;36m73\u001B[0m°F\u001B[1m)\u001B[0m in London.\n",
       "\u001B[1;36m2\u001B[0m. **Cloud Cover**: There are no clouds at the moment.\n",
       "\u001B[1;36m3\u001B[0m. **Humidity**: The humidity level is \u001B[1;36m38\u001B[0m%.\n",
       "\u001B[1;36m4\u001B[0m. **Precipitation**: There has been no precipitation today, with \u001B[1;36m0\u001B[0m inches recorded.\n",
       "\u001B[1;36m5\u001B[0m. **Pressure**: The atmospheric pressure is \u001B[1;36m1023\u001B[0m hPa \u001B[1m(\u001B[0m\u001B[1;36m30\u001B[0m inches\u001B[1m)\u001B[0m.\n",
       "\u001B[1;36m6\u001B[0m. **Visibility**: The visibility is currently \u001B[1;36m10\u001B[0m km \u001B[1m(\u001B[0m\u001B[1;36m6\u001B[0m miles\u001B[1m)\u001B[0m.\n",
       "\u001B[1;36m7\u001B[0m. **Weather Condition**: It's a sunny day in London.\n",
       "\u001B[1;36m8\u001B[0m. **Wind**: The wind is blowing from the northwest at a speed of \u001B[1;36m9\u001B[0m km/h \u001B[1m(\u001B[0m\u001B[1;36m6\u001B[0m mph\u001B[1m)\u001B[0m.\n",
       "\n",
       "Based on this information, it seems like today is a beautiful and sunny day in London. The temperature is quite \n",
       "pleasant, and there's no precipitation to worry about. It's a great time to be outdoors!\n"
      ],
      "text/html": [
       "<pre style=\"white-space:pre;overflow-x:auto;line-height:normal;font-family:Menlo,'DejaVu Sans Mono',consolas,'Courier New',monospace\">Certainly, let's break down the information provided in the weather data for London:\n",
       "\n",
       "<span style=\"color: #008080; text-decoration-color: #008080; font-weight: bold\">1</span>. **Temperature**: It is currently <span style=\"color: #008080; text-decoration-color: #008080; font-weight: bold\">23</span>°C <span style=\"font-weight: bold\">(</span><span style=\"color: #008080; text-decoration-color: #008080; font-weight: bold\">73</span>°F<span style=\"font-weight: bold\">)</span> in London.\n",
       "<span style=\"color: #008080; text-decoration-color: #008080; font-weight: bold\">2</span>. **Cloud Cover**: There are no clouds at the moment.\n",
       "<span style=\"color: #008080; text-decoration-color: #008080; font-weight: bold\">3</span>. **Humidity**: The humidity level is <span style=\"color: #008080; text-decoration-color: #008080; font-weight: bold\">38</span>%.\n",
       "<span style=\"color: #008080; text-decoration-color: #008080; font-weight: bold\">4</span>. **Precipitation**: There has been no precipitation today, with <span style=\"color: #008080; text-decoration-color: #008080; font-weight: bold\">0</span> inches recorded.\n",
       "<span style=\"color: #008080; text-decoration-color: #008080; font-weight: bold\">5</span>. **Pressure**: The atmospheric pressure is <span style=\"color: #008080; text-decoration-color: #008080; font-weight: bold\">1023</span> hPa <span style=\"font-weight: bold\">(</span><span style=\"color: #008080; text-decoration-color: #008080; font-weight: bold\">30</span> inches<span style=\"font-weight: bold\">)</span>.\n",
       "<span style=\"color: #008080; text-decoration-color: #008080; font-weight: bold\">6</span>. **Visibility**: The visibility is currently <span style=\"color: #008080; text-decoration-color: #008080; font-weight: bold\">10</span> km <span style=\"font-weight: bold\">(</span><span style=\"color: #008080; text-decoration-color: #008080; font-weight: bold\">6</span> miles<span style=\"font-weight: bold\">)</span>.\n",
       "<span style=\"color: #008080; text-decoration-color: #008080; font-weight: bold\">7</span>. **Weather Condition**: It's a sunny day in London.\n",
       "<span style=\"color: #008080; text-decoration-color: #008080; font-weight: bold\">8</span>. **Wind**: The wind is blowing from the northwest at a speed of <span style=\"color: #008080; text-decoration-color: #008080; font-weight: bold\">9</span> km/h <span style=\"font-weight: bold\">(</span><span style=\"color: #008080; text-decoration-color: #008080; font-weight: bold\">6</span> mph<span style=\"font-weight: bold\">)</span>.\n",
       "\n",
       "Based on this information, it seems like today is a beautiful and sunny day in London. The temperature is quite \n",
       "pleasant, and there's no precipitation to worry about. It's a great time to be outdoors!\n",
       "</pre>\n"
      ]
     },
     "metadata": {},
     "output_type": "display_data"
    }
   ],
   "execution_count": 6
  },
  {
   "cell_type": "code",
   "execution_count": 9,
   "id": "1fc480c925e1c88e",
   "metadata": {
    "ExecuteTime": {
     "end_time": "2024-05-08T14:29:37.170035Z",
     "start_time": "2024-05-08T14:29:19.705888Z"
    }
   },
   "outputs": [
    {
     "data": {
      "text/html": [
       "<pre style=\"white-space:pre;overflow-x:auto;line-height:normal;font-family:Menlo,'DejaVu Sans Mono',consolas,'Courier New',monospace\">Based on the image you provided, it appears to be a nature boardwalk surrounded by lush green grass and a peaceful \n",
       "sky filled with clouds. The presence of people indicates that it could be a popular spot for outdoor activities or \n",
       "leisurely walks. If you're looking for a similar location in London, you might consider visiting one of the city's \n",
       "many parks or nature reserves. Here are a few suggestions:\n",
       "\n",
       "<span style=\"color: #008080; text-decoration-color: #008080; font-weight: bold\">1</span>. **Richmond Park**: This is the largest royal park in London and offers a variety of landscapes, including open \n",
       "grasslands, wooded areas, and lakes. It's a great place for walking, cycling, and enjoying the outdoors.\n",
       "\n",
       "<span style=\"color: #008080; text-decoration-color: #008080; font-weight: bold\">2</span>. **Hampstead Heath**: Another large green space in London, Hampstead Heath is known for its ponds, meadows, and \n",
       "woodlands. It's a popular spot for picnics, sunbathing, and hiking.\n",
       "\n",
       "<span style=\"color: #008080; text-decoration-color: #008080; font-weight: bold\">3</span>. **Greenwich Park**: This park offers panoramic views of the city and is home to several historic buildings, \n",
       "including the Royal Observatory. It's a great place for a leisurely walk or a picnic.\n",
       "\n",
       "<span style=\"color: #008080; text-decoration-color: #008080; font-weight: bold\">4</span>. **Victoria Park**: A smaller but still beautiful park in East London, Victoria Park is known for its lakes, \n",
       "gardens, and outdoor events.\n",
       "\n",
       "<span style=\"color: #008080; text-decoration-color: #008080; font-weight: bold\">5</span>. **Hyde Park**: One of the most central parks in London, Hyde Park offers a variety of attractions, including the\n",
       "Serpentine Lake, Speaker's Corner, and several monuments.\n",
       "\n",
       "These locations all offer a peaceful and natural environment similar to the image you provided, making them \n",
       "excellent choices for a day out in London.\n",
       "</pre>\n"
      ],
      "text/plain": [
       "Based on the image you provided, it appears to be a nature boardwalk surrounded by lush green grass and a peaceful \n",
       "sky filled with clouds. The presence of people indicates that it could be a popular spot for outdoor activities or \n",
       "leisurely walks. If you're looking for a similar location in London, you might consider visiting one of the city's \n",
       "many parks or nature reserves. Here are a few suggestions:\n",
       "\n",
       "\u001B[1;36m1\u001B[0m. **Richmond Park**: This is the largest royal park in London and offers a variety of landscapes, including open \n",
       "grasslands, wooded areas, and lakes. It's a great place for walking, cycling, and enjoying the outdoors.\n",
       "\n",
       "\u001B[1;36m2\u001B[0m. **Hampstead Heath**: Another large green space in London, Hampstead Heath is known for its ponds, meadows, and \n",
       "woodlands. It's a popular spot for picnics, sunbathing, and hiking.\n",
       "\n",
       "\u001B[1;36m3\u001B[0m. **Greenwich Park**: This park offers panoramic views of the city and is home to several historic buildings, \n",
       "including the Royal Observatory. It's a great place for a leisurely walk or a picnic.\n",
       "\n",
       "\u001B[1;36m4\u001B[0m. **Victoria Park**: A smaller but still beautiful park in East London, Victoria Park is known for its lakes, \n",
       "gardens, and outdoor events.\n",
       "\n",
       "\u001B[1;36m5\u001B[0m. **Hyde Park**: One of the most central parks in London, Hyde Park offers a variety of attractions, including the\n",
       "Serpentine Lake, Speaker's Corner, and several monuments.\n",
       "\n",
       "These locations all offer a peaceful and natural environment similar to the image you provided, making them \n",
       "excellent choices for a day out in London.\n"
      ]
     },
     "metadata": {},
     "output_type": "display_data"
    }
   ],
   "source": [
    "image_url = \"https://upload.wikimedia.org/wikipedia/commons/thumb/d/dd/Gfp-wisconsin-madison-the-nature-boardwalk.jpg/2560px-Gfp-wisconsin-madison-the-nature-boardwalk.jpg\"\n",
    "\n",
    "messages = [\n",
    "    {\"role\": \"system\", \"content\": \"You are a helpful assistant that has access to tools and use that to help humans.\"},\n",
    "    {\"role\": \"user\",\n",
    "     \"content\": f\"Check this image {image_url} and suggest me a location where I can go in London which looks similar\"}\n",
    "]\n",
    "output = llm.chat_completion(messages)\n",
    "tool_results = llm.run_tool(output)\n",
    "\n",
    "updated_messages = messages + tool_results\n",
    "messages = updated_messages + [{\"role\": \"user\", \"content\": \"please answer me, based on the tool results.\"}]\n",
    "output = llm.chat_completion(messages)\n",
    "print(output.choices[0].message.content)"
   ]
  },
  {
   "cell_type": "code",
   "execution_count": null,
   "id": "244d243e36445bd6",
   "metadata": {
    "ExecuteTime": {
     "end_time": "2024-05-08T00:02:13.512776Z",
     "start_time": "2024-05-08T00:02:07.319637Z"
    }
   },
   "outputs": [],
   "source": [
    "messages = [\n",
    "    {\"role\": \"system\", \"content\": \"You are a helpful assistant that has access to tools and use that to help humans.\"},\n",
    "    {\"role\": \"user\", \"content\": \"Who won the 2024 mayor election in London?\"}\n",
    "]\n",
    "output = llm.chat_completion(messages)\n",
    "tool_results = llm.run_tool(output)\n",
    "\n",
    "updated_messages = messages + tool_results\n",
    "messages = updated_messages + [{\"role\": \"user\", \"content\": \"please answer me, based on the tool results.\"}]\n",
    "output = llm.chat_completion(messages)\n",
    "print(output.choices[0].message.content)"
   ]
  }
 ],
 "metadata": {
  "kernelspec": {
   "display_name": "Python 3 (ipykernel)",
   "language": "python",
   "name": "python3"
  },
  "language_info": {
   "codemirror_mode": {
    "name": "ipython",
    "version": 3
   },
   "file_extension": ".py",
   "mimetype": "text/x-python",
   "name": "python",
   "nbconvert_exporter": "python",
   "pygments_lexer": "ipython3",
   "version": "3.10.13"
  }
 },
 "nbformat": 4,
 "nbformat_minor": 5
}
