{
 "cells": [
  {
   "metadata": {
    "ExecuteTime": {
     "end_time": "2024-05-07T23:22:32.601754Z",
     "start_time": "2024-05-07T23:22:31.933612Z"
    }
   },
   "cell_type": "code",
   "source": [
    "from agents.llms.llm import LlamaCppChatCompletion\n",
    "from agents.tools import get_current_weather, wikipedia_search\n",
    "from rich import print"
   ],
   "id": "ef955ea5dc647547",
   "outputs": [],
   "execution_count": 1
  },
  {
   "metadata": {
    "ExecuteTime": {
     "end_time": "2024-05-07T23:22:38.811358Z",
     "start_time": "2024-05-07T23:22:36.829346Z"
    }
   },
   "cell_type": "code",
   "source": "llm = LlamaCppChatCompletion.from_default_llm(n_ctx=0)",
   "id": "c40012e1a4c26846",
   "outputs": [
    {
     "name": "stderr",
     "output_type": "stream",
     "text": [
      "Special tokens have been added in the vocabulary, make sure the associated word embeddings are fine-tuned or trained.\n"
     ]
    }
   ],
   "execution_count": 2
  },
  {
   "metadata": {
    "ExecuteTime": {
     "end_time": "2024-05-07T23:22:40.721787Z",
     "start_time": "2024-05-07T23:22:40.718005Z"
    }
   },
   "cell_type": "code",
   "source": "llm.bind_tools([get_current_weather, wikipedia_search])",
   "id": "b7e7adad64e71e48",
   "outputs": [],
   "execution_count": 3
  },
  {
   "metadata": {
    "ExecuteTime": {
     "end_time": "2024-05-07T23:22:44.030826Z",
     "start_time": "2024-05-07T23:22:41.337062Z"
    }
   },
   "cell_type": "code",
   "source": [
    "messages = [\n",
    "    {\"role\": \"system\", \"content\": \"You are a helpful assistant that translates English to French.\"},\n",
    "    {\"role\": \"user\", \"content\": \"Translate this sentence from English to French. I love programming.\"}\n",
    "]\n",
    "\n",
    "print(llm.chat(messages))"
   ],
   "id": "87b2d34e0f2697af",
   "outputs": [
    {
     "data": {
      "text/plain": [
       "\u001B[1;35mChatCompletion\u001B[0m\u001B[1m(\u001B[0m\n",
       "    \u001B[33mid\u001B[0m=\u001B[32m'chatcmpl-81f7f2d4-76ec-45e8-b4a0-acd843c0e119'\u001B[0m,\n",
       "    \u001B[33mobject\u001B[0m=\u001B[32m'chat.completion'\u001B[0m,\n",
       "    \u001B[33mcreated\u001B[0m=\u001B[1;36m1715124163\u001B[0m,\n",
       "    \u001B[33mmodel\u001B[0m=\u001B[32m'/Users/aniket/.cache/huggingface/hub/models--meetkai--functionary-small-v2.2-GGUF/snapshots/9971ff5d1eac\u001B[0m\n",
       "\u001B[32mbfac81fe6939bccd59cf7d668078/./functionary-small-v2.2.q4_0.gguf'\u001B[0m,\n",
       "    \u001B[33mchoices\u001B[0m=\u001B[1m[\u001B[0m\n",
       "        \u001B[1;35mChoice\u001B[0m\u001B[1m(\u001B[0m\n",
       "            \u001B[33mindex\u001B[0m=\u001B[1;36m0\u001B[0m,\n",
       "            \u001B[33mlogprobs\u001B[0m=\u001B[3;35mNone\u001B[0m,\n",
       "            \u001B[33mmessage\u001B[0m=\u001B[1;35mMessage\u001B[0m\u001B[1m(\u001B[0m\n",
       "                \u001B[33mrole\u001B[0m=\u001B[32m'assistant'\u001B[0m,\n",
       "                \u001B[33mcontent\u001B[0m=\u001B[32m'Certainly! Here\\'s the translation:\\n\\n\"Je t\\'aime le programme.\"'\u001B[0m,\n",
       "                \u001B[33mtool_calls\u001B[0m=\u001B[3;35mNone\u001B[0m\n",
       "            \u001B[1m)\u001B[0m,\n",
       "            \u001B[33mfinish_reason\u001B[0m=\u001B[32m'stop'\u001B[0m\n",
       "        \u001B[1m)\u001B[0m\n",
       "    \u001B[1m]\u001B[0m,\n",
       "    \u001B[33musage\u001B[0m=\u001B[1;35mUsage\u001B[0m\u001B[1m(\u001B[0m\u001B[33mprompt_tokens\u001B[0m=\u001B[1;36m317\u001B[0m, \u001B[33mcompletion_tokens\u001B[0m=\u001B[1;36m24\u001B[0m, \u001B[33mtotal_tokens\u001B[0m=\u001B[1;36m338\u001B[0m\u001B[1m)\u001B[0m\n",
       "\u001B[1m)\u001B[0m\n"
      ],
      "text/html": [
       "<pre style=\"white-space:pre;overflow-x:auto;line-height:normal;font-family:Menlo,'DejaVu Sans Mono',consolas,'Courier New',monospace\"><span style=\"color: #800080; text-decoration-color: #800080; font-weight: bold\">ChatCompletion</span><span style=\"font-weight: bold\">(</span>\n",
       "    <span style=\"color: #808000; text-decoration-color: #808000\">id</span>=<span style=\"color: #008000; text-decoration-color: #008000\">'chatcmpl-81f7f2d4-76ec-45e8-b4a0-acd843c0e119'</span>,\n",
       "    <span style=\"color: #808000; text-decoration-color: #808000\">object</span>=<span style=\"color: #008000; text-decoration-color: #008000\">'chat.completion'</span>,\n",
       "    <span style=\"color: #808000; text-decoration-color: #808000\">created</span>=<span style=\"color: #008080; text-decoration-color: #008080; font-weight: bold\">1715124163</span>,\n",
       "    <span style=\"color: #808000; text-decoration-color: #808000\">model</span>=<span style=\"color: #008000; text-decoration-color: #008000\">'/Users/aniket/.cache/huggingface/hub/models--meetkai--functionary-small-v2.2-GGUF/snapshots/9971ff5d1eac</span>\n",
       "<span style=\"color: #008000; text-decoration-color: #008000\">bfac81fe6939bccd59cf7d668078/./functionary-small-v2.2.q4_0.gguf'</span>,\n",
       "    <span style=\"color: #808000; text-decoration-color: #808000\">choices</span>=<span style=\"font-weight: bold\">[</span>\n",
       "        <span style=\"color: #800080; text-decoration-color: #800080; font-weight: bold\">Choice</span><span style=\"font-weight: bold\">(</span>\n",
       "            <span style=\"color: #808000; text-decoration-color: #808000\">index</span>=<span style=\"color: #008080; text-decoration-color: #008080; font-weight: bold\">0</span>,\n",
       "            <span style=\"color: #808000; text-decoration-color: #808000\">logprobs</span>=<span style=\"color: #800080; text-decoration-color: #800080; font-style: italic\">None</span>,\n",
       "            <span style=\"color: #808000; text-decoration-color: #808000\">message</span>=<span style=\"color: #800080; text-decoration-color: #800080; font-weight: bold\">Message</span><span style=\"font-weight: bold\">(</span>\n",
       "                <span style=\"color: #808000; text-decoration-color: #808000\">role</span>=<span style=\"color: #008000; text-decoration-color: #008000\">'assistant'</span>,\n",
       "                <span style=\"color: #808000; text-decoration-color: #808000\">content</span>=<span style=\"color: #008000; text-decoration-color: #008000\">'Certainly! Here\\'s the translation:\\n\\n\"Je t\\'aime le programme.\"'</span>,\n",
       "                <span style=\"color: #808000; text-decoration-color: #808000\">tool_calls</span>=<span style=\"color: #800080; text-decoration-color: #800080; font-style: italic\">None</span>\n",
       "            <span style=\"font-weight: bold\">)</span>,\n",
       "            <span style=\"color: #808000; text-decoration-color: #808000\">finish_reason</span>=<span style=\"color: #008000; text-decoration-color: #008000\">'stop'</span>\n",
       "        <span style=\"font-weight: bold\">)</span>\n",
       "    <span style=\"font-weight: bold\">]</span>,\n",
       "    <span style=\"color: #808000; text-decoration-color: #808000\">usage</span>=<span style=\"color: #800080; text-decoration-color: #800080; font-weight: bold\">Usage</span><span style=\"font-weight: bold\">(</span><span style=\"color: #808000; text-decoration-color: #808000\">prompt_tokens</span>=<span style=\"color: #008080; text-decoration-color: #008080; font-weight: bold\">317</span>, <span style=\"color: #808000; text-decoration-color: #808000\">completion_tokens</span>=<span style=\"color: #008080; text-decoration-color: #008080; font-weight: bold\">24</span>, <span style=\"color: #808000; text-decoration-color: #808000\">total_tokens</span>=<span style=\"color: #008080; text-decoration-color: #008080; font-weight: bold\">338</span><span style=\"font-weight: bold\">)</span>\n",
       "<span style=\"font-weight: bold\">)</span>\n",
       "</pre>\n"
      ]
     },
     "metadata": {},
     "output_type": "display_data"
    }
   ],
   "execution_count": 4
  },
  {
   "metadata": {
    "ExecuteTime": {
     "end_time": "2024-05-07T23:22:45.165501Z",
     "start_time": "2024-05-07T23:22:44.031987Z"
    }
   },
   "cell_type": "code",
   "source": [
    "messages = [\n",
    "    {\"role\": \"system\", \"content\": \"You are a helpful assistant that has access to tools and use that to help humans.\"},\n",
    "    {\"role\": \"user\", \"content\": \"What is the weather in London?\"}\n",
    "]\n",
    "output = llm.chat(messages)\n",
    "tool_results = llm.run_tool(output)\n",
    "print(tool_results)"
   ],
   "id": "4b2af0fde4e405f9",
   "outputs": [
    {
     "data": {
      "text/plain": [
       "\u001B[1m[\u001B[0m\n",
       "    \u001B[1m{\u001B[0m\n",
       "        \u001B[32m'tool_call_id'\u001B[0m: \u001B[32m'call_Hva9ROosHQjWBT9NNuzqO8GV'\u001B[0m,\n",
       "        \u001B[32m'role'\u001B[0m: \u001B[32m'tool'\u001B[0m,\n",
       "        \u001B[32m'name'\u001B[0m: \u001B[32m'get_current_weather'\u001B[0m,\n",
       "        \u001B[32m'content'\u001B[0m: \u001B[1m{\u001B[0m\n",
       "            \u001B[32m'FeelsLikeC'\u001B[0m: \u001B[32m'16'\u001B[0m,\n",
       "            \u001B[32m'FeelsLikeF'\u001B[0m: \u001B[32m'61'\u001B[0m,\n",
       "            \u001B[32m'cloudcover'\u001B[0m: \u001B[32m'0'\u001B[0m,\n",
       "            \u001B[32m'humidity'\u001B[0m: \u001B[32m'72'\u001B[0m,\n",
       "            \u001B[32m'localObsDateTime'\u001B[0m: \u001B[32m'2024-05-07 09:23 PM'\u001B[0m,\n",
       "            \u001B[32m'observation_time'\u001B[0m: \u001B[32m'08:23 PM'\u001B[0m,\n",
       "            \u001B[32m'precipInches'\u001B[0m: \u001B[32m'0.0'\u001B[0m,\n",
       "            \u001B[32m'precipMM'\u001B[0m: \u001B[32m'0.0'\u001B[0m,\n",
       "            \u001B[32m'pressure'\u001B[0m: \u001B[32m'1026'\u001B[0m,\n",
       "            \u001B[32m'pressureInches'\u001B[0m: \u001B[32m'30'\u001B[0m,\n",
       "            \u001B[32m'temp_C'\u001B[0m: \u001B[32m'16'\u001B[0m,\n",
       "            \u001B[32m'temp_F'\u001B[0m: \u001B[32m'61'\u001B[0m,\n",
       "            \u001B[32m'uvIndex'\u001B[0m: \u001B[32m'1'\u001B[0m,\n",
       "            \u001B[32m'visibility'\u001B[0m: \u001B[32m'10'\u001B[0m,\n",
       "            \u001B[32m'visibilityMiles'\u001B[0m: \u001B[32m'6'\u001B[0m,\n",
       "            \u001B[32m'weatherCode'\u001B[0m: \u001B[32m'113'\u001B[0m,\n",
       "            \u001B[32m'weatherDesc'\u001B[0m: \u001B[1m[\u001B[0m\u001B[1m{\u001B[0m\u001B[32m'value'\u001B[0m: \u001B[32m'Clear'\u001B[0m\u001B[1m}\u001B[0m\u001B[1m]\u001B[0m,\n",
       "            \u001B[32m'weatherIconUrl'\u001B[0m: \u001B[1m[\u001B[0m\u001B[1m{\u001B[0m\u001B[32m'value'\u001B[0m: \u001B[32m''\u001B[0m\u001B[1m}\u001B[0m\u001B[1m]\u001B[0m,\n",
       "            \u001B[32m'winddir16Point'\u001B[0m: \u001B[32m'NE'\u001B[0m,\n",
       "            \u001B[32m'winddirDegree'\u001B[0m: \u001B[32m'40'\u001B[0m,\n",
       "            \u001B[32m'windspeedKmph'\u001B[0m: \u001B[32m'9'\u001B[0m,\n",
       "            \u001B[32m'windspeedMiles'\u001B[0m: \u001B[32m'6'\u001B[0m\n",
       "        \u001B[1m}\u001B[0m\n",
       "    \u001B[1m}\u001B[0m\n",
       "\u001B[1m]\u001B[0m\n"
      ],
      "text/html": [
       "<pre style=\"white-space:pre;overflow-x:auto;line-height:normal;font-family:Menlo,'DejaVu Sans Mono',consolas,'Courier New',monospace\"><span style=\"font-weight: bold\">[</span>\n",
       "    <span style=\"font-weight: bold\">{</span>\n",
       "        <span style=\"color: #008000; text-decoration-color: #008000\">'tool_call_id'</span>: <span style=\"color: #008000; text-decoration-color: #008000\">'call_Hva9ROosHQjWBT9NNuzqO8GV'</span>,\n",
       "        <span style=\"color: #008000; text-decoration-color: #008000\">'role'</span>: <span style=\"color: #008000; text-decoration-color: #008000\">'tool'</span>,\n",
       "        <span style=\"color: #008000; text-decoration-color: #008000\">'name'</span>: <span style=\"color: #008000; text-decoration-color: #008000\">'get_current_weather'</span>,\n",
       "        <span style=\"color: #008000; text-decoration-color: #008000\">'content'</span>: <span style=\"font-weight: bold\">{</span>\n",
       "            <span style=\"color: #008000; text-decoration-color: #008000\">'FeelsLikeC'</span>: <span style=\"color: #008000; text-decoration-color: #008000\">'16'</span>,\n",
       "            <span style=\"color: #008000; text-decoration-color: #008000\">'FeelsLikeF'</span>: <span style=\"color: #008000; text-decoration-color: #008000\">'61'</span>,\n",
       "            <span style=\"color: #008000; text-decoration-color: #008000\">'cloudcover'</span>: <span style=\"color: #008000; text-decoration-color: #008000\">'0'</span>,\n",
       "            <span style=\"color: #008000; text-decoration-color: #008000\">'humidity'</span>: <span style=\"color: #008000; text-decoration-color: #008000\">'72'</span>,\n",
       "            <span style=\"color: #008000; text-decoration-color: #008000\">'localObsDateTime'</span>: <span style=\"color: #008000; text-decoration-color: #008000\">'2024-05-07 09:23 PM'</span>,\n",
       "            <span style=\"color: #008000; text-decoration-color: #008000\">'observation_time'</span>: <span style=\"color: #008000; text-decoration-color: #008000\">'08:23 PM'</span>,\n",
       "            <span style=\"color: #008000; text-decoration-color: #008000\">'precipInches'</span>: <span style=\"color: #008000; text-decoration-color: #008000\">'0.0'</span>,\n",
       "            <span style=\"color: #008000; text-decoration-color: #008000\">'precipMM'</span>: <span style=\"color: #008000; text-decoration-color: #008000\">'0.0'</span>,\n",
       "            <span style=\"color: #008000; text-decoration-color: #008000\">'pressure'</span>: <span style=\"color: #008000; text-decoration-color: #008000\">'1026'</span>,\n",
       "            <span style=\"color: #008000; text-decoration-color: #008000\">'pressureInches'</span>: <span style=\"color: #008000; text-decoration-color: #008000\">'30'</span>,\n",
       "            <span style=\"color: #008000; text-decoration-color: #008000\">'temp_C'</span>: <span style=\"color: #008000; text-decoration-color: #008000\">'16'</span>,\n",
       "            <span style=\"color: #008000; text-decoration-color: #008000\">'temp_F'</span>: <span style=\"color: #008000; text-decoration-color: #008000\">'61'</span>,\n",
       "            <span style=\"color: #008000; text-decoration-color: #008000\">'uvIndex'</span>: <span style=\"color: #008000; text-decoration-color: #008000\">'1'</span>,\n",
       "            <span style=\"color: #008000; text-decoration-color: #008000\">'visibility'</span>: <span style=\"color: #008000; text-decoration-color: #008000\">'10'</span>,\n",
       "            <span style=\"color: #008000; text-decoration-color: #008000\">'visibilityMiles'</span>: <span style=\"color: #008000; text-decoration-color: #008000\">'6'</span>,\n",
       "            <span style=\"color: #008000; text-decoration-color: #008000\">'weatherCode'</span>: <span style=\"color: #008000; text-decoration-color: #008000\">'113'</span>,\n",
       "            <span style=\"color: #008000; text-decoration-color: #008000\">'weatherDesc'</span>: <span style=\"font-weight: bold\">[{</span><span style=\"color: #008000; text-decoration-color: #008000\">'value'</span>: <span style=\"color: #008000; text-decoration-color: #008000\">'Clear'</span><span style=\"font-weight: bold\">}]</span>,\n",
       "            <span style=\"color: #008000; text-decoration-color: #008000\">'weatherIconUrl'</span>: <span style=\"font-weight: bold\">[{</span><span style=\"color: #008000; text-decoration-color: #008000\">'value'</span>: <span style=\"color: #008000; text-decoration-color: #008000\">''</span><span style=\"font-weight: bold\">}]</span>,\n",
       "            <span style=\"color: #008000; text-decoration-color: #008000\">'winddir16Point'</span>: <span style=\"color: #008000; text-decoration-color: #008000\">'NE'</span>,\n",
       "            <span style=\"color: #008000; text-decoration-color: #008000\">'winddirDegree'</span>: <span style=\"color: #008000; text-decoration-color: #008000\">'40'</span>,\n",
       "            <span style=\"color: #008000; text-decoration-color: #008000\">'windspeedKmph'</span>: <span style=\"color: #008000; text-decoration-color: #008000\">'9'</span>,\n",
       "            <span style=\"color: #008000; text-decoration-color: #008000\">'windspeedMiles'</span>: <span style=\"color: #008000; text-decoration-color: #008000\">'6'</span>\n",
       "        <span style=\"font-weight: bold\">}</span>\n",
       "    <span style=\"font-weight: bold\">}</span>\n",
       "<span style=\"font-weight: bold\">]</span>\n",
       "</pre>\n"
      ]
     },
     "metadata": {},
     "output_type": "display_data"
    }
   ],
   "execution_count": 5
  },
  {
   "metadata": {
    "ExecuteTime": {
     "end_time": "2024-05-07T23:22:47.702957Z",
     "start_time": "2024-05-07T23:22:45.167663Z"
    }
   },
   "cell_type": "code",
   "source": [
    "messages = [\n",
    "    {\"role\": \"system\", \"content\": \"You are a helpful assistant that has access to tools and use that to help humans.\"},\n",
    "    {\"role\": \"user\", \"content\": \"Who won the 2024 mayor election in London?\"}\n",
    "]\n",
    "output = llm.chat(messages)\n",
    "tool_results = llm.run_tool(output)\n",
    "print(tool_results)"
   ],
   "id": "244d243e36445bd6",
   "outputs": [
    {
     "data": {
      "text/plain": [
       "\u001B[1m[\u001B[0m\n",
       "    \u001B[1m{\u001B[0m\n",
       "        \u001B[32m'tool_call_id'\u001B[0m: \u001B[32m'call_oO9dod02J2dhdHGED3XCiamV'\u001B[0m,\n",
       "        \u001B[32m'role'\u001B[0m: \u001B[32m'tool'\u001B[0m,\n",
       "        \u001B[32m'name'\u001B[0m: \u001B[32m'wikipedia_search'\u001B[0m,\n",
       "        \u001B[32m'content'\u001B[0m: \u001B[32m'Page: 2024 London mayoral election\\nSummary: The 2024 London mayoral election was held on 2 May\u001B[0m\n",
       "\u001B[32m2024 to elect the next mayor of London. It took place simultaneously with elections to the London Assembly, some \u001B[0m\n",
       "\u001B[32mlocal council by-elections in London and regular local elections elsewhere in England and Wales. Following the \u001B[0m\n",
       "\u001B[32mElections Act 2022, voting in this election took place under the first-past-the-post system for the first time, \u001B[0m\n",
       "\u001B[32mreplacing the supplementary vote system. The results of the election were announced on 4 May 2024.\\nSadiq Khan of \u001B[0m\n",
       "\u001B[32mthe Labour Party, who has served as the mayor of London since 2016, was re-elected as mayor and became the first \u001B[0m\n",
       "\u001B[32mperson to be elected to the role for three terms. The Conservative Party stood former London Assembly Conservative \u001B[0m\n",
       "\u001B[32mleader Susan Hall as their candidate, the Green Party nominated Hackney borough councillor Zoë Garbett, the Liberal\u001B[0m\n",
       "\u001B[32mDemocrats nominated Rob Blackie, and Reform UK nominated Howard Cox. There were eight other candidates.\\n\\n'\u001B[0m\n",
       "    \u001B[1m}\u001B[0m\n",
       "\u001B[1m]\u001B[0m\n"
      ],
      "text/html": [
       "<pre style=\"white-space:pre;overflow-x:auto;line-height:normal;font-family:Menlo,'DejaVu Sans Mono',consolas,'Courier New',monospace\"><span style=\"font-weight: bold\">[</span>\n",
       "    <span style=\"font-weight: bold\">{</span>\n",
       "        <span style=\"color: #008000; text-decoration-color: #008000\">'tool_call_id'</span>: <span style=\"color: #008000; text-decoration-color: #008000\">'call_oO9dod02J2dhdHGED3XCiamV'</span>,\n",
       "        <span style=\"color: #008000; text-decoration-color: #008000\">'role'</span>: <span style=\"color: #008000; text-decoration-color: #008000\">'tool'</span>,\n",
       "        <span style=\"color: #008000; text-decoration-color: #008000\">'name'</span>: <span style=\"color: #008000; text-decoration-color: #008000\">'wikipedia_search'</span>,\n",
       "        <span style=\"color: #008000; text-decoration-color: #008000\">'content'</span>: <span style=\"color: #008000; text-decoration-color: #008000\">'Page: 2024 London mayoral election\\nSummary: The 2024 London mayoral election was held on 2 May</span>\n",
       "<span style=\"color: #008000; text-decoration-color: #008000\">2024 to elect the next mayor of London. It took place simultaneously with elections to the London Assembly, some </span>\n",
       "<span style=\"color: #008000; text-decoration-color: #008000\">local council by-elections in London and regular local elections elsewhere in England and Wales. Following the </span>\n",
       "<span style=\"color: #008000; text-decoration-color: #008000\">Elections Act 2022, voting in this election took place under the first-past-the-post system for the first time, </span>\n",
       "<span style=\"color: #008000; text-decoration-color: #008000\">replacing the supplementary vote system. The results of the election were announced on 4 May 2024.\\nSadiq Khan of </span>\n",
       "<span style=\"color: #008000; text-decoration-color: #008000\">the Labour Party, who has served as the mayor of London since 2016, was re-elected as mayor and became the first </span>\n",
       "<span style=\"color: #008000; text-decoration-color: #008000\">person to be elected to the role for three terms. The Conservative Party stood former London Assembly Conservative </span>\n",
       "<span style=\"color: #008000; text-decoration-color: #008000\">leader Susan Hall as their candidate, the Green Party nominated Hackney borough councillor Zoë Garbett, the Liberal</span>\n",
       "<span style=\"color: #008000; text-decoration-color: #008000\">Democrats nominated Rob Blackie, and Reform UK nominated Howard Cox. There were eight other candidates.\\n\\n'</span>\n",
       "    <span style=\"font-weight: bold\">}</span>\n",
       "<span style=\"font-weight: bold\">]</span>\n",
       "</pre>\n"
      ]
     },
     "metadata": {},
     "output_type": "display_data"
    }
   ],
   "execution_count": 6
  },
  {
   "metadata": {
    "ExecuteTime": {
     "end_time": "2024-05-07T23:22:47.708036Z",
     "start_time": "2024-05-07T23:22:47.705517Z"
    }
   },
   "cell_type": "code",
   "source": "updated_messages = messages + tool_results",
   "id": "379f63840a3f8f92",
   "outputs": [],
   "execution_count": 7
  },
  {
   "metadata": {
    "ExecuteTime": {
     "end_time": "2024-05-07T23:22:47.712520Z",
     "start_time": "2024-05-07T23:22:47.708738Z"
    }
   },
   "cell_type": "code",
   "source": "print(updated_messages)",
   "id": "9c35e049bbe7fd88",
   "outputs": [
    {
     "data": {
      "text/plain": [
       "\u001B[1m[\u001B[0m\n",
       "    \u001B[1m{\u001B[0m\n",
       "        \u001B[32m'role'\u001B[0m: \u001B[32m'system'\u001B[0m,\n",
       "        \u001B[32m'content'\u001B[0m: \u001B[32m'You are a helpful assistant that has access to tools and use that to help humans.'\u001B[0m\n",
       "    \u001B[1m}\u001B[0m,\n",
       "    \u001B[1m{\u001B[0m\u001B[32m'role'\u001B[0m: \u001B[32m'user'\u001B[0m, \u001B[32m'content'\u001B[0m: \u001B[32m'Who won the 2024 mayor election in London?'\u001B[0m\u001B[1m}\u001B[0m,\n",
       "    \u001B[1m{\u001B[0m\n",
       "        \u001B[32m'tool_call_id'\u001B[0m: \u001B[32m'call_oO9dod02J2dhdHGED3XCiamV'\u001B[0m,\n",
       "        \u001B[32m'role'\u001B[0m: \u001B[32m'tool'\u001B[0m,\n",
       "        \u001B[32m'name'\u001B[0m: \u001B[32m'wikipedia_search'\u001B[0m,\n",
       "        \u001B[32m'content'\u001B[0m: \u001B[32m'Page: 2024 London mayoral election\\nSummary: The 2024 London mayoral election was held on 2 May\u001B[0m\n",
       "\u001B[32m2024 to elect the next mayor of London. It took place simultaneously with elections to the London Assembly, some \u001B[0m\n",
       "\u001B[32mlocal council by-elections in London and regular local elections elsewhere in England and Wales. Following the \u001B[0m\n",
       "\u001B[32mElections Act 2022, voting in this election took place under the first-past-the-post system for the first time, \u001B[0m\n",
       "\u001B[32mreplacing the supplementary vote system. The results of the election were announced on 4 May 2024.\\nSadiq Khan of \u001B[0m\n",
       "\u001B[32mthe Labour Party, who has served as the mayor of London since 2016, was re-elected as mayor and became the first \u001B[0m\n",
       "\u001B[32mperson to be elected to the role for three terms. The Conservative Party stood former London Assembly Conservative \u001B[0m\n",
       "\u001B[32mleader Susan Hall as their candidate, the Green Party nominated Hackney borough councillor Zoë Garbett, the Liberal\u001B[0m\n",
       "\u001B[32mDemocrats nominated Rob Blackie, and Reform UK nominated Howard Cox. There were eight other candidates.\\n\\n'\u001B[0m\n",
       "    \u001B[1m}\u001B[0m\n",
       "\u001B[1m]\u001B[0m\n"
      ],
      "text/html": [
       "<pre style=\"white-space:pre;overflow-x:auto;line-height:normal;font-family:Menlo,'DejaVu Sans Mono',consolas,'Courier New',monospace\"><span style=\"font-weight: bold\">[</span>\n",
       "    <span style=\"font-weight: bold\">{</span>\n",
       "        <span style=\"color: #008000; text-decoration-color: #008000\">'role'</span>: <span style=\"color: #008000; text-decoration-color: #008000\">'system'</span>,\n",
       "        <span style=\"color: #008000; text-decoration-color: #008000\">'content'</span>: <span style=\"color: #008000; text-decoration-color: #008000\">'You are a helpful assistant that has access to tools and use that to help humans.'</span>\n",
       "    <span style=\"font-weight: bold\">}</span>,\n",
       "    <span style=\"font-weight: bold\">{</span><span style=\"color: #008000; text-decoration-color: #008000\">'role'</span>: <span style=\"color: #008000; text-decoration-color: #008000\">'user'</span>, <span style=\"color: #008000; text-decoration-color: #008000\">'content'</span>: <span style=\"color: #008000; text-decoration-color: #008000\">'Who won the 2024 mayor election in London?'</span><span style=\"font-weight: bold\">}</span>,\n",
       "    <span style=\"font-weight: bold\">{</span>\n",
       "        <span style=\"color: #008000; text-decoration-color: #008000\">'tool_call_id'</span>: <span style=\"color: #008000; text-decoration-color: #008000\">'call_oO9dod02J2dhdHGED3XCiamV'</span>,\n",
       "        <span style=\"color: #008000; text-decoration-color: #008000\">'role'</span>: <span style=\"color: #008000; text-decoration-color: #008000\">'tool'</span>,\n",
       "        <span style=\"color: #008000; text-decoration-color: #008000\">'name'</span>: <span style=\"color: #008000; text-decoration-color: #008000\">'wikipedia_search'</span>,\n",
       "        <span style=\"color: #008000; text-decoration-color: #008000\">'content'</span>: <span style=\"color: #008000; text-decoration-color: #008000\">'Page: 2024 London mayoral election\\nSummary: The 2024 London mayoral election was held on 2 May</span>\n",
       "<span style=\"color: #008000; text-decoration-color: #008000\">2024 to elect the next mayor of London. It took place simultaneously with elections to the London Assembly, some </span>\n",
       "<span style=\"color: #008000; text-decoration-color: #008000\">local council by-elections in London and regular local elections elsewhere in England and Wales. Following the </span>\n",
       "<span style=\"color: #008000; text-decoration-color: #008000\">Elections Act 2022, voting in this election took place under the first-past-the-post system for the first time, </span>\n",
       "<span style=\"color: #008000; text-decoration-color: #008000\">replacing the supplementary vote system. The results of the election were announced on 4 May 2024.\\nSadiq Khan of </span>\n",
       "<span style=\"color: #008000; text-decoration-color: #008000\">the Labour Party, who has served as the mayor of London since 2016, was re-elected as mayor and became the first </span>\n",
       "<span style=\"color: #008000; text-decoration-color: #008000\">person to be elected to the role for three terms. The Conservative Party stood former London Assembly Conservative </span>\n",
       "<span style=\"color: #008000; text-decoration-color: #008000\">leader Susan Hall as their candidate, the Green Party nominated Hackney borough councillor Zoë Garbett, the Liberal</span>\n",
       "<span style=\"color: #008000; text-decoration-color: #008000\">Democrats nominated Rob Blackie, and Reform UK nominated Howard Cox. There were eight other candidates.\\n\\n'</span>\n",
       "    <span style=\"font-weight: bold\">}</span>\n",
       "<span style=\"font-weight: bold\">]</span>\n",
       "</pre>\n"
      ]
     },
     "metadata": {},
     "output_type": "display_data"
    }
   ],
   "execution_count": 8
  },
  {
   "metadata": {
    "ExecuteTime": {
     "end_time": "2024-05-07T23:22:51.881013Z",
     "start_time": "2024-05-07T23:22:48.575766Z"
    }
   },
   "cell_type": "code",
   "source": [
    "messages = updated_messages + [{\"role\": \"user\", \"content\": \"please answer me, based on the tool results.\"}]\n",
    "output = llm.chat(messages)\n",
    "print(output)"
   ],
   "id": "44deb9cc22a46147",
   "outputs": [
    {
     "data": {
      "text/plain": [
       "\u001B[1;35mChatCompletion\u001B[0m\u001B[1m(\u001B[0m\n",
       "    \u001B[33mid\u001B[0m=\u001B[32m'chatcmpl-7e96278f-9b13-4607-bdaf-4f1a7b737042'\u001B[0m,\n",
       "    \u001B[33mobject\u001B[0m=\u001B[32m'chat.completion'\u001B[0m,\n",
       "    \u001B[33mcreated\u001B[0m=\u001B[1;36m1715124169\u001B[0m,\n",
       "    \u001B[33mmodel\u001B[0m=\u001B[32m'/Users/aniket/.cache/huggingface/hub/models--meetkai--functionary-small-v2.2-GGUF/snapshots/9971ff5d1eac\u001B[0m\n",
       "\u001B[32mbfac81fe6939bccd59cf7d668078/./functionary-small-v2.2.q4_0.gguf'\u001B[0m,\n",
       "    \u001B[33mchoices\u001B[0m=\u001B[1m[\u001B[0m\n",
       "        \u001B[1;35mChoice\u001B[0m\u001B[1m(\u001B[0m\n",
       "            \u001B[33mindex\u001B[0m=\u001B[1;36m0\u001B[0m,\n",
       "            \u001B[33mlogprobs\u001B[0m=\u001B[3;35mNone\u001B[0m,\n",
       "            \u001B[33mmessage\u001B[0m=\u001B[1;35mMessage\u001B[0m\u001B[1m(\u001B[0m\n",
       "                \u001B[33mrole\u001B[0m=\u001B[32m'assistant'\u001B[0m,\n",
       "                \u001B[33mcontent\u001B[0m=\u001B[32m'The 2024 London mayoral election was held on May 2, 2024. Sadiq Khan of the Labour Party \u001B[0m\n",
       "\u001B[32mwon the election and became the first person to be elected to the role for three terms.'\u001B[0m,\n",
       "                \u001B[33mtool_calls\u001B[0m=\u001B[3;35mNone\u001B[0m\n",
       "            \u001B[1m)\u001B[0m,\n",
       "            \u001B[33mfinish_reason\u001B[0m=\u001B[32m'stop'\u001B[0m\n",
       "        \u001B[1m)\u001B[0m\n",
       "    \u001B[1m]\u001B[0m,\n",
       "    \u001B[33musage\u001B[0m=\u001B[1;35mUsage\u001B[0m\u001B[1m(\u001B[0m\u001B[33mprompt_tokens\u001B[0m=\u001B[1;36m589\u001B[0m, \u001B[33mcompletion_tokens\u001B[0m=\u001B[1;36m53\u001B[0m, \u001B[33mtotal_tokens\u001B[0m=\u001B[1;36m639\u001B[0m\u001B[1m)\u001B[0m\n",
       "\u001B[1m)\u001B[0m\n"
      ],
      "text/html": [
       "<pre style=\"white-space:pre;overflow-x:auto;line-height:normal;font-family:Menlo,'DejaVu Sans Mono',consolas,'Courier New',monospace\"><span style=\"color: #800080; text-decoration-color: #800080; font-weight: bold\">ChatCompletion</span><span style=\"font-weight: bold\">(</span>\n",
       "    <span style=\"color: #808000; text-decoration-color: #808000\">id</span>=<span style=\"color: #008000; text-decoration-color: #008000\">'chatcmpl-7e96278f-9b13-4607-bdaf-4f1a7b737042'</span>,\n",
       "    <span style=\"color: #808000; text-decoration-color: #808000\">object</span>=<span style=\"color: #008000; text-decoration-color: #008000\">'chat.completion'</span>,\n",
       "    <span style=\"color: #808000; text-decoration-color: #808000\">created</span>=<span style=\"color: #008080; text-decoration-color: #008080; font-weight: bold\">1715124169</span>,\n",
       "    <span style=\"color: #808000; text-decoration-color: #808000\">model</span>=<span style=\"color: #008000; text-decoration-color: #008000\">'/Users/aniket/.cache/huggingface/hub/models--meetkai--functionary-small-v2.2-GGUF/snapshots/9971ff5d1eac</span>\n",
       "<span style=\"color: #008000; text-decoration-color: #008000\">bfac81fe6939bccd59cf7d668078/./functionary-small-v2.2.q4_0.gguf'</span>,\n",
       "    <span style=\"color: #808000; text-decoration-color: #808000\">choices</span>=<span style=\"font-weight: bold\">[</span>\n",
       "        <span style=\"color: #800080; text-decoration-color: #800080; font-weight: bold\">Choice</span><span style=\"font-weight: bold\">(</span>\n",
       "            <span style=\"color: #808000; text-decoration-color: #808000\">index</span>=<span style=\"color: #008080; text-decoration-color: #008080; font-weight: bold\">0</span>,\n",
       "            <span style=\"color: #808000; text-decoration-color: #808000\">logprobs</span>=<span style=\"color: #800080; text-decoration-color: #800080; font-style: italic\">None</span>,\n",
       "            <span style=\"color: #808000; text-decoration-color: #808000\">message</span>=<span style=\"color: #800080; text-decoration-color: #800080; font-weight: bold\">Message</span><span style=\"font-weight: bold\">(</span>\n",
       "                <span style=\"color: #808000; text-decoration-color: #808000\">role</span>=<span style=\"color: #008000; text-decoration-color: #008000\">'assistant'</span>,\n",
       "                <span style=\"color: #808000; text-decoration-color: #808000\">content</span>=<span style=\"color: #008000; text-decoration-color: #008000\">'The 2024 London mayoral election was held on May 2, 2024. Sadiq Khan of the Labour Party </span>\n",
       "<span style=\"color: #008000; text-decoration-color: #008000\">won the election and became the first person to be elected to the role for three terms.'</span>,\n",
       "                <span style=\"color: #808000; text-decoration-color: #808000\">tool_calls</span>=<span style=\"color: #800080; text-decoration-color: #800080; font-style: italic\">None</span>\n",
       "            <span style=\"font-weight: bold\">)</span>,\n",
       "            <span style=\"color: #808000; text-decoration-color: #808000\">finish_reason</span>=<span style=\"color: #008000; text-decoration-color: #008000\">'stop'</span>\n",
       "        <span style=\"font-weight: bold\">)</span>\n",
       "    <span style=\"font-weight: bold\">]</span>,\n",
       "    <span style=\"color: #808000; text-decoration-color: #808000\">usage</span>=<span style=\"color: #800080; text-decoration-color: #800080; font-weight: bold\">Usage</span><span style=\"font-weight: bold\">(</span><span style=\"color: #808000; text-decoration-color: #808000\">prompt_tokens</span>=<span style=\"color: #008080; text-decoration-color: #008080; font-weight: bold\">589</span>, <span style=\"color: #808000; text-decoration-color: #808000\">completion_tokens</span>=<span style=\"color: #008080; text-decoration-color: #008080; font-weight: bold\">53</span>, <span style=\"color: #808000; text-decoration-color: #808000\">total_tokens</span>=<span style=\"color: #008080; text-decoration-color: #008080; font-weight: bold\">639</span><span style=\"font-weight: bold\">)</span>\n",
       "<span style=\"font-weight: bold\">)</span>\n",
       "</pre>\n"
      ]
     },
     "metadata": {},
     "output_type": "display_data"
    }
   ],
   "execution_count": 9
  },
  {
   "metadata": {},
   "cell_type": "code",
   "outputs": [],
   "execution_count": null,
   "source": "",
   "id": "2f69ae4fa3341dfd"
  }
 ],
 "metadata": {
  "kernelspec": {
   "display_name": "Python 3 (ipykernel)",
   "language": "python",
   "name": "python3"
  },
  "language_info": {
   "codemirror_mode": {
    "name": "ipython",
    "version": 3
   },
   "file_extension": ".py",
   "mimetype": "text/x-python",
   "name": "python",
   "nbconvert_exporter": "python",
   "pygments_lexer": "ipython3",
   "version": "3.10.13"
  }
 },
 "nbformat": 4,
 "nbformat_minor": 5
}
