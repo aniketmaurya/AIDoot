{
 "cells": [
  {
   "cell_type": "code",
   "execution_count": 1,
   "id": "70d2037d65a31ed9",
   "metadata": {
    "ExecuteTime": {
     "end_time": "2024-05-07T02:03:43.790948Z",
     "start_time": "2024-05-07T02:03:43.541683Z"
    }
   },
   "outputs": [
    {
     "data": {
      "text/plain": [
       "[1]"
      ]
     },
     "execution_count": 1,
     "metadata": {},
     "output_type": "execute_result"
    }
   ],
   "source": [
    "import logfire\n",
    "from loguru import logger\n",
    "\n",
    "logger.configure(handlers=[logfire.loguru_handler()])"
   ]
  },
  {
   "cell_type": "code",
   "execution_count": 2,
   "id": "initial_id",
   "metadata": {
    "ExecuteTime": {
     "end_time": "2024-05-07T02:03:45.492083Z",
     "start_time": "2024-05-07T02:03:44.193178Z"
    }
   },
   "outputs": [],
   "source": [
    "from rich import print\n",
    "\n",
    "from agents.tool_executor import ToolRegistry\n",
    "from agents.llm import create_tool_use_llm\n",
    "from agents.experimental.hermes.functions import wikipedia"
   ]
  },
  {
   "cell_type": "code",
   "execution_count": 3,
   "id": "a6a08af26e7094f1",
   "metadata": {
    "ExecuteTime": {
     "end_time": "2024-05-07T02:03:46.545107Z",
     "start_time": "2024-05-07T02:03:45.891425Z"
    }
   },
   "outputs": [
    {
     "name": "stderr",
     "output_type": "stream",
     "text": [
      "Special tokens have been added in the vocabulary, make sure the associated word embeddings are fine-tuned or trained.\n"
     ]
    }
   ],
   "source": [
    "llm = create_tool_use_llm(verbose=False, n_gpu_layers=-1)"
   ]
  },
  {
   "cell_type": "code",
   "execution_count": 4,
   "id": "957e9b2361e32849",
   "metadata": {
    "ExecuteTime": {
     "end_time": "2024-05-07T02:03:46.554409Z",
     "start_time": "2024-05-07T02:03:46.551279Z"
    }
   },
   "outputs": [],
   "source": [
    "registry = ToolRegistry()\n",
    "registry.register_tool(wikipedia)"
   ]
  },
  {
   "cell_type": "code",
   "execution_count": 5,
   "id": "830925a2e60d7559",
   "metadata": {
    "ExecuteTime": {
     "end_time": "2024-05-07T02:03:46.603367Z",
     "start_time": "2024-05-07T02:03:46.594872Z"
    }
   },
   "outputs": [
    {
     "data": {
      "text/html": [
       "<pre style=\"white-space:pre;overflow-x:auto;line-height:normal;font-family:Menlo,'DejaVu Sans Mono',consolas,'Courier New',monospace\"><span style=\"color: #800080; text-decoration-color: #800080; font-weight: bold\">WikipediaQueryRun</span><span style=\"font-weight: bold\">(</span>\n",
       "    <span style=\"color: #808000; text-decoration-color: #808000\">api_wrapper</span>=<span style=\"color: #800080; text-decoration-color: #800080; font-weight: bold\">WikipediaAPIWrapper</span><span style=\"font-weight: bold\">(</span>\n",
       "        <span style=\"color: #808000; text-decoration-color: #808000\">wiki_client</span>=<span style=\"font-weight: bold\">&lt;</span><span style=\"color: #ff00ff; text-decoration-color: #ff00ff; font-weight: bold\">module</span><span style=\"color: #000000; text-decoration-color: #000000\"> </span><span style=\"color: #008000; text-decoration-color: #008000\">'wikipedia'</span><span style=\"color: #000000; text-decoration-color: #000000\"> from </span>\n",
       "<span style=\"color: #008000; text-decoration-color: #008000\">'/Users/aniket/miniconda3/envs/am/lib/python3.10/site-packages/wikipedia/__init__.py'</span><span style=\"font-weight: bold\">&gt;</span>,\n",
       "        <span style=\"color: #808000; text-decoration-color: #808000\">top_k_results</span>=<span style=\"color: #008080; text-decoration-color: #008080; font-weight: bold\">1</span>,\n",
       "        <span style=\"color: #808000; text-decoration-color: #808000\">lang</span>=<span style=\"color: #008000; text-decoration-color: #008000\">'en'</span>,\n",
       "        <span style=\"color: #808000; text-decoration-color: #808000\">load_all_available_meta</span>=<span style=\"color: #ff0000; text-decoration-color: #ff0000; font-style: italic\">False</span>,\n",
       "        <span style=\"color: #808000; text-decoration-color: #808000\">doc_content_chars_max</span>=<span style=\"color: #008080; text-decoration-color: #008080; font-weight: bold\">4000</span>\n",
       "    <span style=\"font-weight: bold\">)</span>\n",
       "<span style=\"font-weight: bold\">)</span>\n",
       "</pre>\n"
      ],
      "text/plain": [
       "\u001b[1;35mWikipediaQueryRun\u001b[0m\u001b[1m(\u001b[0m\n",
       "    \u001b[33mapi_wrapper\u001b[0m=\u001b[1;35mWikipediaAPIWrapper\u001b[0m\u001b[1m(\u001b[0m\n",
       "        \u001b[33mwiki_client\u001b[0m=\u001b[1m<\u001b[0m\u001b[1;95mmodule\u001b[0m\u001b[39m \u001b[0m\u001b[32m'wikipedia'\u001b[0m\u001b[39m from \u001b[0m\n",
       "\u001b[32m'/Users/aniket/miniconda3/envs/am/lib/python3.10/site-packages/wikipedia/__init__.py'\u001b[0m\u001b[1m>\u001b[0m,\n",
       "        \u001b[33mtop_k_results\u001b[0m=\u001b[1;36m1\u001b[0m,\n",
       "        \u001b[33mlang\u001b[0m=\u001b[32m'en'\u001b[0m,\n",
       "        \u001b[33mload_all_available_meta\u001b[0m=\u001b[3;91mFalse\u001b[0m,\n",
       "        \u001b[33mdoc_content_chars_max\u001b[0m=\u001b[1;36m4000\u001b[0m\n",
       "    \u001b[1m)\u001b[0m\n",
       "\u001b[1m)\u001b[0m\n"
      ]
     },
     "metadata": {},
     "output_type": "display_data"
    }
   ],
   "source": [
    "print(wikipedia)"
   ]
  },
  {
   "cell_type": "code",
   "execution_count": 6,
   "id": "7974328727b015ed",
   "metadata": {
    "ExecuteTime": {
     "end_time": "2024-05-07T02:03:46.858641Z",
     "start_time": "2024-05-07T02:03:46.853025Z"
    }
   },
   "outputs": [],
   "source": [
    "registry._openai_tools[\"wikipedia\"][\"parameters\"][\"properties\"] = wikipedia.args\n",
    "registry._openai_tools[\"wikipedia\"][\"parameters\"][\"required\"] = \"query\""
   ]
  },
  {
   "cell_type": "code",
   "execution_count": 7,
   "id": "e1a7c3ec8e7ea5e3",
   "metadata": {
    "ExecuteTime": {
     "end_time": "2024-05-07T02:03:47.413076Z",
     "start_time": "2024-05-07T02:03:47.406557Z"
    }
   },
   "outputs": [
    {
     "data": {
      "text/html": [
       "<pre style=\"white-space:pre;overflow-x:auto;line-height:normal;font-family:Menlo,'DejaVu Sans Mono',consolas,'Courier New',monospace\"><span style=\"font-weight: bold\">[</span>\n",
       "    <span style=\"font-weight: bold\">{</span>\n",
       "        <span style=\"color: #008000; text-decoration-color: #008000\">'type'</span>: <span style=\"color: #008000; text-decoration-color: #008000\">'function'</span>,\n",
       "        <span style=\"color: #008000; text-decoration-color: #008000\">'function'</span>: <span style=\"font-weight: bold\">{</span>\n",
       "            <span style=\"color: #008000; text-decoration-color: #008000\">'name'</span>: <span style=\"color: #008000; text-decoration-color: #008000\">'wikipedia'</span>,\n",
       "            <span style=\"color: #008000; text-decoration-color: #008000\">'description'</span>: <span style=\"color: #008000; text-decoration-color: #008000\">'A wrapper around Wikipedia. Useful for when you need to answer general questions about </span>\n",
       "<span style=\"color: #008000; text-decoration-color: #008000\">people, places, companies, facts, historical events, or other subjects. Input should be a search query.'</span>,\n",
       "            <span style=\"color: #008000; text-decoration-color: #008000\">'parameters'</span>: <span style=\"font-weight: bold\">{</span>\n",
       "                <span style=\"color: #008000; text-decoration-color: #008000\">'properties'</span>: <span style=\"font-weight: bold\">{</span><span style=\"color: #008000; text-decoration-color: #008000\">'query'</span>: <span style=\"font-weight: bold\">{</span><span style=\"color: #008000; text-decoration-color: #008000\">'title'</span>: <span style=\"color: #008000; text-decoration-color: #008000\">'Query'</span>, <span style=\"color: #008000; text-decoration-color: #008000\">'type'</span>: <span style=\"color: #008000; text-decoration-color: #008000\">'string'</span><span style=\"font-weight: bold\">}}</span>,\n",
       "                <span style=\"color: #008000; text-decoration-color: #008000\">'required'</span>: <span style=\"color: #008000; text-decoration-color: #008000\">'query'</span>,\n",
       "                <span style=\"color: #008000; text-decoration-color: #008000\">'type'</span>: <span style=\"color: #008000; text-decoration-color: #008000\">'object'</span>\n",
       "            <span style=\"font-weight: bold\">}</span>\n",
       "        <span style=\"font-weight: bold\">}</span>\n",
       "    <span style=\"font-weight: bold\">}</span>\n",
       "<span style=\"font-weight: bold\">]</span>\n",
       "</pre>\n"
      ],
      "text/plain": [
       "\u001b[1m[\u001b[0m\n",
       "    \u001b[1m{\u001b[0m\n",
       "        \u001b[32m'type'\u001b[0m: \u001b[32m'function'\u001b[0m,\n",
       "        \u001b[32m'function'\u001b[0m: \u001b[1m{\u001b[0m\n",
       "            \u001b[32m'name'\u001b[0m: \u001b[32m'wikipedia'\u001b[0m,\n",
       "            \u001b[32m'description'\u001b[0m: \u001b[32m'A wrapper around Wikipedia. Useful for when you need to answer general questions about \u001b[0m\n",
       "\u001b[32mpeople, places, companies, facts, historical events, or other subjects. Input should be a search query.'\u001b[0m,\n",
       "            \u001b[32m'parameters'\u001b[0m: \u001b[1m{\u001b[0m\n",
       "                \u001b[32m'properties'\u001b[0m: \u001b[1m{\u001b[0m\u001b[32m'query'\u001b[0m: \u001b[1m{\u001b[0m\u001b[32m'title'\u001b[0m: \u001b[32m'Query'\u001b[0m, \u001b[32m'type'\u001b[0m: \u001b[32m'string'\u001b[0m\u001b[1m}\u001b[0m\u001b[1m}\u001b[0m,\n",
       "                \u001b[32m'required'\u001b[0m: \u001b[32m'query'\u001b[0m,\n",
       "                \u001b[32m'type'\u001b[0m: \u001b[32m'object'\u001b[0m\n",
       "            \u001b[1m}\u001b[0m\n",
       "        \u001b[1m}\u001b[0m\n",
       "    \u001b[1m}\u001b[0m\n",
       "\u001b[1m]\u001b[0m\n"
      ]
     },
     "metadata": {},
     "output_type": "display_data"
    }
   ],
   "source": [
    "print(registry.openai_tools)"
   ]
  },
  {
   "cell_type": "code",
   "execution_count": 8,
   "id": "cee1f9c418a94da",
   "metadata": {
    "ExecuteTime": {
     "end_time": "2024-05-07T02:07:24.163577Z",
     "start_time": "2024-05-07T02:06:01.416674Z"
    }
   },
   "outputs": [
    {
     "name": "stdout",
     "output_type": "stream",
     "text": [
      "No Logfire project credentials found.\n",
      "All data sent to Logfire must be associated with a project.\n",
      "\n"
     ]
    },
    {
     "data": {
      "text/html": [
       "<pre style=\"white-space:pre;overflow-x:auto;line-height:normal;font-family:Menlo,'DejaVu Sans Mono',consolas,'Courier New',monospace\">Do you want to use one of your existing projects?  <span style=\"color: #800080; text-decoration-color: #800080; font-weight: bold\">[y/n]</span> <span style=\"color: #008080; text-decoration-color: #008080; font-weight: bold\">(y)</span>: </pre>\n"
      ],
      "text/plain": [
       "Do you want to use one of your existing projects?  \u001b[1;35m[y/n]\u001b[0m \u001b[1;36m(y)\u001b[0m: "
      ]
     },
     "metadata": {},
     "output_type": "display_data"
    },
    {
     "name": "stdout",
     "output_type": "stream",
     "text": [
      "y\n"
     ]
    },
    {
     "data": {
      "text/html": [
       "<pre style=\"white-space:pre;overflow-x:auto;line-height:normal;font-family:Menlo,'DejaVu Sans Mono',consolas,'Courier New',monospace\">Please select one of the following projects by number:\n",
       "1. aniketmaurya/agents\n",
       " <span style=\"color: #800080; text-decoration-color: #800080; font-weight: bold\">[1]</span> <span style=\"color: #008080; text-decoration-color: #008080; font-weight: bold\">(1)</span>: </pre>\n"
      ],
      "text/plain": [
       "Please select one of the following projects by number:\n",
       "1. aniketmaurya/agents\n",
       " \u001b[1;35m[1]\u001b[0m \u001b[1;36m(1)\u001b[0m: "
      ]
     },
     "metadata": {},
     "output_type": "display_data"
    },
    {
     "name": "stdout",
     "output_type": "stream",
     "text": [
      "1\n"
     ]
    },
    {
     "data": {
      "text/html": [
       "<pre style=\"white-space:pre;overflow-x:auto;line-height:normal;font-family:Menlo,'DejaVu Sans Mono',consolas,'Courier New',monospace\">Project initialized successfully. You will be able to view it at: https://logfire.pydantic.dev/aniketmaurya/agents\n",
       "Press Enter to continue: </pre>\n"
      ],
      "text/plain": [
       "Project initialized successfully. You will be able to view it at: https://logfire.pydantic.dev/aniketmaurya/agents\n",
       "Press Enter to continue: "
      ]
     },
     "metadata": {},
     "output_type": "display_data"
    },
    {
     "name": "stdout",
     "output_type": "stream",
     "text": [
      "\n"
     ]
    },
    {
     "data": {
      "text/html": [
       "<pre style=\"white-space:pre;overflow-x:auto;line-height:normal;font-family:Menlo,'DejaVu Sans Mono',consolas,'Courier New',monospace\"><span style=\"font-weight: bold\">Logfire</span> project URL: <a href=\"https://logfire.pydantic.dev/aniketmaurya/agents\" target=\"_blank\"><span style=\"color: #008080; text-decoration-color: #008080; text-decoration: underline\">https://logfire.pydantic.dev/aniketmaurya/agents</span></a>\n",
       "</pre>\n"
      ],
      "text/plain": [
       "\u001b[1mLogfire\u001b[0m project URL: \u001b]8;id=637266;https://logfire.pydantic.dev/aniketmaurya/agents\u001b\\\u001b[4;36mhttps://logfire.pydantic.dev/aniketmaurya/agents\u001b[0m\u001b]8;;\u001b\\\n"
      ]
     },
     "metadata": {},
     "output_type": "display_data"
    },
    {
     "name": "stdout",
     "output_type": "stream",
     "text": [
      "02:07:36.988 Function wikipedia invoked with {'query': 'mayor of London 2024'}\n",
      "02:07:53.238 Function wikipedia, responded with Page: 2024 London mayoral election\n",
      "Summary: The 2024 London mayoral election was held on 2 May 2024 to elect the next mayor of London. It took place simultaneously with elections to the London Assembly, some local council by-elections in London and regular local elections elsewhere in England and Wales. Following the Elections Act 2022, voting in this election took place under the first-past-the-post system for the first time, replacing the supplementary vote system. The results of the election were announced on 4 May 2024.\n",
      "Sadiq Khan of the Labour Party, who has served as the mayor of London since 2016, was re-elected as mayor and became the first person to be elected to the role for three terms. The Conservative Party stood former London Assembly Conservative leader Susan Hall as their candidate, the Green Party nominated Hackney borough councillor Zoë Garbett, the Liberal Democrats nominated Rob Blackie, and Reform UK nominated Howard Cox. There were eight other candidates.\n",
      "\n",
      "\n"
     ]
    }
   ],
   "source": [
    "output = llm.create_chat_completion(\n",
    "    messages=[{\"role\": \"user\", \"content\": \"Who won the mayor election in London in 2024\"}],\n",
    "    tools=registry.openai_tools,\n",
    ")\n",
    "tool_response = registry.call_tool(output)\n",
    "# print(tool_response)"
   ]
  },
  {
   "cell_type": "code",
   "execution_count": null,
   "id": "65ca16a204c7c68d",
   "metadata": {},
   "outputs": [],
   "source": []
  }
 ],
 "metadata": {
  "kernelspec": {
   "display_name": "Python 3 (ipykernel)",
   "language": "python",
   "name": "python3"
  },
  "language_info": {
   "codemirror_mode": {
    "name": "ipython",
    "version": 3
   },
   "file_extension": ".py",
   "mimetype": "text/x-python",
   "name": "python",
   "nbconvert_exporter": "python",
   "pygments_lexer": "ipython3",
   "version": "3.10.13"
  }
 },
 "nbformat": 4,
 "nbformat_minor": 5
}
